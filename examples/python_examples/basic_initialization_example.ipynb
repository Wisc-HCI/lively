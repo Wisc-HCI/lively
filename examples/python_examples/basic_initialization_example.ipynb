{
 "cells": [
  {
   "cell_type": "code",
   "execution_count": 11,
   "metadata": {},
   "outputs": [
    {
     "ename": "ModuleNotFoundError",
     "evalue": "No module named 'lively'",
     "output_type": "error",
     "traceback": [
      "\u001b[0;31m---------------------------------------------------------------------------\u001b[0m",
      "\u001b[0;31mModuleNotFoundError\u001b[0m                       Traceback (most recent call last)",
      "\u001b[1;32m/Users/hunterzhang/Desktop/Terminal/livelyTK/lively_tk/examples/python_examples/basic_initialization_example.ipynb Cell 1\u001b[0m in \u001b[0;36m<cell line: 1>\u001b[0;34m()\u001b[0m\n\u001b[0;32m----> <a href='vscode-notebook-cell:/Users/hunterzhang/Desktop/Terminal/livelyTK/lively_tk/examples/python_examples/basic_initialization_example.ipynb#W0sZmlsZQ%3D%3D?line=0'>1</a>\u001b[0m \u001b[39mfrom\u001b[39;00m \u001b[39mlively\u001b[39;00m \u001b[39mimport\u001b[39;00m Solver\n",
      "\u001b[0;31mModuleNotFoundError\u001b[0m: No module named 'lively'"
     ]
    }
   ],
   "source": [
    "from lively import Solver\n"
   ]
  },
  {
   "cell_type": "markdown",
   "metadata": {},
   "source": []
  },
  {
   "cell_type": "code",
   "execution_count": null,
   "metadata": {},
   "outputs": [],
   "source": [
    "solver = Solver(\n",
    "  urdf='<?xml version=\"1.0\" ?><robot name=\"panda\">...</robot>', # Full urdf as a string\n",
    "  objectives={\n",
    "      \"PositionMatchObjective\" : PositionMatchObjective(name=\"EE Position\",link=\"panda_hand\",weight=50),\n",
    "      \"OrientationMatchObjective\" :  OrientationMatchObjective(name=\"EE Rotation\",link=\"panda_hand\",weight=25),\n",
    "      \"SmoothnessMacroObjective\":SmoothnessMacroObjective(name=\"General Smoothness\",weight=10),\n",
    "      \"CollisionAvoidanceObjective\":CollisionAvoidanceObjective(name=\"Collision Avoidance\",weight=10)\n",
    "  },\n",
    "  root_bounds=[\n",
    "      ScalarRange(value=0.0,delta=0.0),ScalarRange(value=0.0,delta=0.0),ScalarRange(value=0.0,delta=0.0), # Translational, (x, y, z)\n",
    "      ScalarRange(value=0.0,delta=0.0),ScalarRange(value=0.0,delta=0.0),ScalarRange(value=0.0,delta=0.0)  # Rotational, (r, p, y)\n",
    "  ],\n",
    "  shapes=[\n",
    "      BoxShape(name=\"Table\",frame=\"world\",physical=True,x=2,y=1,z=1.2,local_transform=Transform.isometry())\n",
    "  ],\n",
    "  initial_state=State(origin=Transform.identity(),joints={\"panda_joint1\":0.0,\"panda_joint2\":0.0,...}), # Optional\n",
    "  only_core=False, # Only use this flag if you are not using liveliness objectives and want a slight speed-up.\n",
    "  max_retries=1, # Number of times the solution is attempted (default 1)\n",
    "  max_iterations=150, # Number of iterations per try (default 150)\n",
    "  collision_settings = CollisionSettingInfo(\n",
    "      d_max = 0.3,\n",
    "      r = 0.0,\n",
    "      a_max = 2.0,\n",
    "      time_budget = 100,\n",
    "      timed = True))"
   ]
  }
 ],
 "metadata": {
  "kernelspec": {
   "display_name": "Python 3",
   "language": "python",
   "name": "python3"
  },
  "language_info": {
   "codemirror_mode": {
    "name": "ipython",
    "version": 3
   },
   "file_extension": ".py",
   "mimetype": "text/x-python",
   "name": "python",
   "nbconvert_exporter": "python",
   "pygments_lexer": "ipython3",
   "version": "3.10.5"
  },
  "orig_nbformat": 4,
  "vscode": {
   "interpreter": {
    "hash": "5984c07bd85a09704efeebc43c280456997f3d9e1810f10980d19f89f173e200"
   }
  }
 },
 "nbformat": 4,
 "nbformat_minor": 2
}
