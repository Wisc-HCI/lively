{
 "cells": [
  {
   "cell_type": "code",
   "execution_count": 1,
   "metadata": {},
   "outputs": [],
   "source": [
    "import lively "
   ]
  },
  {
   "cell_type": "markdown",
   "metadata": {},
   "source": []
  },
  {
   "cell_type": "code",
   "execution_count": null,
   "metadata": {},
   "outputs": [],
   "source": [
    "solver = Solver(\n",
    "  urdf='<?xml version=\"1.0\" ?><robot name=\"panda\">...</robot>', # Full urdf as a string\n",
    "  objectives={\n",
    "      \"PositionMatchObjective\" : PositionMatchObjective(name=\"EE Position\",link=\"panda_hand\",weight=50),\n",
    "      \"OrientationMatchObjective\" :  OrientationMatchObjective(name=\"EE Rotation\",link=\"panda_hand\",weight=25),\n",
    "      \"SmoothnessMacroObjective\":SmoothnessMacroObjective(name=\"General Smoothness\",weight=10),\n",
    "      \"CollisionAvoidanceObjective\":CollisionAvoidanceObjective(name=\"Collision Avoidance\",weight=10)\n",
    "  },\n",
    "  root_bounds=[\n",
    "      ScalarRange(value=0.0,delta=0.0),ScalarRange(value=0.0,delta=0.0),ScalarRange(value=0.0,delta=0.0), # Translational, (x, y, z)\n",
    "      ScalarRange(value=0.0,delta=0.0),ScalarRange(value=0.0,delta=0.0),ScalarRange(value=0.0,delta=0.0)  # Rotational, (r, p, y)\n",
    "  ],\n",
    "  shapes=[\n",
    "      BoxShape(name=\"Table\",frame=\"world\",physical=True,x=2,y=1,z=1.2,local_transform=Transform.isometry())\n",
    "  ],\n",
    "  initial_state=State(origin=Transform.identity(),joints={\"panda_joint1\":0.0,\"panda_joint2\":0.0}), # Optional\n",
    "  only_core=False, # Only use this flag if you are not using liveliness objectives and want a slight speed-up.\n",
    "  max_retries=1, # Number of times the solution is attempted (default 1)\n",
    "  max_iterations=150, # Number of iterations per try (default 150)\n",
    "  collision_settings = CollisionSettingInfo(\n",
    "      d_max = 0.3,\n",
    "      r = 0.0,\n",
    "      a_max = 2.0,\n",
    "      time_budget = 100,\n",
    "      timed = True))"
   ]
  }
 ],
 "metadata": {
  "kernelspec": {
   "display_name": "base",
   "language": "python",
   "name": "python3"
  },
  "language_info": {
   "codemirror_mode": {
    "name": "ipython",
    "version": 3
   },
   "file_extension": ".py",
   "mimetype": "text/x-python",
   "name": "python",
   "nbconvert_exporter": "python",
   "pygments_lexer": "ipython3",
   "version": "3.8.8"
  },
  "orig_nbformat": 4,
  "vscode": {
   "interpreter": {
    "hash": "d63fb22d2eb77a4d242eaa81b607b4036aaf35ce987638ccbb395621be85a420"
   }
  }
 },
 "nbformat": 4,
 "nbformat_minor": 2
}
