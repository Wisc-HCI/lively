{
 "cells": [
  {
   "cell_type": "code",
   "execution_count": 2,
   "metadata": {},
   "outputs": [
    {
     "name": "stdout",
     "output_type": "stream",
     "text": [
      "({'x': 0.0, 'y': 0.0, 'z': 0.0}, {'y': 0.0, 'x': 0.0, 'z': 0.0, 'w': 1.0})\n",
      "{'panda_joint6': 1.8675015722945842, 'panda_joint4': -1.570800969835441, 'panda_joint3': -1.2301865464852419e-06, 'panda_finger_joint1': 0.01999861364072255, 'panda_finger_joint2': 0.01999861364072255, 'panda_joint2': -1.7131994852160579e-06, 'panda_joint5': -2.634157007465608e-07, 'panda_joint7': -2.416544630208179e-07, 'panda_joint1': -1.2301865464852419e-06}\n",
      "TransformInfo: world:{translation: {x:0.0, y:0.0, z:0.0}, rotation: {w:1.0, x:0.0, y:0.0, z:0.0}}, local: {translation: {x:0.0, y:0.0, z:0.0}, rotation: {w:1.0, x:0.0, y:0.0, z:0.0}}\n",
      "[ProximityInfo: {shape1: \"panda_link1\", shape2: \"panda_link2\", distance: -0.0499999999999884, points: Some(([-9.762064951994077e-8, 1.979876326639642e-13, 0.3929999999999145], [-2.2303314444837443e-8, 1.0922859838835564e-13, 0.3429999999999828])), physical: true, loss: 1.0499999999999885, average_distance: Some(1.0)}, ProximityInfo: {shape1: \"panda_link2\", shape2: \"panda_link3\", distance: -0.030881036620739155, points: Some(([0.057061515735794266, -1.4039315365810268e-7, 0.6415452614473451], [0.027692613778595228, -6.813460317960824e-8, 0.6320003140617051])), physical: true, loss: 1.0308810366207393, average_distance: Some(1.0)}, ProximityInfo: {shape1: \"panda_link3\", shape2: \"panda_link5\", distance: -0.023348387693853577, points: Some(([0.09681985571433593, -2.3821318645033566e-7, 0.7013649557974246], [0.08967930325457063, -2.206451440937816e-7, 0.6791352522800246])), physical: true, loss: 1.0233483876938536, average_distance: Some(1.0)}, ProximityInfo: {shape1: \"panda_hand\", shape2: \"panda_rightfinger\", distance: 0.0008999999999998835, points: Some(([0.5831702365233148, 0.020110909136359278, 0.5820810578684272], [0.583433367909921, 0.02011090826224455, 0.5812203826257359])), physical: true, loss: 0.9999746878203586, average_distance: Some(1.0)}, ProximityInfo: {shape1: \"panda_hand\", shape2: \"panda_leftfinger\", distance: 0.0008999999999998835, points: Some(([0.6216373347874353, -0.020113949033537398, 0.5938415170567798], [0.6219004661740415, -0.020113949907652164, 0.5929808418140884])), physical: true, loss: 0.9999746878203586, average_distance: Some(1.0)}, ProximityInfo: {shape1: \"panda_link7\", shape2: \"panda_hand\", distance: 0.0019999999999998977, points: Some(([0.6068169600295562, -0.02957584143856602, 0.6750571708173436], [0.6074016964442367, -0.02957584338104312, 0.6731445591669183])), physical: true, loss: 0.9998750078121745, average_distance: Some(1.0)}, ProximityInfo: {shape1: \"panda_link6\", shape2: \"panda_link7\", distance: 0.004000000000000049, points: Some(([0.5651161043574899, -0.0023543363025256623, 0.7135469176886865], [0.5662855771868509, -0.0023543401874800344, 0.7097216943878357])), physical: true, loss: 0.9995001249791693, average_distance: Some(1.0)}, ProximityInfo: {shape1: \"panda_link5\", shape2: \"panda_link6\", distance: 0.005000000000000088, points: Some(([0.509533462239429, -1.2501026439577296e-6, 0.7446555863706565], [0.5143149913654791, -1.261481917135799e-6, 0.7461174274073653])), physical: true, loss: 0.9992190550963239, average_distance: Some(1.0)}, ProximityInfo: {shape1: \"panda_link5\", shape2: \"panda_link7\", distance: 0.020946949845548072, points: Some(([0.5045345532043518, -0.00500124505208801, 0.7074501305076769], [0.5222392500423345, -0.005001291659713455, 0.6962555596045623])), physical: true, loss: 0.9863818676807479, average_distance: Some(1.0)}, ProximityInfo: {shape1: \"panda_link2\", shape2: \"panda_link5\", distance: 0.03703483428838567, points: Some(([0.042041524241824925, -1.0343853640293332e-7, 0.6658072746470125], [0.06796118102643395, -1.672106183135585e-7, 0.6922600692618024])), physical: true, loss: 0.9580437421287793, average_distance: Some(1.0)}, ProximityInfo: {shape1: \"panda_leftfinger\", shape2: \"panda_rightfinger\", distance: 0.03899722728144503, points: Some(([0.6218455985965508, -0.013789170708893518, 0.571527403868566], [0.5954753319883623, 0.013786089242703354, 0.5634652817375385])), physical: true, loss: 0.9535871178400358, average_distance: Some(1.0)}, ProximityInfo: {shape1: \"panda_link6\", shape2: \"panda_hand\", distance: 0.050999999999999934, points: Some(([0.566503298715892, -0.00523578690065786, 0.7139710229442249], [0.5814140772902452, -0.005235836433826403, 0.6651994258583782])), physical: true, loss: 0.9219343609389513, average_distance: Some(1.0)}, ProximityInfo: {shape1: \"panda_link5\", shape2: \"panda_hand\", distance: 0.052051042268186395, points: Some(([0.48104213917750155, 0.0565673269086174, 0.6889135404030345], [0.49786921510773974, 0.056567272852886125, 0.6396574695402504])), physical: true, loss: 0.9188191474214422, average_distance: Some(1.0)}, ProximityInfo: {shape1: \"panda_link7\", shape2: \"panda_leftfinger\", distance: 0.08289999999999977, points: Some(([0.60447907986138, -0.027158183856370234, 0.6743424160141755], [0.6287164042498875, -0.027158264372050045, 0.5950646631040447])), physical: true, loss: 0.8067327644141317, average_distance: Some(1.0)}, ProximityInfo: {shape1: \"panda_link7\", shape2: \"panda_rightfinger\", distance: 0.08789999999999967, points: Some(([0.5569008563516047, 0.013237851592415997, 0.6650248954937977], [0.5826000217768135, 0.013237766220543193, 0.5809656134576033])), physical: true, loss: 0.7854878317460176, average_distance: Some(1.0)}, ProximityInfo: {shape1: \"panda_link6\", shape2: \"panda_leftfinger\", distance: 0.13189999999999982, points: Some(([0.5842056270636276, -0.013849722678022577, 0.7193831058098834], [0.6227689936118077, -0.013849850784393897, 0.5932463674643313])), physical: true, loss: 0.5806104014792387, average_distance: Some(1.0)}, ProximityInfo: {shape1: \"panda_link6\", shape2: \"panda_rightfinger\", distance: 0.13189999999999988, points: Some(([0.5515820075633474, 0.020745286758920775, 0.7094091597156673], [0.5901453741115276, 0.020745158652549608, 0.5832724213701151])), physical: true, loss: 0.5806104014792384, average_distance: Some(1.0)}, ProximityInfo: {shape1: \"panda_link5\", shape2: \"panda_rightfinger\", distance: 0.13964848698185503, points: Some(([0.49070218455226844, 0.02439297702284255, 0.6935616599111221], [0.5658144456966269, 0.024392761214751327, 0.5758338036405838])), physical: true, loss: 0.5436616881403538, average_distance: Some(1.0)}, ProximityInfo: {shape1: \"panda_link5\", shape2: \"panda_leftfinger\", distance: 0.15654313025356378, points: Some(([0.49833024699552675, -0.020859901073249334, 0.699690013331404], [0.6090899312437624, -0.02086020422638247, 0.5890643202274803])), physical: true, loss: 0.4649596095154629, average_distance: Some(1.0)}, ProximityInfo: {shape1: \"panda_link0\", shape2: \"panda_link2\", distance: 0.2079999999998994, points: Some(([-1.2254803689881744e-7, 7.527426856581426e-9, 0.13500000000000006], [-1.225480360219967e-7, 7.527422475270273e-9, 0.3429999999998995])), physical: true, loss: 0.2587222982599785, average_distance: Some(1.0)}, ProximityInfo: {shape1: \"panda_link0\", shape2: \"panda_link1\", distance: -0.05199999999999998, points: Some(([-1.4905646161800234e-12, 1.7065534003944559e-12, 0.135], [-1.4905639268752654e-12, 1.7065535735900033e-12, 0.08300000000000002])), physical: true, loss: 1.052, average_distance: Some(1.0)}, ProximityInfo: {shape1: \"panda_link1\", shape2: \"panda_link5\", distance: 0.29748574922010207, points: Some(([0.015486228321714998, -1.323270661408168e-7, 0.39096703142038497], [0.09230399104529263, -2.2639953254698387e-7, 0.6783636255532679])), physical: true, loss: 0.0629411356957169, average_distance: Some(1.0)}, ProximityInfo: {shape1: \"panda_link1\", shape2: \"panda_link3\", distance: 0.2109692921181957, points: Some(([0.014725076840183753, -0.11000293290203246, 0.3911650068801742], [0.06650107683351623, -0.110002982936156, 0.5956822140817702])), physical: true, loss: 0.24885713074983476, average_distance: Some(1.0)}, ProximityInfo: {shape1: \"panda_link2\", shape2: \"panda_link6\", distance: 0.3, points: None, physical: true, loss: 0.0, average_distance: Some(1.0)}, ProximityInfo: {shape1: \"panda_link3\", shape2: \"panda_leftfinger\", distance: 0.3, points: None, physical: true, loss: 0.0, average_distance: Some(1.0)}, ProximityInfo: {shape1: \"panda_link1\", shape2: \"panda_rightfinger\", distance: 0.3, points: None, physical: true, loss: 0.0, average_distance: Some(1.0)}, ProximityInfo: {shape1: \"panda_link3\", shape2: \"panda_link7\", distance: 0.3, points: None, physical: true, loss: 0.0, average_distance: Some(1.0)}, ProximityInfo: {shape1: \"panda_link3\", shape2: \"panda_hand\", distance: 0.3, points: None, physical: true, loss: 0.0, average_distance: Some(1.0)}, ProximityInfo: {shape1: \"panda_link1\", shape2: \"panda_leftfinger\", distance: 0.3, points: None, physical: true, loss: 0.0, average_distance: Some(1.0)}, ProximityInfo: {shape1: \"panda_link3\", shape2: \"panda_rightfinger\", distance: 0.3, points: None, physical: true, loss: 0.0, average_distance: Some(1.0)}, ProximityInfo: {shape1: \"panda_link2\", shape2: \"panda_hand\", distance: 0.3, points: None, physical: true, loss: 0.0, average_distance: Some(1.0)}, ProximityInfo: {shape1: \"panda_link2\", shape2: \"panda_link7\", distance: 0.3, points: None, physical: true, loss: 0.0, average_distance: Some(1.0)}, ProximityInfo: {shape1: \"panda_link2\", shape2: \"panda_leftfinger\", distance: 0.3, points: None, physical: true, loss: 0.0, average_distance: Some(1.0)}, ProximityInfo: {shape1: \"panda_link3\", shape2: \"panda_link6\", distance: 0.3, points: None, physical: true, loss: 0.0, average_distance: Some(1.0)}, ProximityInfo: {shape1: \"panda_link0\", shape2: \"panda_link3\", distance: 0.3, points: None, physical: true, loss: 0.0, average_distance: Some(1.0)}, ProximityInfo: {shape1: \"panda_link0\", shape2: \"panda_link6\", distance: 0.3, points: None, physical: true, loss: 0.0, average_distance: Some(1.0)}, ProximityInfo: {shape1: \"panda_link1\", shape2: \"panda_link7\", distance: 0.3, points: None, physical: true, loss: 0.0, average_distance: Some(1.0)}, ProximityInfo: {shape1: \"panda_link1\", shape2: \"panda_link6\", distance: 0.3, points: None, physical: true, loss: 0.0, average_distance: Some(1.0)}, ProximityInfo: {shape1: \"panda_link2\", shape2: \"panda_rightfinger\", distance: 0.3, points: None, physical: true, loss: 0.0, average_distance: Some(1.0)}, ProximityInfo: {shape1: \"panda_link0\", shape2: \"panda_rightfinger\", distance: 0.3, points: None, physical: true, loss: 0.0, average_distance: Some(1.0)}, ProximityInfo: {shape1: \"panda_link0\", shape2: \"panda_leftfinger\", distance: 0.3, points: None, physical: true, loss: 0.0, average_distance: Some(1.0)}, ProximityInfo: {shape1: \"panda_link0\", shape2: \"panda_hand\", distance: 0.3, points: None, physical: true, loss: 0.0, average_distance: Some(1.0)}, ProximityInfo: {shape1: \"panda_link0\", shape2: \"panda_link7\", distance: 0.3, points: None, physical: true, loss: 0.0, average_distance: Some(1.0)}, ProximityInfo: {shape1: \"panda_link1\", shape2: \"panda_hand\", distance: 0.3, points: None, physical: true, loss: 0.0, average_distance: Some(1.0)}, ProximityInfo: {shape1: \"panda_link0\", shape2: \"panda_link5\", distance: 0.3, points: None, physical: true, loss: 0.0, average_distance: Some(1.0)}]\n"
     ]
    }
   ],
   "source": [
    "from lively import Solver, SmoothnessMacroObjective\n",
    "from lxml import etree\n",
    "\n",
    "# Read the xml file into a string\n",
    "xml_file = '../../tests/panda.xml'\n",
    "tree = etree.parse(xml_file)\n",
    "xml_string = etree.tostring(tree).decode()\n",
    "#print(xml_string)\n",
    "# Instantiate a new solver\n",
    "solver = Solver(\n",
    "  urdf=xml_string, # Full urdf as a string\n",
    "  objectives={\n",
    "      # An example objective (smoothness macro)\n",
    "      \"smoothness\":SmoothnessMacroObjective(name=\"MySmoothnessObjective\",weight=5,joints=True,origin=False,links=True)\n",
    "  }\n",
    ")\n",
    "\n",
    "# Run solve to get a solved state\n",
    "state = solver.solve(goals = {}, weights = {}, time=0.0)\n",
    "# Log the initial state\n",
    "print(state.origin.as_dicts())\n",
    "print(state.joints)\n",
    "print(state.frames[\"panda_link0\"])\n",
    "print(state.proximity)"
   ]
  },
  {
   "cell_type": "markdown",
   "metadata": {},
   "source": []
  },
  {
   "cell_type": "code",
   "execution_count": null,
   "metadata": {},
   "outputs": [],
   "source": []
  }
 ],
 "metadata": {
  "kernelspec": {
   "display_name": "base",
   "language": "python",
   "name": "python3"
  },
  "language_info": {
   "codemirror_mode": {
    "name": "ipython",
    "version": 3
   },
   "file_extension": ".py",
   "mimetype": "text/x-python",
   "name": "python",
   "nbconvert_exporter": "python",
   "pygments_lexer": "ipython3",
   "version": "3.8.8"
  },
  "orig_nbformat": 4,
  "vscode": {
   "interpreter": {
    "hash": "d63fb22d2eb77a4d242eaa81b607b4036aaf35ce987638ccbb395621be85a420"
   }
  }
 },
 "nbformat": 4,
 "nbformat_minor": 2
}
