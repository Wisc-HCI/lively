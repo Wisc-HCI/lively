{
 "cells": [
  {
   "cell_type": "code",
   "execution_count": 26,
   "metadata": {},
   "outputs": [
    {
     "name": "stdout",
     "output_type": "stream",
     "text": [
      "({'x': 0.0, 'y': 0.0, 'z': 0.0}, {'y': 0.0, 'x': 0.0, 'w': 1.0, 'z': 0.0})\n",
      "{'panda_joint6': 1.8675015722945842, 'panda_joint4': -1.570800969835441, 'panda_joint3': -1.2301865464852419e-06, 'panda_joint7': -2.416544630208179e-07, 'panda_finger_joint1': 0.01999861364072255, 'panda_joint2': -1.7131994852160579e-06, 'panda_finger_joint2': 0.01999861364072255, 'panda_joint1': -1.2301865464852419e-06, 'panda_joint5': -2.634157007465608e-07}\n",
      "<builtins.TransformInfo object at 0x7f8b588e1f60>\n"
     ]
    }
   ],
   "source": [
    "from lively import Solver, SmoothnessMacroObjective\n",
    "from lxml import etree\n",
    "\n",
    "# Read the xml file into a string\n",
    "xml_file = '../../tests/panda.xml'\n",
    "tree = etree.parse(xml_file)\n",
    "xml_string = etree.tostring(tree).decode()\n",
    "#print(xml_string)\n",
    "# Instantiate a new solver\n",
    "solver = Solver(\n",
    "  urdf=xml_string, # Full urdf as a string\n",
    "  objectives={\n",
    "      # An example objective (smoothness macro)\n",
    "      \"smoothness\":SmoothnessMacroObjective(name=\"MySmoothnessObjective\",weight=5,joints=True,origin=False,links=True)\n",
    "  }\n",
    ")\n",
    "\n",
    "# Run solve to get a solved state\n",
    "state = solver.solve(goals = {}, weights = {}, time=0.0)\n",
    "# Log the initial statse\n",
    "print(state.origin.as_dicts())\n",
    "print(state.joints)\n",
    "print(state.frames[\"panda_link0\"])\n",
    "#print(state.proximity[0].shape1)"
   ]
  },
  {
   "cell_type": "markdown",
   "metadata": {},
   "source": []
  },
  {
   "cell_type": "code",
   "execution_count": null,
   "metadata": {},
   "outputs": [],
   "source": []
  }
 ],
 "metadata": {
  "kernelspec": {
   "display_name": "base",
   "language": "python",
   "name": "python3"
  },
  "language_info": {
   "codemirror_mode": {
    "name": "ipython",
    "version": 3
   },
   "file_extension": ".py",
   "mimetype": "text/x-python",
   "name": "python",
   "nbconvert_exporter": "python",
   "pygments_lexer": "ipython3",
   "version": "3.8.8"
  },
  "orig_nbformat": 4,
  "vscode": {
   "interpreter": {
    "hash": "d63fb22d2eb77a4d242eaa81b607b4036aaf35ce987638ccbb395621be85a420"
   }
  }
 },
 "nbformat": 4,
 "nbformat_minor": 2
}
