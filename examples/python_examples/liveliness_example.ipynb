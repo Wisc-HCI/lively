{
 "cells": [
  {
   "cell_type": "code",
   "execution_count": 1,
   "metadata": {},
   "outputs": [
    {
     "name": "stdout",
     "output_type": "stream",
     "text": [
      "({'z': 0.0, 'x': 0.0, 'y': 0.0}, {'y': 0.0, 'x': 0.0, 'z': 0.0, 'w': 1.0})\n",
      "{'panda_finger_joint2': 0.029211291676823688, 'panda_joint5': -3.90060211223606e-08, 'panda_joint6': 1.8675023747662598, 'panda_joint7': -0.0001456668049438404, 'panda_joint1': -1.752150322748814e-07, 'panda_joint4': -1.5708393176936717, 'panda_joint2': -4.5450760628263015e-06, 'panda_finger_joint1': 0.029211291676823688, 'panda_joint3': -1.7522326112491775e-07}\n",
      "TransformInfo: world:{translation: {x:0.0, y:0.0, z:0.0}, rotation: {w:1.0, x:0.0, y:0.0, z:0.0}}, local: {translation: {x:0.0, y:0.0, z:0.0}, rotation: {w:1.0, x:0.0, y:0.0, z:0.0}}\n",
      "[ProximityInfo: {shape1: \"panda_link1\", shape2: \"panda_link2\", distance: -0.04999999999998843, points: Some(([-2.675236318150422e-7, 1.2481875700535767e-13, 0.3929999999993975], [-5.063169258167043e-8, 9.069134332406747e-14, 0.3429999999998795])), physical: true, loss: 1.0499999999999885, average_distance: Some(1.0)}, ProximityInfo: {shape1: \"panda_link3\", shape2: \"panda_link5\", distance: -0.023348296418155542, points: Some(([0.09682078812534689, -3.393276445305419e-8, 0.7013645953573094], [0.08967951114752737, -3.1427329972750513e-8, 0.6791352204503066])), physical: true, loss: 1.0233482964181555, average_distance: Some(1.0)}, ProximityInfo: {shape1: \"panda_hand\", shape2: \"panda_leftfinger\", distance: 0.0008999999999999946, points: Some(([0.6210171652714955, -0.032341213102190854, 0.5936339714033075], [0.6212802667808859, -0.03234121322796247, 0.5927732870269207])), physical: true, loss: 0.9999746878203586, average_distance: Some(1.0)}, ProximityInfo: {shape1: \"panda_link6\", shape2: \"panda_link7\", distance: 0.003999999999999979, points: Some(([0.5651178482257132, -0.002353139890966488, 0.713530189309472], [0.5662871882674483, -0.0023531404499514902, 0.7097049254144192])), physical: true, loss: 0.9995001249791693, average_distance: Some(1.0)}, ProximityInfo: {shape1: \"panda_link5\", shape2: \"panda_link7\", distance: 0.02094742396257695, points: Some(([0.504535964179737, -0.005000175066358157, 0.7074357213604086], [0.5222407674104456, -0.005000181806153784, 0.6962404315816761])), physical: true, loss: 0.986381255420272, average_distance: Some(1.0)}, ProximityInfo: {shape1: \"panda_leftfinger\", shape2: \"panda_rightfinger\", distance: 0.057422583353647375, points: Some(([0.6280747059925088, -0.020299217773004096, 0.5734138391739805], [0.5892389080332578, 0.020298778385183135, 0.561542167690376])), physical: true, loss: 0.9020888290045583, average_distance: Some(1.0)}, ProximityInfo: {shape1: \"panda_link5\", shape2: \"panda_hand\", distance: 0.052050775882432704, points: Some(([0.481038769756655, 0.05655601108316261, 0.688898344130712], [0.4978600762390821, 0.056556003604602154, 0.6396405841513195])), physical: true, loss: 0.918819943671646, average_distance: Some(1.0)}, ProximityInfo: {shape1: \"panda_link7\", shape2: \"panda_rightfinger\", distance: 0.0878999999999999, points: Some(([0.5514436054382194, 0.01753084080823499, 0.6633402269921085], [0.5771398528553485, 0.017530828524538477, 0.579280052898323])), physical: true, loss: 0.7854878317460166, average_distance: Some(1.0)}]\n"
     ]
    }
   ],
   "source": [
    "from lively import CollisionAvoidanceObjective, PositionLivelinessObjective, Solver, Translation, Rotation, Transform, SmoothnessMacroObjective, BoxShape, CollisionSettingInfo, ScalarRange, OrientationLivelinessObjective\n",
    "from lxml import etree\n",
    "\n",
    "# Constructed box Shape and configured Collision Setting \n",
    "box = BoxShape(name=\"Table\",frame=\"world\",physical=True,x=2,y=1,z=1.2, translation = Translation(x=1.0, y =2.0, z=3.0), rotation = Rotation(x=0.0,y=0.0,z=0.0,w=1.0))\n",
    "collision = CollisionSettingInfo(d_max = 0.1, r = 0.0, a_max = 2.0, time_budget = 100, timed = False)\n",
    "\n",
    "# Read the xml file into a string\n",
    "xml_file = '../../tests/panda.xml'\n",
    "tree = etree.parse(xml_file)\n",
    "xml_string = etree.tostring(tree).decode()\n",
    "\n",
    "#print(xml_string)\n",
    "# Instantiate a new solver\n",
    "solver = Solver(\n",
    "  urdf=xml_string, # Full urdf as a string\n",
    "  objectives={\n",
    "      # An example objectives\n",
    "      \"smoothness\":SmoothnessMacroObjective(name=\"MySmoothnessObjective\",weight=5,joints=True,origin=False,links=True),\n",
    "      \"collision\": CollisionAvoidanceObjective(name=\"MyCollisionAvoidanceObjective\", weight=5),\n",
    "      # Livelyliness objectives\n",
    "      \"positionLiveliness\": PositionLivelinessObjective(name=\"MyPosLivelinessObjective\",link=\"l_shoulder1\",frequency=7,weight=25),\n",
    "      \"orientationLiveliness\": OrientationLivelinessObjective(name=\"MyOrtLivelinessObjective\", link=\"l_shoulder1\",frequency=7,weight=25)\n",
    "      \n",
    "  },\n",
    "  root_bounds=[\n",
    "      ScalarRange(value=0.0,delta=0.0),ScalarRange(value=0.0,delta=0.0),ScalarRange(value=0.0,delta=0.0), # Translational, (x, y, z)\n",
    "      ScalarRange(value=0.0,delta=0.0),ScalarRange(value=0.0,delta=0.0),ScalarRange(value=0.0,delta=0.0)  # Rotational, (r, p, y)\n",
    "  ],\n",
    "  shapes=[\n",
    "      box\n",
    "  ],\n",
    "  collision_settings = collision\n",
    "\n",
    ")\n",
    "\n",
    "# Run solve to get a solved state\n",
    "state = solver.solve(goals= {\"myGoal\": Translation(x=1.0, y =2.0, z=3.0)},weights = {},time = 0.0)\n",
    "# Log the initial state\n",
    "print(state.origin.as_dicts())\n",
    "print(state.joints)\n",
    "print(state.frames[\"panda_link0\"])\n",
    "print(state.proximity)"
   ]
  }
 ],
 "metadata": {
  "kernelspec": {
   "display_name": "base",
   "language": "python",
   "name": "python3"
  },
  "language_info": {
   "codemirror_mode": {
    "name": "ipython",
    "version": 3
   },
   "file_extension": ".py",
   "mimetype": "text/x-python",
   "name": "python",
   "nbconvert_exporter": "python",
   "pygments_lexer": "ipython3",
   "version": "3.8.8"
  },
  "orig_nbformat": 4,
  "vscode": {
   "interpreter": {
    "hash": "d63fb22d2eb77a4d242eaa81b607b4036aaf35ce987638ccbb395621be85a420"
   }
  }
 },
 "nbformat": 4,
 "nbformat_minor": 2
}
