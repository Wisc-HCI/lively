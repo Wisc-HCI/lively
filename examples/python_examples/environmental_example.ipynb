{
 "cells": [
  {
   "cell_type": "code",
   "execution_count": 15,
   "metadata": {},
   "outputs": [
    {
     "ename": "AttributeError",
     "evalue": "'builtins.BoxShape' object has no attribute 'clone'",
     "output_type": "error",
     "traceback": [
      "\u001b[0;31m---------------------------------------------------------------------------\u001b[0m",
      "\u001b[0;31mAttributeError\u001b[0m                            Traceback (most recent call last)",
      "\u001b[0;32m<ipython-input-15-619fe3f8cacb>\u001b[0m in \u001b[0;36m<module>\u001b[0;34m\u001b[0m\n\u001b[1;32m     31\u001b[0m       \u001b[0mScalarRange\u001b[0m\u001b[0;34m(\u001b[0m\u001b[0mvalue\u001b[0m\u001b[0;34m=\u001b[0m\u001b[0;36m0.0\u001b[0m\u001b[0;34m,\u001b[0m\u001b[0mdelta\u001b[0m\u001b[0;34m=\u001b[0m\u001b[0;36m0.0\u001b[0m\u001b[0;34m)\u001b[0m\u001b[0;34m,\u001b[0m\u001b[0mScalarRange\u001b[0m\u001b[0;34m(\u001b[0m\u001b[0mvalue\u001b[0m\u001b[0;34m=\u001b[0m\u001b[0;36m0.0\u001b[0m\u001b[0;34m,\u001b[0m\u001b[0mdelta\u001b[0m\u001b[0;34m=\u001b[0m\u001b[0;36m0.0\u001b[0m\u001b[0;34m)\u001b[0m\u001b[0;34m,\u001b[0m\u001b[0mScalarRange\u001b[0m\u001b[0;34m(\u001b[0m\u001b[0mvalue\u001b[0m\u001b[0;34m=\u001b[0m\u001b[0;36m0.0\u001b[0m\u001b[0;34m,\u001b[0m\u001b[0mdelta\u001b[0m\u001b[0;34m=\u001b[0m\u001b[0;36m0.0\u001b[0m\u001b[0;34m)\u001b[0m  \u001b[0;31m# Rotational, (r, p, y)\u001b[0m\u001b[0;34m\u001b[0m\u001b[0;34m\u001b[0m\u001b[0m\n\u001b[1;32m     32\u001b[0m   ],\n\u001b[0;32m---> 33\u001b[0;31m   \u001b[0mshapes\u001b[0m\u001b[0;34m=\u001b[0m\u001b[0;34m[\u001b[0m\u001b[0mbox\u001b[0m\u001b[0;34m.\u001b[0m\u001b[0mclone\u001b[0m\u001b[0;34m(\u001b[0m\u001b[0;34m)\u001b[0m\u001b[0;34m]\u001b[0m\u001b[0;34m,\u001b[0m \u001b[0;31m# Static environmental shape cannot be moved ot deleted.\u001b[0m\u001b[0;34m\u001b[0m\u001b[0;34m\u001b[0m\u001b[0m\n\u001b[0m\u001b[1;32m     34\u001b[0m   \u001b[0mcollision_settings\u001b[0m \u001b[0;34m=\u001b[0m \u001b[0mcollision\u001b[0m\u001b[0;34m\u001b[0m\u001b[0;34m\u001b[0m\u001b[0m\n\u001b[1;32m     35\u001b[0m \u001b[0;34m\u001b[0m\u001b[0m\n",
      "\u001b[0;31mAttributeError\u001b[0m: 'builtins.BoxShape' object has no attribute 'clone'"
     ]
    }
   ],
   "source": [
    "from lively import  Solver,MoveShape,AddShape,Translation, Rotation,Transform,SmoothnessMacroObjective, CollisionAvoidanceObjective, JointLimitsObjective, BoxShape, CollisionSettingInfo, ScalarRange\n",
    "from lxml import etree\n",
    "\n",
    "# Define example BoxShape, AddShape, MoveShape, Delete, and CollisionSettingInfo \n",
    "\n",
    "box = BoxShape(name=\"Table\",frame=\"world\",physical=True,x=2,y=1,z=1.2,translation = Translation(x=0.0, y =0.0, z=0.0),rotation = Rotation(x=0.0,y=0.0,z=0.0,w=1.0))\n",
    "box_1 = BoxShape(name=\"ToBeMovedOrDeleted\",frame=\"world\",physical=True,x=2,y=1,z=1.2,translation = Translation(x=0.0, y =0.0, z=1.0),rotation = Rotation(x=0.0,y=0.0,z=0.0,w=1.0))\n",
    "addShape = AddShape(id = \"box_1\", shape = box_1)\n",
    "moveShape = MoveShape(id = \"box_1\", translation = Translation(x=-1.0, y =0.0, z=4.0),rotation = Rotation(x=0.0,y=0.0,z=0.0,w=1.0))\n",
    "deleteShape = \"box_1\" # Do not need to import classes from lively. Just pass in the string of the id of the shape you want to delete\n",
    "collision = CollisionSettingInfo(d_max = 0.8, r = 0.0, a_max = 2.0, time_budget = 100, timed = False)\n",
    "\n",
    "# Read the xml file into a string\n",
    "xml_file = '../../tests/panda.xml'\n",
    "tree = etree.parse(xml_file)\n",
    "xml_string = etree.tostring(tree).decode()\n",
    "\n",
    "#print(xml_string)\n",
    "# Instantiate a new solver\n",
    "solver = Solver(\n",
    "  urdf=xml_string, # Full urdf as a string\n",
    "  objectives={\n",
    "      # An example objectives\n",
    "      \"smoothness\":SmoothnessMacroObjective(name=\"MySmoothnessObjective\",weight=5,joints=True,origin=False,links=True),\n",
    "      \"collision\": CollisionAvoidanceObjective(name=\"MyCollisionAvoidanceObjective\", weight=5),\n",
    "      \"jointLimit\": JointLimitsObjective(name=\"MyJointLimitObjective\", weight=5)\n",
    "      \n",
    "  },\n",
    "  root_bounds=[\n",
    "      ScalarRange(value=0.0,delta=0.0),ScalarRange(value=0.0,delta=0.0),ScalarRange(value=0.0,delta=0.0), # Translational, (x, y, z)\n",
    "      ScalarRange(value=0.0,delta=0.0),ScalarRange(value=0.0,delta=0.0),ScalarRange(value=0.0,delta=0.0)  # Rotational, (r, p, y)\n",
    "  ],\n",
    "  shapes=[box], # Static environmental shape cannot be moved ot deleted. \n",
    "  collision_settings = collision\n",
    "\n",
    ")\n",
    "\n",
    "# Run solve to get a solved state\n",
    "state = solver.solve(goals= {},weights = {},time = 0.0,shape_updates = [addShape,moveShape,deleteShape])\n",
    "# Log the initial statse\n",
    "print(state.origin.as_dicts())\n",
    "print(state.joints)\n",
    "print(state.frames[\"panda_link0\"])\n",
    "print(state.proximity)"
   ]
  }
 ],
 "metadata": {
  "kernelspec": {
   "display_name": "base",
   "language": "python",
   "name": "python3"
  },
  "language_info": {
   "codemirror_mode": {
    "name": "ipython",
    "version": 3
   },
   "file_extension": ".py",
   "mimetype": "text/x-python",
   "name": "python",
   "nbconvert_exporter": "python",
   "pygments_lexer": "ipython3",
   "version": "3.8.8"
  },
  "orig_nbformat": 4,
  "vscode": {
   "interpreter": {
    "hash": "d63fb22d2eb77a4d242eaa81b607b4036aaf35ce987638ccbb395621be85a420"
   }
  }
 },
 "nbformat": 4,
 "nbformat_minor": 2
}
