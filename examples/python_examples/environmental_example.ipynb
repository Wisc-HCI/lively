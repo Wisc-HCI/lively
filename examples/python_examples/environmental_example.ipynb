{
 "cells": [
  {
   "cell_type": "code",
   "execution_count": 8,
   "metadata": {},
   "outputs": [
    {
     "name": "stdout",
     "output_type": "stream",
     "text": [
      "({'z': 0.0, 'y': 0.0, 'x': 0.0}, {'w': 1.0, 'y': 0.0, 'z': 0.0, 'x': 0.0})\n",
      "{'panda_finger_joint1': 0.02, 'panda_joint6': 1.8675, 'panda_joint5': 0.0, 'panda_joint1': 0.0, 'panda_joint2': 0.0, 'panda_joint3': 0.0, 'panda_joint7': 0.0, 'panda_finger_joint2': 0.02, 'panda_joint4': -1.5708}\n",
      "TransformInfo: world:{translation: {x:0.0, y:0.0, z:0.0}, rotation: {w:1.0, x:0.0, y:0.0, z:0.0}}, local: {translation: {x:0.0, y:0.0, z:0.0}, rotation: {w:1.0, x:0.0, y:0.0, z:0.0}}\n",
      "[ProximityInfo: {shape1: \"panda_link1\", shape2: \"panda_link2\", distance: -0.04999999999594529, points: Some(([3.3428314619892455e-7, -8.11153227919803e-12, 0.39299999999573776], [-3.3428314619892455e-7, -7.957830575056057e-12, 0.3430000000042623])), physical: true, loss: 1.0499999999959453, average_distance: Some(1.0)}, ProximityInfo: {shape1: \"panda_link3\", shape2: \"panda_link5\", distance: -0.023348390002273036, points: Some(([0.09682043643243086, 1.9752255386862316e-13, 0.7013648061031561], [0.08967986660682825, 1.2992296976797614e-13, 0.6791351057393649])), physical: true, loss: 1.023348390002273, average_distance: Some(1.0)}, ProximityInfo: {shape1: \"panda_hand\", shape2: \"panda_leftfinger\", distance: 0.0008999999999999946, points: Some(([0.6216384968626909, -0.020113259553750762, 0.5938409790641729], [0.6219016262562677, -0.020113259553750772, 0.5929803032121612])), physical: true, loss: 0.9999746878203586, average_distance: Some(1.0)}, ProximityInfo: {shape1: \"panda_link6\", shape2: \"panda_link7\", distance: 0.004000000000000066, points: Some(([0.5651166707311207, -0.002352941176470655, 0.7135462617502689], [0.5662861347025734, -0.002352941176470659, 0.7097210357413285])), physical: true, loss: 0.9995001249791693, average_distance: Some(1.0)}, ProximityInfo: {shape1: \"panda_link5\", shape2: \"panda_link7\", distance: 0.020946949057706762, points: Some(([0.5045351121834764, -0.004999997373225355, 0.7074496137979066], [0.5222397822760976, -0.004999997471909274, 0.6962550020700436])), physical: true, loss: 0.9863818686981312, average_distance: Some(1.0)}, ProximityInfo: {shape1: \"panda_leftfinger\", shape2: \"panda_rightfinger\", distance: 0.03900000000000002, points: Some(([0.621846799063721, -0.01378858223313778, 0.5715268993519615], [0.5954745773714148, 0.013788582233137562, 0.5634642742824286])), physical: true, loss: 0.9535806732709662, average_distance: Some(1.0)}, ProximityInfo: {shape1: \"panda_link5\", shape2: \"panda_hand\", distance: 0.05205104271147248, points: Some(([0.48104251040987883, 0.056568542175073525, 0.6889130969988989], [0.49786947902645706, 0.05656854249492372, 0.639656989006811])), physical: true, loss: 0.9188191460964188, average_distance: Some(1.0)}, ProximityInfo: {shape1: \"panda_link7\", shape2: \"panda_rightfinger\", distance: 0.08789999999999984, points: Some(([0.5569004438937344, 0.013239878826681959, 0.6650240095137225], [0.5825994146664047, 0.013239878826681938, 0.5809646679672565])), physical: true, loss: 0.7854878317460168, average_distance: Some(1.0)}]\n"
     ]
    }
   ],
   "source": [
    "from lively import  Solver,MoveShape,AddShape,Translation, Rotation,Transform,SmoothnessMacroObjective, CollisionAvoidanceObjective, JointLimitsObjective, BoxShape, CollisionSettingInfo, ScalarRange\n",
    "from lxml import etree\n",
    "\n",
    "# Define example BoxShape, AddShape, MoveShape, Delete, and CollisionSettingInfo \n",
    "\n",
    "box = BoxShape(name=\"Table\",frame=\"world\",physical=True,x=2,y=1,z=1.2,translation = Translation(x=1.0, y =2.0, z=3.0),rotation = Rotation(x=0.0,y=0.0,z=0.0,w=1.0))\n",
    "addShape = AddShape(id = \"123\", shape = box)\n",
    "moveShape = MoveShape(id = \"123\", translation = Translation(x=-1.0, y =0.0, z=4.0),rotation = Rotation(x=0.0,y=0.0,z=0.0,w=1.0))\n",
    "deleteShape = \"123\"\n",
    "collision = CollisionSettingInfo(d_max = 0.1, r = 0.0, a_max = 2.0, time_budget = 100, timed = False)\n",
    "\n",
    "# Read the xml file into a string\n",
    "xml_file = '../../tests/panda.xml'\n",
    "tree = etree.parse(xml_file)\n",
    "xml_string = etree.tostring(tree).decode()\n",
    "\n",
    "#print(xml_string)\n",
    "# Instantiate a new solver\n",
    "solver = Solver(\n",
    "  urdf=xml_string, # Full urdf as a string\n",
    "  objectives={\n",
    "      # An example objectives\n",
    "      \"smoothness\":SmoothnessMacroObjective(name=\"MySmoothnessObjective\",weight=5,joints=True,origin=False,links=True),\n",
    "      \"collision\": CollisionAvoidanceObjective(name=\"MyCollisionAvoidanceObjective\", weight=5),\n",
    "      \"jointLimit\": JointLimitsObjective(name=\"MyJointLimitObjective\", weight=5)\n",
    "      \n",
    "  },\n",
    "  root_bounds=[\n",
    "      ScalarRange(value=0.0,delta=0.0),ScalarRange(value=0.0,delta=0.0),ScalarRange(value=0.0,delta=0.0), # Translational, (x, y, z)\n",
    "      ScalarRange(value=0.0,delta=0.0),ScalarRange(value=0.0,delta=0.0),ScalarRange(value=0.0,delta=0.0)  # Rotational, (r, p, y)\n",
    "  ],\n",
    "  shapes=[\n",
    "      box\n",
    "  ],\n",
    "  collision_settings = collision\n",
    "\n",
    ")\n",
    "\n",
    "# Run solve to get a solved state\n",
    "state = solver.solve(goals= {},weights = {},time = 0.0,shape_updates = [addShape,moveShape,deleteShape])\n",
    "# Log the initial statse\n",
    "print(state.origin.as_dicts())\n",
    "print(state.joints)\n",
    "print(state.frames[\"panda_link0\"])\n",
    "print(state.proximity)"
   ]
  }
 ],
 "metadata": {
  "kernelspec": {
   "display_name": "base",
   "language": "python",
   "name": "python3"
  },
  "language_info": {
   "codemirror_mode": {
    "name": "ipython",
    "version": 3
   },
   "file_extension": ".py",
   "mimetype": "text/x-python",
   "name": "python",
   "nbconvert_exporter": "python",
   "pygments_lexer": "ipython3",
   "version": "3.8.8"
  },
  "orig_nbformat": 4,
  "vscode": {
   "interpreter": {
    "hash": "d63fb22d2eb77a4d242eaa81b607b4036aaf35ce987638ccbb395621be85a420"
   }
  }
 },
 "nbformat": 4,
 "nbformat_minor": 2
}
