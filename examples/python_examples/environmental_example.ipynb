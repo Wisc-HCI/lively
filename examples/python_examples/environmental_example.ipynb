{
 "cells": [
  {
   "cell_type": "code",
   "execution_count": 11,
   "metadata": {},
   "outputs": [
    {
     "name": "stdout",
     "output_type": "stream",
     "text": [
      "<builtins.State object at 0x7fba20a462f0>\n"
     ]
    }
   ],
   "source": [
    "from lively import  Solver, MoveShape,AddShape, Translation, Rotation,Transform,SmoothnessMacroObjective, CollisionAvoidanceObjective, JointLimitsObjective, BoxShape, CollisionSettingInfo, ScalarRange\n",
    "from lxml import etree\n",
    "\n",
    "# Define box Shape, addShape, and Collision\n",
    "\n",
    "box = BoxShape(name=\"Table\",frame=\"world\",physical=True,x=2,y=1,z=1.2,translation = Translation(x=1.0, y =2.0, z=3.0),rotation = Rotation(x=0.0,y=0.0,z=0.0,w=1.0))\n",
    "addShape = AddShape(id = \"123\", shape = box )\n",
    "collision = CollisionSettingInfo(d_max = 0.1, r = 0.0, a_max = 2.0, time_budget = 100, timed = False)\n",
    "\n",
    "# Read the xml file into a string\n",
    "xml_file = '../../tests/basic.xml'\n",
    "tree = etree.parse(xml_file)\n",
    "xml_string = etree.tostring(tree).decode()\n",
    "\n",
    "#print(xml_string)\n",
    "# Instantiate a new solver\n",
    "solver = Solver(\n",
    "  urdf=xml_string, # Full urdf as a string\n",
    "  objectives={\n",
    "      # An example objective (smoothness macro)\n",
    "      \"smoothness\":SmoothnessMacroObjective(name=\"MySmoothnessObjective\",weight=5,joints=True,origin=False,links=True),\n",
    "      \"collision\": CollisionAvoidanceObjective(name=\"MyCollisionAvoidanceObjective\", weight=5),\n",
    "      \"jointLimit\": JointLimitsObjective(name=\"MyJointLimitObjective\", weight=5)\n",
    "      \n",
    "  },\n",
    "  root_bounds=[\n",
    "      ScalarRange(value=0.0,delta=0.0),ScalarRange(value=0.0,delta=0.0),ScalarRange(value=0.0,delta=0.0), # Translational, (x, y, z)\n",
    "      ScalarRange(value=0.0,delta=0.0),ScalarRange(value=0.0,delta=0.0),ScalarRange(value=0.0,delta=0.0)  # Rotational, (r, p, y)\n",
    "  ],\n",
    "  shapes=[\n",
    "      box\n",
    "  ],\n",
    "  collision_settings = collision\n",
    "\n",
    ")\n",
    "\n",
    "# Run solve to get a solved state\n",
    "state = solver.solve(goals= {},weights = {},time = 0.0,shape_updates = [addShape])\n",
    "# Log the initial state\n",
    "print(state)"
   ]
  }
 ],
 "metadata": {
  "kernelspec": {
   "display_name": "base",
   "language": "python",
   "name": "python3"
  },
  "language_info": {
   "codemirror_mode": {
    "name": "ipython",
    "version": 3
   },
   "file_extension": ".py",
   "mimetype": "text/x-python",
   "name": "python",
   "nbconvert_exporter": "python",
   "pygments_lexer": "ipython3",
   "version": "3.8.8 (default, Apr 13 2021, 12:59:45) \n[Clang 10.0.0 ]"
  },
  "orig_nbformat": 4,
  "vscode": {
   "interpreter": {
    "hash": "d63fb22d2eb77a4d242eaa81b607b4036aaf35ce987638ccbb395621be85a420"
   }
  }
 },
 "nbformat": 4,
 "nbformat_minor": 2
}
