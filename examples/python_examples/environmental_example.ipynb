{
 "cells": [
  {
   "cell_type": "code",
   "execution_count": 16,
   "metadata": {},
   "outputs": [
    {
     "name": "stdout",
     "output_type": "stream",
     "text": [
      "({'x': 0.0, 'y': 0.0, 'z': 0.0}, {'x': 0.0, 'w': 1.0, 'z': 0.0, 'y': 0.0})\n",
      "{'panda_joint1': 9.999131224210927e-13, 'panda_finger_joint2': 0.02000002000410172, 'panda_joint4': -1.5707999999765445, 'panda_finger_joint1': 0.02000002000410172, 'panda_joint5': 1.847229086554597e-12, 'panda_joint7': 1.2739956808364026e-12, 'panda_joint2': -2.6848136080361856e-11, 'panda_joint6': 1.8675018675051027, 'panda_joint3': 9.999131409071589e-13}\n",
      "TransformInfo: world:{translation: {x:0.0, y:0.0, z:0.0}, rotation: {w:1.0, x:0.0, y:0.0, z:0.0}}, local: {translation: {x:0.0, y:0.0, z:0.0}, rotation: {w:1.0, x:0.0, y:0.0, z:0.0}}\n",
      "[ProximityInfo: {shape1: \"panda_link0\", shape2: \"world\", distance: -0.6, points: Some(([-0.035874439461883394, 0.1, 0.06269058295964126], [-0.0358744394618834, -0.5, 0.06269058295964125])), physical: true, loss: 1.6, average_distance: Some(1.0)}, ProximityInfo: {shape1: \"panda_link2\", shape2: \"world\", distance: -0.25700000000000006, points: Some(([-1.5962828514123355e-12, -4.470382397592232e-15, 0.343], [-6.085737469518904e-11, 1.1851788994654555e-10, 0.6])), physical: true, loss: 1.2570000000000001, average_distance: Some(1.0)}, ProximityInfo: {shape1: \"panda_leftfinger\", shape2: \"world\", distance: -0.05014443086514708, points: Some(([0.6210785465342294, -0.020859664188470142, 0.5498555691348535], [0.6210785465342292, -0.02085966418846974, 0.6])), physical: true, loss: 1.050144430865147, average_distance: Some(1.0)}, ProximityInfo: {shape1: \"panda_hand\", shape2: \"world\", distance: -0.03684742888559811, points: Some(([0.5212590728384426, 0.05656854249638511, 0.5631525711144025], [0.5212590728384425, 0.05656854249638554, 0.5999999999999999])), physical: true, loss: 1.036847428885598, average_distance: Some(1.0)}, ProximityInfo: {shape1: \"panda_link3\", shape2: \"panda_link5\", distance: -0.02334839000232908, points: Some(([0.09682043642050993, 8.99899367608911e-13, 0.701364806106408], [0.08967986659763105, 3.093242947581692e-13, 0.6791351057416832])), physical: true, loss: 1.023348390002329, average_distance: Some(1.0)}, ProximityInfo: {shape1: \"panda_hand\", shape2: \"panda_rightfinger\", distance: 0.0008999999999998939, points: Some(([0.583169882088349, 0.020113272128583812, 0.5820803270980743], [0.5834330130892851, 0.020113272128585928, 0.5812196517374729])), physical: true, loss: 0.9999746878203586, average_distance: Some(1.0)}, ProximityInfo: {shape1: \"panda_link7\", shape2: \"panda_hand\", distance: 0.001999999999999981, points: Some(([0.6068176033541505, -0.029574340746179945, 0.6750566712919084], [0.6074023389117865, -0.029574340746175196, 0.6731440593794609])), physical: true, loss: 0.9998750078121745, average_distance: Some(1.0)}, ProximityInfo: {shape1: \"panda_link5\", shape2: \"panda_link6\", distance: 0.005000000000000081, points: Some(([0.5095340708215754, 7.595823970987386e-11, 0.7446551403181307], [0.5143156006026943, 7.596504894145812e-11, 0.7461169792122209])), physical: true, loss: 0.9992190550963239, average_distance: Some(1.0)}, ProximityInfo: {shape1: \"panda_link2\", shape2: \"panda_link5\", distance: 0.03703479486007419, points: Some(([0.042042074241921176, 8.404388296412435e-14, 0.6658072224124989], [0.0679617349643935, 1.3594720556864132e-13, 0.6922599579678193])), physical: true, loss: 0.9580438295634601, average_distance: Some(1.0)}, ProximityInfo: {shape1: \"panda_link6\", shape2: \"panda_hand\", distance: 0.05100000000000001, points: Some(([0.5665039061795232, -0.005234390854211603, 0.7139705499088711], [0.5814146628992419, -0.005234390854091724, 0.6651989461414598])), physical: true, loss: 0.9219343609389511, average_distance: Some(1.0)}, ProximityInfo: {shape1: \"panda_link7\", shape2: \"world\", distance: 0.058002867939563885, points: Some(([0.5339345592364988, -0.005000197822328074, 0.6580028679395642], [0.5339345592364989, -0.0050001978223652155, 0.6])), physical: true, loss: 0.9002026300149758, average_distance: Some(1.0)}, ProximityInfo: {shape1: \"panda_link7\", shape2: \"panda_leftfinger\", distance: 0.08289999999999988, points: Some(([0.6044804159482576, -0.027157423278054475, 0.6743421318852577], [0.6287177048122709, -0.027157423277859548, 0.5950643681143089])), physical: true, loss: 0.8067327644141312, average_distance: Some(1.0)}, ProximityInfo: {shape1: \"panda_link6\", shape2: \"world\", distance: 0.10212690446489203, points: Some(([0.5277645186612366, 7.033067243131512e-8, 0.7021269044648921], [0.5277645186612232, 7.033069882034226e-8, 0.6])), physical: true, loss: 0.7218524533336765, average_distance: Some(1.0)}, ProximityInfo: {shape1: \"panda_link6\", shape2: \"panda_leftfinger\", distance: 0.1319, points: Some(([0.5842070785194502, -0.013848902945186287, 0.7193828733827047], [0.6227703885455461, -0.013848902944876205, 0.593246117756792])), physical: true, loss: 0.5806104014792378, average_distance: Some(1.0)}, ProximityInfo: {shape1: \"panda_link5\", shape2: \"panda_leftfinger\", distance: 0.15654359523451222, points: Some(([0.4983310246837498, -0.020859662686323006, 0.6996897048337987], [0.609091467602691, -0.020859664188566527, 0.5890641133400272])), physical: true, loss: 0.46495749425391286, average_distance: Some(1.0)}]\n"
     ]
    }
   ],
   "source": [
    "from lively import  Solver,MoveShape,AddShape,Translation, Rotation,Transform,SmoothnessMacroObjective, CollisionAvoidanceObjective, JointLimitsObjective, BoxShape, CollisionSettingInfo, ScalarRange\n",
    "from lxml import etree\n",
    "\n",
    "# Define example BoxShape, AddShape, MoveShape, Delete, and CollisionSettingInfo \n",
    "\n",
    "box = BoxShape(name=\"Table\",frame=\"world\",physical=True,x=2,y=1,z=1.2,translation = Translation(x=0.0, y =0.0, z=0.0),rotation = Rotation(x=0.0,y=0.0,z=0.0,w=1.0))\n",
    "box_1 = BoxShape(name=\"ToBeMovedOrDeleted\",frame=\"world\",physical=True,x=2,y=1,z=1.2,translation = Translation(x=0.0, y =0.0, z=1.0),rotation = Rotation(x=0.0,y=0.0,z=0.0,w=1.0))\n",
    "addShape = AddShape(id = \"box_1\", shape = box_1)\n",
    "moveShape = MoveShape(id = \"box_1\", translation = Translation(x=-1.0, y =0.0, z=4.0),rotation = Rotation(x=0.0,y=0.0,z=0.0,w=1.0))\n",
    "deleteShape = \"box_1\" # Do not need to import classes from lively. Just pass in the string of the id of the shape you want to delete\n",
    "collision = CollisionSettingInfo(d_max = 0.8, r = 0.0, a_max = 2.0, time_budget = 100, timed = False)\n",
    "\n",
    "# Read the xml file into a string\n",
    "xml_file = '../../tests/panda.xml'\n",
    "tree = etree.parse(xml_file)\n",
    "xml_string = etree.tostring(tree).decode()\n",
    "\n",
    "#print(xml_string)\n",
    "# Instantiate a new solver\n",
    "solver = Solver(\n",
    "  urdf=xml_string, # Full urdf as a string\n",
    "  objectives={\n",
    "      # An example objectives\n",
    "      \"smoothness\":SmoothnessMacroObjective(name=\"MySmoothnessObjective\",weight=5,joints=True,origin=False,links=True),\n",
    "      \"collision\": CollisionAvoidanceObjective(name=\"MyCollisionAvoidanceObjective\", weight=5),\n",
    "      \"jointLimit\": JointLimitsObjective(name=\"MyJointLimitObjective\", weight=5)\n",
    "      \n",
    "  },\n",
    "  root_bounds=[\n",
    "      ScalarRange(value=0.0,delta=0.0),ScalarRange(value=0.0,delta=0.0),ScalarRange(value=0.0,delta=0.0), # Translational, (x, y, z)\n",
    "      ScalarRange(value=0.0,delta=0.0),ScalarRange(value=0.0,delta=0.0),ScalarRange(value=0.0,delta=0.0)  # Rotational, (r, p, y)\n",
    "  ],\n",
    "  shapes=[box], # Static environmental shape cannot be moved ot deleted. \n",
    "  collision_settings = collision\n",
    "\n",
    ")\n",
    "\n",
    "# Run solve to get a solved state\n",
    "state = solver.solve(goals= {},weights = {},time = 0.0,shape_updates = [addShape,moveShape,deleteShape])\n",
    "# Log the initial statse\n",
    "print(state.origin.as_dicts())\n",
    "print(state.joints)\n",
    "print(state.frames[\"panda_link0\"])\n",
    "print(state.proximity)"
   ]
  }
 ],
 "metadata": {
  "kernelspec": {
   "display_name": "base",
   "language": "python",
   "name": "python3"
  },
  "language_info": {
   "codemirror_mode": {
    "name": "ipython",
    "version": 3
   },
   "file_extension": ".py",
   "mimetype": "text/x-python",
   "name": "python",
   "nbconvert_exporter": "python",
   "pygments_lexer": "ipython3",
   "version": "3.8.8"
  },
  "orig_nbformat": 4,
  "vscode": {
   "interpreter": {
    "hash": "d63fb22d2eb77a4d242eaa81b607b4036aaf35ce987638ccbb395621be85a420"
   }
  }
 },
 "nbformat": 4,
 "nbformat_minor": 2
}
