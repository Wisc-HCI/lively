{
 "cells": [
  {
   "cell_type": "code",
   "execution_count": 5,
   "metadata": {},
   "outputs": [
    {
     "name": "stdout",
     "output_type": "stream",
     "text": [
      "<builtins.State object at 0x7ff22030e030>\n",
      "({'y': 0.0, 'x': 0.0, 'z': 0.0}, {'w': 1.0, 'y': 0.0, 'x': 0.0, 'z': 0.0})\n",
      "{'panda_joint7': -0.00014566663990785232, 'panda_joint6': 1.8675023747935595, 'panda_joint4': -1.570839317425915, 'panda_finger_joint1': 0.02921128999354055, 'panda_finger_joint2': 0.02921128999354055, 'panda_joint1': -1.7631091301343767e-07, 'panda_joint2': -4.544676171770894e-06, 'panda_joint5': -3.900486124027599e-08, 'panda_joint3': -1.7526311293639713e-07}\n",
      "TransformInfo: world:{translation: {x:0.0, y:0.0, z:0.0}, rotation: {w:1.0, x:0.0, y:0.0, z:0.0}}, local: {translation: {x:0.0, y:0.0, z:0.0}, rotation: {w:1.0, x:0.0, y:0.0, z:0.0}}\n",
      "[ProximityInfo: {shape1: \"panda_link1\", shape2: \"panda_link2\", distance: -0.04999999999998844, points: Some(([-2.675138042951722e-7, 1.2504080936253242e-13, 0.39299999999939755], [-5.061352772766245e-8, 9.069134332406747e-14, 0.3429999999998796])), physical: true, loss: 1.0499999999999885, average_distance: Some(1.0)}, ProximityInfo: {shape1: \"panda_link3\", shape2: \"panda_link5\", distance: -0.02334829641879243, points: Some(([0.0968207882589084, -3.403942369500776e-8, 0.7013645953230073], [0.08967951127759832, -3.152918193156944e-8, 0.6791352204164565])), physical: true, loss: 1.0233482964187923, average_distance: Some(1.0)}, ProximityInfo: {shape1: \"panda_hand\", shape2: \"panda_leftfinger\", distance: 0.000899999999999998, points: Some(([0.621017164407978, -0.03234121268215311, 0.593633971013059], [0.6212802659172781, -0.03234121280822254, 0.5927732866366444])), physical: true, loss: 0.9999746878203586, average_distance: Some(1.0)}, ProximityInfo: {shape1: \"panda_link6\", shape2: \"panda_link7\", distance: 0.004000000000000049, points: Some(([0.565117848358052, -0.0023531405327685616, 0.7135301892152872], [0.5662871883993861, -0.0023531410930772195, 0.7097049253201116])), physical: true, loss: 0.9995001249791693, average_distance: Some(1.0)}, ProximityInfo: {shape1: \"panda_link5\", shape2: \"panda_link7\", distance: 0.020947423962038938, points: Some(([0.5045359643085708, -0.005000175639364943, 0.7074357212723198], [0.5222407675375477, -0.005000182399248037, 0.6962404314918553])), physical: true, loss: 0.9863812554209668, average_distance: Some(1.0)}, ProximityInfo: {shape1: \"panda_leftfinger\", shape2: \"panda_rightfinger\", distance: 0.057422579987081016, points: Some(([0.6280747049485134, -0.02029921729940895, 0.5734138387243032], [0.5892389093173955, 0.020298776529425355, 0.5615421679427871])), physical: true, loss: 0.9020888399038737, average_distance: Some(1.0)}, ProximityInfo: {shape1: \"panda_link5\", shape2: \"panda_hand\", distance: 0.05205077588273472, points: Some(([0.48103876995802514, 0.05655601055090838, 0.688898344047004], [0.4978600764398771, 0.05655600305327773, 0.6396405840670959])), physical: true, loss: 0.9188199436707433, average_distance: Some(1.0)}, ProximityInfo: {shape1: \"panda_link7\", shape2: \"panda_rightfinger\", distance: 0.08789999999999999, points: Some(([0.5514436065662991, 0.017530839380734603, 0.6633402271984721], [0.5771398539746159, 0.017530827067951463, 0.5792800531019927])), physical: true, loss: 0.7854878317460161, average_distance: Some(1.0)}]\n"
     ]
    }
   ],
   "source": [
    "from lively import  Solver, MoveShape,AddShape, Translation, Rotation,Transform,SmoothnessMacroObjective, CollisionAvoidanceObjective, JointLimitsObjective, BoxShape, CollisionSettingInfo, ScalarRange\n",
    "from lxml import etree\n",
    "\n",
    "# Define box Shape, addShape, and Collision\n",
    "\n",
    "box = BoxShape(name=\"Table\",frame=\"world\",physical=True,x=2,y=1,z=1.2,translation = Translation(x=1.0, y =2.0, z=3.0),rotation = Rotation(x=0.0,y=0.0,z=0.0,w=1.0))\n",
    "addShape = AddShape(id = \"123\", shape = box )\n",
    "collision = CollisionSettingInfo(d_max = 0.1, r = 0.0, a_max = 2.0, time_budget = 100, timed = False)\n",
    "\n",
    "# Read the xml file into a string\n",
    "xml_file = '../../tests/panda.xml'\n",
    "tree = etree.parse(xml_file)\n",
    "xml_string = etree.tostring(tree).decode()\n",
    "\n",
    "#print(xml_string)\n",
    "# Instantiate a new solver\n",
    "solver = Solver(\n",
    "  urdf=xml_string, # Full urdf as a string\n",
    "  objectives={\n",
    "      # An example objective (smoothness macro)\n",
    "      \"smoothness\":SmoothnessMacroObjective(name=\"MySmoothnessObjective\",weight=5,joints=True,origin=False,links=True),\n",
    "      \"collision\": CollisionAvoidanceObjective(name=\"MyCollisionAvoidanceObjective\", weight=5),\n",
    "      \"jointLimit\": JointLimitsObjective(name=\"MyJointLimitObjective\", weight=5)\n",
    "      \n",
    "  },\n",
    "  root_bounds=[\n",
    "      ScalarRange(value=0.0,delta=0.0),ScalarRange(value=0.0,delta=0.0),ScalarRange(value=0.0,delta=0.0), # Translational, (x, y, z)\n",
    "      ScalarRange(value=0.0,delta=0.0),ScalarRange(value=0.0,delta=0.0),ScalarRange(value=0.0,delta=0.0)  # Rotational, (r, p, y)\n",
    "  ],\n",
    "  shapes=[\n",
    "      box\n",
    "  ],\n",
    "  collision_settings = collision\n",
    "\n",
    ")\n",
    "\n",
    "# Run solve to get a solved state\n",
    "state = solver.solve(goals= {},weights = {},time = 0.0,shape_updates = [addShape])\n",
    "# Log the initial statse\n",
    "print(state.origin.as_dicts())\n",
    "print(state.joints)\n",
    "print(state.frames[\"panda_link0\"])\n",
    "print(state.proximity)"
   ]
  }
 ],
 "metadata": {
  "kernelspec": {
   "display_name": "base",
   "language": "python",
   "name": "python3"
  },
  "language_info": {
   "codemirror_mode": {
    "name": "ipython",
    "version": 3
   },
   "file_extension": ".py",
   "mimetype": "text/x-python",
   "name": "python",
   "nbconvert_exporter": "python",
   "pygments_lexer": "ipython3",
   "version": "3.8.8"
  },
  "orig_nbformat": 4,
  "vscode": {
   "interpreter": {
    "hash": "d63fb22d2eb77a4d242eaa81b607b4036aaf35ce987638ccbb395621be85a420"
   }
  }
 },
 "nbformat": 4,
 "nbformat_minor": 2
}
