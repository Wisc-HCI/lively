{
 "cells": [
  {
   "cell_type": "code",
   "execution_count": 1,
   "metadata": {},
   "outputs": [
    {
     "name": "stdout",
     "output_type": "stream",
     "text": [
      "({'z': 0.0, 'x': 0.0, 'y': 2.5}, {'y': 0.0, 'x': 0.0, 'z': 0.0, 'w': 1.0})\n",
      "{'panda_joint5': -4.065082085712044e-08, 'panda_finger_joint1': 0.028986571964639662, 'panda_joint2': -3.5593204766733024e-06, 'panda_joint1': -2.1374751146454626e-07, 'panda_finger_joint2': 0.028986571964639662, 'panda_joint6': 1.867502227746217, 'panda_joint3': -2.1434297011576344e-07, 'panda_joint7': -0.00012837884005394975, 'panda_joint4': -1.570835039885902}\n",
      "TransformInfo: world:{translation: {x:0.0, y:2.5, z:0.0}, rotation: {w:1.0, x:0.0, y:0.0, z:0.0}}, local: {translation: {x:0.0, y:2.5, z:0.0}, rotation: {w:1.0, x:0.0, y:0.0, z:0.0}}\n",
      "[ProximityInfo: {shape1: \"panda_link1\", shape2: \"panda_link2\", distance: -0.0499999999998499, points: Some(([-1.512894169318631e-7, 2.499999999997402, 0.392999999999689], [-9.786301643586028e-8, 2.4999999999973923, 0.34299999999986763])), physical: true, loss: 1.04999999999985, average_distance: Some(1.0)}, ProximityInfo: {shape1: \"panda_link3\", shape2: \"panda_link5\", distance: -0.023348306600152583, points: Some(([0.09682092908276799, 2.499999958553052, 0.7013645712850273], [0.08967972159688264, 2.4999999616087836, 0.6791351633590781])), physical: true, loss: 1.0233483066001525, average_distance: Some(1.0)}, ProximityInfo: {shape1: \"panda_hand\", shape2: \"panda_leftfinger\", distance: 0.0008999999999999807, points: Some(([0.6270407571693186, 2.47424135975253, 0.5954768599816862], [0.6273038613855877, 2.4742413596049113, 0.5946161764327663])), physical: true, loss: 0.9999746878203586, average_distance: Some(1.0)}, ProximityInfo: {shape1: \"panda_link6\", shape2: \"panda_link7\", distance: 0.003999999999999993, points: Some(([0.5651179055636215, 2.4976468161912826, 0.7135316704071388], [0.5662872576359287, 2.4976468155351985, 0.709706410189717])), physical: true, loss: 0.9995001249791693, average_distance: Some(1.0)}, ProximityInfo: {shape1: \"panda_link5\", shape2: \"panda_link7\", distance: 0.020947367599880664, points: Some(([0.5045360555626084, 2.494999785703779, 0.7074369861548732], [0.5222408351567235, 2.494999777570769, 0.6962417644559398])), physical: true, loss: 0.9863813282060693, average_distance: Some(1.0)}, ProximityInfo: {shape1: \"panda_leftfinger\", shape2: \"panda_rightfinger\", distance: 0.05697314392927931, points: Some(([0.6279229272093094, 2.4798592626627896, 0.5733689688802485], [0.5893917983360327, 2.5201402028823603, 0.5615902978191871])), physical: true, loss: 0.903539367403207, average_distance: Some(1.0)}, ProximityInfo: {shape1: \"panda_link5\", shape2: \"panda_hand\", distance: 0.052050807510396674, points: Some(([0.4810394005350343, 2.556557440727603, 0.6888997270567261], [0.49786134447895736, 2.5565574318595465, 0.6396421513507314])), physical: true, loss: 0.9188198491330859, average_distance: Some(1.0)}, ProximityInfo: {shape1: \"panda_link7\", shape2: \"panda_rightfinger\", distance: 0.08789999999999995, points: Some(([0.5515744626653493, 2.517423792081523, 0.6633816008456186], [0.5772709744542995, 2.51742377766408, 0.5793215075677728])), physical: true, loss: 0.7854878317460163, average_distance: Some(1.0)}]\n"
     ]
    }
   ],
   "source": [
    "from lively import Solver, Translation, Rotation, SmoothnessMacroObjective, CollisionAvoidanceObjective, JointLimitsObjective, BoxShape, CollisionSettingInfo, ScalarRange\n",
    "from lxml import etree\n",
    "\n",
    "# Read the xml file into a string\n",
    "xml_file = '../../tests/panda.xml'\n",
    "tree = etree.parse(xml_file)\n",
    "xml_string = etree.tostring(tree).decode()\n",
    "\n",
    "# Constructing Collision Avoidance objective and box shape\n",
    "collision = CollisionSettingInfo(d_max = 0.1, r = 0.0, a_max = 2.0, time_budget = 100, timed = False)\n",
    "box = BoxShape(name=\"Table\",frame=\"world\",physical=True,x=2,y=1,z=1.2,translation=Translation(x=0.0,y=0.0,z=0.0), rotation=Rotation(x=0.0,y=0.0,z=0.0,w=1.0))\n",
    "\n",
    "# print(xml_string)\n",
    "# Instantiate a new solver\n",
    "solver = Solver(\n",
    "  urdf=xml_string, # Full urdf as a string\n",
    "  objectives={\n",
    "      # An example objectives\n",
    "      \"smoothness\":SmoothnessMacroObjective(name=\"MySmoothnessObjective\",weight=5,joints=True,origin=False,links=True),\n",
    "      \"collision\": CollisionAvoidanceObjective(name=\"MyCollisionAvoidanceObjective\", weight=5),\n",
    "      \"jointLimit\": JointLimitsObjective(name=\"MyJointLimitObjective\", weight=5)\n",
    "      \n",
    "  },\n",
    "  root_bounds=[\n",
    "      ScalarRange(value=0.0,delta=0.0),ScalarRange(value=2.5,delta=0.0),ScalarRange(value=0.0,delta=0.0), # Translational, (x, y, z)\n",
    "      ScalarRange(value=0.0,delta=0.0),ScalarRange(value=0.0,delta=0.0),ScalarRange(value=0.0,delta=0.0)  # Rotational, (r, p, y)\n",
    "  ],\n",
    "  shapes=[\n",
    "      box\n",
    "  ],\n",
    "  collision_settings = collision\n",
    "\n",
    ")\n",
    "\n",
    "# Run solve to get a solved state\n",
    "state = solver.solve({},{},0.0)\n",
    "# Log the initial state\n",
    "print(state.origin.as_dicts())\n",
    "print(state.joints)\n",
    "print(state.frames[\"panda_link0\"])\n",
    "print(state.proximity)"
   ]
  }
 ],
 "metadata": {
  "kernelspec": {
   "display_name": "base",
   "language": "python",
   "name": "python3"
  },
  "language_info": {
   "codemirror_mode": {
    "name": "ipython",
    "version": 3
   },
   "file_extension": ".py",
   "mimetype": "text/x-python",
   "name": "python",
   "nbconvert_exporter": "python",
   "pygments_lexer": "ipython3",
   "version": "3.8.8"
  },
  "orig_nbformat": 4,
  "vscode": {
   "interpreter": {
    "hash": "d63fb22d2eb77a4d242eaa81b607b4036aaf35ce987638ccbb395621be85a420"
   }
  }
 },
 "nbformat": 4,
 "nbformat_minor": 2
}
