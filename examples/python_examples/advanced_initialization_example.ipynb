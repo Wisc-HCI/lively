{
 "cells": [
  {
   "cell_type": "code",
   "execution_count": 4,
   "metadata": {},
   "outputs": [
    {
     "name": "stdout",
     "output_type": "stream",
     "text": [
      "({'z': 0.0, 'y': 2.5, 'x': 0.0}, {'w': 1.0, 'y': 0.0, 'x': 0.0, 'z': 0.0})\n",
      "{'panda_joint1': -2.1509353916306086e-07, 'panda_joint3': -2.1449723173547139e-07, 'panda_joint7': -0.00012837884160520904, 'panda_joint2': -3.560324793054898e-06, 'panda_joint6': 1.867502227751826, 'panda_joint5': -4.066489393808552e-08, 'panda_joint4': -1.5708350398207753, 'panda_finger_joint1': 0.02898657198620339, 'panda_finger_joint2': 0.02898657198620339}\n",
      "TransformInfo: world:{translation: {x:0.0, y:2.5, z:0.0}, rotation: {w:1.0, x:0.0, y:0.0, z:0.0}}, local: {translation: {x:0.0, y:2.5, z:0.0}, rotation: {w:1.0, x:0.0, y:0.0, z:0.0}}\n",
      "[ProximityInfo: {shape1: \"panda_link1\", shape2: \"panda_link2\", distance: -0.04999999999998841, points: Some(([-2.0843863685980674e-7, 2.5000000000001226, 0.3929999999996318], [-4.078409865346955e-8, 2.5000000000000906, 0.34299999999992453])), physical: true, loss: 1.0499999999999885, average_distance: Some(1.0)}, ProximityInfo: {shape1: \"panda_link3\", shape2: \"panda_link5\", distance: -0.023348306600308056, points: Some(([0.09682092871088457, 2.4999999584078383, 0.7013645713828855], [0.08967972124580931, 2.4999999614742388, 0.6791351634500884])), physical: true, loss: 1.023348306600308, average_distance: Some(1.0)}, ProximityInfo: {shape1: \"panda_hand\", shape2: \"panda_leftfinger\", distance: 0.0009000000000000327, points: Some(([0.6270407568843133, 2.474241358796362, 0.5954768606521349], [0.6273038611015077, 2.4742413586483365, 0.5946161771034979])), physical: true, loss: 0.9999746878203586, average_distance: Some(1.0)}, ProximityInfo: {shape1: \"panda_link6\", shape2: \"panda_link7\", distance: 0.003999999999999993, points: Some(([0.5651179051738181, 2.49764681534319, 0.7135316710067147], [0.5662872572502377, 2.497646814685298, 0.7097064107905499])), physical: true, loss: 0.9995001249791693, average_distance: Some(1.0)}, ProximityInfo: {shape1: \"panda_link5\", shape2: \"panda_link7\", distance: 0.020947367599885674, points: Some(([0.5045360551753808, 2.4949997849464953, 0.7074369866893541], [0.5222408347815403, 2.4949997767867615, 0.6962417650094589])), physical: true, loss: 0.9863813282060627, average_distance: Some(1.0)}, ProximityInfo: {shape1: \"panda_leftfinger\", shape2: \"panda_rightfinger\", distance: 0.056973143972406784, points: Some(([0.6279229269581118, 2.479859261703284, 0.5733689695520593], [0.5893917981287038, 2.5201402020109263, 0.5615902984400737])), physical: true, loss: 0.903539367264451, average_distance: Some(1.0)}, ProximityInfo: {shape1: \"panda_link5\", shape2: \"panda_hand\", distance: 0.05205080751039387, points: Some(([0.4810394002601572, 2.5565574400052236, 0.6888997275651056], [0.49786134425688455, 2.556557431111187, 0.6396421518771471])), physical: true, loss: 0.9188198491330942, average_distance: Some(1.0)}, ProximityInfo: {shape1: \"panda_link7\", shape2: \"panda_rightfinger\", distance: 0.08790000000000006, points: Some(([0.5515744623465865, 2.5174237912633064, 0.6633816014265213], [0.5772709742259057, 2.517423776806128, 0.5793215081763006])), physical: true, loss: 0.7854878317460158, average_distance: Some(1.0)}]\n"
     ]
    }
   ],
   "source": [
    "from lively import Solver, Translation, Rotation, SmoothnessMacroObjective, CollisionAvoidanceObjective, JointLimitsObjective, BoxShape, CollisionSettingInfo, ScalarRange\n",
    "from lxml import etree\n",
    "\n",
    "# Read the xml file into a string\n",
    "xml_file = '../../tests/panda.xml'\n",
    "tree = etree.parse(xml_file)\n",
    "xml_string = etree.tostring(tree).decode()\n",
    "\n",
    "# Constructing Collision Avoidance objective and box shape\n",
    "collision = CollisionSettingInfo(d_max = 0.1, r = 0.0, a_max = 2.0, time_budget = 100, timed = False)\n",
    "box = BoxShape(name=\"Table\",frame=\"world\",physical=True,x=2,y=1,z=1.2,translation=Translation(x=0.0,y=0.0,z=0.0), rotation=Rotation(x=0.0,y=0.0,z=0.0,w=1.0))\n",
    "\n",
    "# print(xml_string)\n",
    "# Instantiate a new solver\n",
    "solver = Solver(\n",
    "  urdf=xml_string, # Full urdf as a string\n",
    "  objectives={\n",
    "      # An example objectives\n",
    "      \"smoothness\":SmoothnessMacroObjective(name=\"MySmoothnessObjective\",weight=5,joints=True,origin=False,links=True),\n",
    "      \"collision\": CollisionAvoidanceObjective(name=\"MyCollisionAvoidanceObjective\", weight=5),\n",
    "      \"jointLimit\": JointLimitsObjective(name=\"MyJointLimitObjective\", weight=5)\n",
    "      \n",
    "  },\n",
    "  root_bounds=[\n",
    "      ScalarRange(value=0.0,delta=0.0),ScalarRange(value=2.5,delta=0.0),ScalarRange(value=0.0,delta=0.0), # Translational, (x, y, z)\n",
    "      ScalarRange(value=0.0,delta=0.0),ScalarRange(value=0.0,delta=0.0),ScalarRange(value=0.0,delta=0.0)  # Rotational, (r, p, y)\n",
    "  ],\n",
    "  shapes=[\n",
    "      box\n",
    "  ],\n",
    "  collision_settings = collision\n",
    "\n",
    ")\n",
    "\n",
    "# Run solve to get a solved state\n",
    "state = solver.solve({},{},0.0)\n",
    "# Log the initial state\n",
    "print(state.origin.as_dicts())\n",
    "print(state.joints)\n",
    "print(state.frames[\"panda_link0\"])\n",
    "print(state.proximity)"
   ]
  }
 ],
 "metadata": {
  "kernelspec": {
   "display_name": "base",
   "language": "python",
   "name": "python3"
  },
  "language_info": {
   "codemirror_mode": {
    "name": "ipython",
    "version": 3
   },
   "file_extension": ".py",
   "mimetype": "text/x-python",
   "name": "python",
   "nbconvert_exporter": "python",
   "pygments_lexer": "ipython3",
   "version": "3.8.8"
  },
  "orig_nbformat": 4,
  "vscode": {
   "interpreter": {
    "hash": "d63fb22d2eb77a4d242eaa81b607b4036aaf35ce987638ccbb395621be85a420"
   }
  }
 },
 "nbformat": 4,
 "nbformat_minor": 2
}
