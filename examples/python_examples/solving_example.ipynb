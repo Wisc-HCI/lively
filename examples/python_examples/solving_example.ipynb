{
 "cells": [
  {
   "cell_type": "code",
   "execution_count": 1,
   "metadata": {},
   "outputs": [
    {
     "name": "stdout",
     "output_type": "stream",
     "text": [
      "({'x': 0.0, 'z': 0.0, 'y': 0.0}, {'x': 0.0, 'w': 1.0, 'y': 0.0, 'z': 0.0})\n",
      "{'panda_joint1': -1.7584339786062264e-07, 'panda_joint3': -1.7509688830476996e-07, 'panda_finger_joint2': 0.029211290070767667, 'panda_joint5': -3.8995041672062055e-08, 'panda_joint2': -4.545444325457867e-06, 'panda_joint4': -1.5708393176592177, 'panda_joint6': 1.8675023747631656, 'panda_finger_joint1': 0.029211290070767667, 'panda_joint7': -0.00014566664876653805}\n",
      "TransformInfo: world:{translation: {x:0.0, y:0.0, z:0.0}, rotation: {w:1.0, x:0.0, y:0.0, z:0.0}}, local: {translation: {x:0.0, y:0.0, z:0.0}, rotation: {w:1.0, x:0.0, y:0.0, z:0.0}}\n",
      "[ProximityInfo: {shape1: \"panda_link1\", shape2: \"panda_link2\", distance: -0.04999999999998839, points: Some(([-2.675556898748609e-7, 1.249786190593223e-13, 0.39299999999939733], [-5.062541290606117e-8, 9.06965474944954e-14, 0.34299999999987957])), physical: true, loss: 1.0499999999999883, average_distance: Some(1.0)}, ProximityInfo: {shape1: \"panda_link3\", shape2: \"panda_link5\", distance: -0.023348296418237578, points: Some(([0.09682078798411323, -3.397846944065149e-8, 0.7013645953947573], [0.08967951102279498, -3.147234799373058e-8, 0.6791352204823671])), physical: true, loss: 1.0233482964182377, average_distance: Some(1.0)}, ProximityInfo: {shape1: \"panda_hand\", shape2: \"panda_leftfinger\", distance: 0.0008999999999998141, points: Some(([0.6271758108884589, -0.025899369866617086, 0.5955165992685586], [0.6274389123981932, -0.02589936999251143, 0.5946559148922769])), physical: true, loss: 0.9999746878203586, average_distance: Some(1.0)}, ProximityInfo: {shape1: \"panda_link6\", shape2: \"panda_link7\", distance: 0.003999999999999983, points: Some(([0.5651178480817666, -0.0023531401744541483, 0.7135301895337738], [0.5662871881250303, -0.0023531407339841227, 0.7097049256391883])), physical: true, loss: 0.9995001249791693, average_distance: Some(1.0)}, ProximityInfo: {shape1: \"panda_link5\", shape2: \"panda_link7\", distance: 0.02094742396206778, points: Some(([0.5045359640370313, -0.005000175319360568, 0.7074357215602353], [0.5222407672716841, -0.005000182067932233, 0.6962404317886933])), physical: true, loss: 0.9863812554209296, average_distance: Some(1.0)}, ProximityInfo: {shape1: \"panda_leftfinger\", shape2: \"panda_rightfinger\", distance: 0.05742258014153516, points: Some(([0.6280747048066657, -0.020299216954240418, 0.5734138390903855], [0.5892389090510044, 0.02029877695893867, 0.5615421682576398])), physical: true, loss: 0.9020888394038258, average_distance: Some(1.0)}, ProximityInfo: {shape1: \"panda_link5\", shape2: \"panda_hand\", distance: 0.05205077588271829, points: Some(([0.4810387696566047, 0.05655601085541769, 0.6888983443235778], [0.4978600761630339, 0.056556003368941975, 0.6396405843520799])), physical: true, loss: 0.9188199436707923, average_distance: Some(1.0)}, ProximityInfo: {shape1: \"panda_link7\", shape2: \"panda_rightfinger\", distance: 0.08789999999999934, points: Some(([0.5514436062578181, 0.017530839767603654, 0.6633402274965268], [0.5771398537085394, 0.017530827471930775, 0.57928005341301])), physical: true, loss: 0.7854878317460189, average_distance: Some(1.0)}]\n"
     ]
    }
   ],
   "source": [
    "from lively import Solver, Translation, Rotation,Transform,SmoothnessMacroObjective, CollisionAvoidanceObjective, JointLimitsObjective, BoxShape, CollisionSettingInfo, ScalarRange\n",
    "from lxml import etree\n",
    "\n",
    "# Constructed CollisionAvoidance Objective ,BoxShape and configured Collision Setting\n",
    "box = BoxShape(name=\"Table\",frame=\"world\",physical=True,x=2,y=1,z=1.2,translation = Translation(x=1.0, y =2.0, z=3.0),\n",
    "rotation = Rotation(x=0.0,y=0.0,z=0.0,w=1.0))\n",
    "collision = CollisionSettingInfo(d_max = 0.1, r = 0.0, a_max = 2.0, time_budget = 100, timed = False)\n",
    "\n",
    "# Read the xml file into a string\n",
    "xml_file = '../../tests/panda.xml'\n",
    "tree = etree.parse(xml_file)\n",
    "xml_string = etree.tostring(tree).decode()\n",
    "\n",
    "#print(xml_string)\n",
    "# Instantiate a new solver\n",
    "solver = Solver(\n",
    "  urdf=xml_string, # Full urdf as a string\n",
    "  objectives={\n",
    "      # An example objective (smoothness macro)\n",
    "      \"smoothness\":SmoothnessMacroObjective(name=\"MySmoothnessObjective\",weight=5,joints=True,origin=False,links=True),\n",
    "      \"collision\": CollisionAvoidanceObjective(name=\"MyCollisionAvoidanceObjective\", weight=5),\n",
    "      \"jointLimit\": JointLimitsObjective(name=\"MyJointLimitObjective\", weight=5)\n",
    "      \n",
    "  },\n",
    "  root_bounds=[\n",
    "      ScalarRange(value=0.0,delta=0.0),ScalarRange(value=0.0,delta=0.0),ScalarRange(value=0.0,delta=0.0), # Translational, (x, y, z)\n",
    "      ScalarRange(value=0.0,delta=0.0),ScalarRange(value=0.0,delta=0.0),ScalarRange(value=0.0,delta=0.0)  # Rotational, (r, p, y)\n",
    "  ],\n",
    "  shapes=[\n",
    "      box\n",
    "  ],\n",
    "  collision_settings = collision\n",
    "\n",
    ")\n",
    "\n",
    "# Run solve to get a solved state\n",
    "state = solver.solve(goals= {\"MyGoal1\": Translation(x=1.0, y =2.0, z=3.0)},weights = {},time = 0.0)\n",
    "# Log the initial state\n",
    "print(state.origin.as_dicts())\n",
    "print(state.joints)\n",
    "print(state.frames[\"panda_link0\"])\n",
    "print(state.proximity)"
   ]
  }
 ],
 "metadata": {
  "kernelspec": {
   "display_name": "Python 3",
   "language": "python",
   "name": "python3"
  },
  "language_info": {
   "codemirror_mode": {
    "name": "ipython",
    "version": 3
   },
   "file_extension": ".py",
   "mimetype": "text/x-python",
   "name": "python",
   "nbconvert_exporter": "python",
   "pygments_lexer": "ipython3",
   "version": "3.11.1"
  },
  "orig_nbformat": 4,
  "vscode": {
   "interpreter": {
    "hash": "5c7b89af1651d0b8571dde13640ecdccf7d5a6204171d6ab33e7c296e100e08a"
   }
  }
 },
 "nbformat": 4,
 "nbformat_minor": 2
}
