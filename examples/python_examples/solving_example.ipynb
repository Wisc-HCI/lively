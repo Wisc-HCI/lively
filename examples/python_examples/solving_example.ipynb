{
 "cells": [
  {
   "cell_type": "code",
   "execution_count": 3,
   "metadata": {},
   "outputs": [
    {
     "ename": "AttributeError",
     "evalue": "module 'xml.etree' has no attribute 'parse'",
     "output_type": "error",
     "traceback": [
      "\u001b[0;31m---------------------------------------------------------------------------\u001b[0m",
      "\u001b[0;31mAttributeError\u001b[0m                            Traceback (most recent call last)",
      "\u001b[1;32m/Users/schoen/Projects/lively/examples/python_examples/solving_example.ipynb Cell 1\u001b[0m in \u001b[0;36m1\n\u001b[1;32m      <a href='vscode-notebook-cell:/Users/schoen/Projects/lively/examples/python_examples/solving_example.ipynb#W0sZmlsZQ%3D%3D?line=8'>9</a>\u001b[0m \u001b[39m# Read the xml file into a string\u001b[39;00m\n\u001b[1;32m     <a href='vscode-notebook-cell:/Users/schoen/Projects/lively/examples/python_examples/solving_example.ipynb#W0sZmlsZQ%3D%3D?line=9'>10</a>\u001b[0m xml_file \u001b[39m=\u001b[39m \u001b[39m'\u001b[39m\u001b[39m../../tests/panda.xml\u001b[39m\u001b[39m'\u001b[39m\n\u001b[0;32m---> <a href='vscode-notebook-cell:/Users/schoen/Projects/lively/examples/python_examples/solving_example.ipynb#W0sZmlsZQ%3D%3D?line=10'>11</a>\u001b[0m tree \u001b[39m=\u001b[39m etree\u001b[39m.\u001b[39;49mparse(xml_file)\n\u001b[1;32m     <a href='vscode-notebook-cell:/Users/schoen/Projects/lively/examples/python_examples/solving_example.ipynb#W0sZmlsZQ%3D%3D?line=11'>12</a>\u001b[0m xml_string \u001b[39m=\u001b[39m etree\u001b[39m.\u001b[39mtostring(tree)\u001b[39m.\u001b[39mdecode()\n\u001b[1;32m     <a href='vscode-notebook-cell:/Users/schoen/Projects/lively/examples/python_examples/solving_example.ipynb#W0sZmlsZQ%3D%3D?line=13'>14</a>\u001b[0m \u001b[39m#print(xml_string)\u001b[39;00m\n\u001b[1;32m     <a href='vscode-notebook-cell:/Users/schoen/Projects/lively/examples/python_examples/solving_example.ipynb#W0sZmlsZQ%3D%3D?line=14'>15</a>\u001b[0m \u001b[39m# Instantiate a new solver\u001b[39;00m\n",
      "\u001b[0;31mAttributeError\u001b[0m: module 'xml.etree' has no attribute 'parse'"
     ]
    }
   ],
   "source": [
    "from lively import Solver, Translation, Rotation,Transform,SmoothnessMacroObjective, CollisionAvoidanceObjective, JointLimitsObjective, BoxShape, CollisionSettingInfo, ScalarRange\n",
    "from lxml import etree\n",
    "\n",
    "# Constructed CollisionAvoidance Objective ,BoxShape and configured Collision Setting\n",
    "box = BoxShape(name=\"Table\",frame=\"world\",physical=True,x=2,y=1,z=1.2,translation = Translation(x=1.0, y =2.0, z=3.0),\n",
    "rotation = Rotation(x=0.0,y=0.0,z=0.0,w=1.0))\n",
    "collision = CollisionSettingInfo(d_max = 0.1, r = 0.0, a_max = 2.0, time_budget = 100, timed = False)\n",
    "\n",
    "# Read the xml file into a string\n",
    "xml_file = '../../tests/panda.xml'\n",
    "tree = etree.parse(xml_file)\n",
    "xml_string = etree.tostring(tree).decode()\n",
    "\n",
    "#print(xml_string)\n",
    "# Instantiate a new solver\n",
    "solver = Solver(\n",
    "  urdf=xml_string, # Full urdf as a string\n",
    "  objectives={\n",
    "      # An example objective (smoothness macro)\n",
    "      \"smoothness\":SmoothnessMacroObjective(name=\"MySmoothnessObjective\",weight=5,joints=True,origin=False,links=True),\n",
    "      \"collision\": CollisionAvoidanceObjective(name=\"MyCollisionAvoidanceObjective\", weight=5),\n",
    "      \"jointLimit\": JointLimitsObjective(name=\"MyJointLimitObjective\", weight=5)\n",
    "      \n",
    "  },\n",
    "  root_bounds=[\n",
    "      ScalarRange(value=0.0,delta=0.0),ScalarRange(value=0.0,delta=0.0),ScalarRange(value=0.0,delta=0.0), # Translational, (x, y, z)\n",
    "      ScalarRange(value=0.0,delta=0.0),ScalarRange(value=0.0,delta=0.0),ScalarRange(value=0.0,delta=0.0)  # Rotational, (r, p, y)\n",
    "  ],\n",
    "  shapes=[\n",
    "      box\n",
    "  ],\n",
    "  collision_settings = collision\n",
    "\n",
    ")\n",
    "\n",
    "# Run solve to get a solved state\n",
    "state = solver.solve(goals= {\"MyGoal1\": Translation(x=1.0, y =2.0, z=3.0)},weights = {},time = 0.0)\n",
    "# Log the initial state\n",
    "print(state.origin.as_dicts())\n",
    "print(state.joints)\n",
    "print(state.frames[\"panda_link0\"])\n",
    "print(state.proximity)"
   ]
  },
  {
   "cell_type": "code",
   "execution_count": null,
   "metadata": {},
   "outputs": [],
   "source": []
  }
 ],
 "metadata": {
  "kernelspec": {
   "display_name": "Python 3",
   "language": "python",
   "name": "python3"
  },
  "language_info": {
   "codemirror_mode": {
    "name": "ipython",
    "version": 3
   },
   "file_extension": ".py",
   "mimetype": "text/x-python",
   "name": "python",
   "nbconvert_exporter": "python",
   "pygments_lexer": "ipython3",
   "version": "3.9.13"
  },
  "orig_nbformat": 4,
  "vscode": {
   "interpreter": {
    "hash": "5c7b89af1651d0b8571dde13640ecdccf7d5a6204171d6ab33e7c296e100e08a"
   }
  }
 },
 "nbformat": 4,
 "nbformat_minor": 2
}
