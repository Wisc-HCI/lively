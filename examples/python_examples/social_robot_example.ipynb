{
 "cells": [
  {
   "cell_type": "code",
   "execution_count": 3,
   "metadata": {},
   "outputs": [
    {
     "name": "stdout",
     "output_type": "stream",
     "text": [
      "({'x': 0.0, 'z': 0.0, 'y': 0.0}, {'z': 0.0, 'y': 0.0, 'x': 0.0, 'w': 1.0})\n",
      "{'LFinger21': 0.30671098947905234, 'RFinger31': 0.3051498806161248, 'LFinger31': 0.30671098947905234, 'LShoulderRoll': 0.7889923684357429, 'LFinger42': 0.30671098947905234, 'RHand': 0.34967585570193005, 'RFinger42': 0.3051498806161248, 'HeadYaw': 0.0039061453328515755, 'RShoulderRoll': -0.7813685268451939, 'LShoulderPitch': 0.0028484825443705563, 'LFinger41': 0.30671098947905234, 'LFinger43': 0.30671098947905234, 'RFinger33': 0.3051498806161248, 'LFinger13': 0.30671098947905234, 'LFinger23': 0.30671098947905234, 'LElbowRoll': -0.7811919854287536, 'LFinger12': 0.30671098947905234, 'LThumb2': 0.30671098947905234, 'RFinger22': 0.3051498806161248, 'RThumb1': 0.3051498806161248, 'RFinger13': 0.3051498806161248, 'RThumb2': 0.3051498806161248, 'RElbowYaw': 7.177040926903798e-05, 'RWristYaw': 0.0004616272661463161, 'RFinger11': 0.3051498806161248, 'LFinger32': 0.30671098947905234, 'RFinger43': 0.3051498806161248, 'LHand': 0.3514647539193761, 'RFinger21': 0.3051498806161248, 'LFinger22': 0.30671098947905234, 'LWristYaw': 0.00390260451056955, 'RFinger32': 0.3051498806161248, 'RFinger41': 0.3051498806161248, 'LFinger33': 0.30671098947905234, 'RFinger12': 0.3051498806161248, 'KneePitch': 0.0021023826703330277, 'HipRoll': 0.004938832184641695, 'LElbowYaw': 0.0033969514044703115, 'HeadPitch': -0.1326158927524031, 'LFinger11': 0.30671098947905234, 'RShoulderPitch': 0.0067319424780087, 'RElbowRoll': 0.7901924598827015, 'HipPitch': 0.0035162946754620063, 'RFinger23': 0.3051498806161248, 'LThumb1': 0.30671098947905234}\n",
      "[ProximityInfo: {shape1: \"Head\", shape2: \"Hip\", distance: -0.0029827818981938703, points: Some(([-0.05384742077737557, 0.001963494465274756, 0.968723030521318], [-0.053864179978274015, 0.001963494465274801, 0.9717057653371167])), physical: true, loss: 1.0029827818981938, average_distance: Some(1.0)}, ProximityInfo: {shape1: \"Hip\", shape2: \"RElbow\", distance: -0.0016700797629566105, points: Some(([-0.011521475377969242, -0.1697407134101458, 0.8818222151870432], [-0.011429269732941442, -0.16807318102207788, 0.8818227332662584])), physical: true, loss: 1.0016700797629565, average_distance: Some(1.0)}, ProximityInfo: {shape1: \"LElbow\", shape2: \"LForeArm\", distance: 0.029445316683146892, points: Some(([0.06084753125649741, 0.2435302073116846, 0.9413413608439373], [0.08917243627133813, 0.2514986491975141, 0.9402321429288194])), physical: true, loss: 0.973269181886885, average_distance: Some(1.0)}]\n"
     ]
    }
   ],
   "source": [
    "from lively import Solver, Translation, Rotation,Transform, OrientationLivelinessObjective, OrientationMatchObjective, SmoothnessMacroObjective, PositionMatchObjective, JointMatchObjective, CollisionAvoidanceObjective, JointLimitsObjective, BoxShape, CollisionSettingInfo, ScalarRange\n",
    "from lxml import etree\n",
    "\n",
    "# Constructed CollisionAvoidance Objective ,BoxShape and configured Collision Setting\n",
    "box = BoxShape(name=\"Table\",frame=\"world\",physical=True,x=2,y=1,z=1.2,translation = Translation(x=1.0, y =2.0, z=3.0),\n",
    "rotation = Rotation(x=0.0,y=0.0,z=0.0,w=1.0))\n",
    "collision = CollisionSettingInfo(d_max = 0.1, r = 0.0, a_max = 2.0, time_budget = 100, timed = False)\n",
    "\n",
    "# Read the xml file into a string\n",
    "xml_file = '../../tests/pepper.xml'\n",
    "tree = etree.parse(xml_file)\n",
    "xml_string = etree.tostring(tree).decode()\n",
    "#print(xml_string)\n",
    "# Instantiate a new solver\n",
    "solver = Solver(\n",
    "  urdf=xml_string, # Full urdf as a string\n",
    "  objectives={\n",
    "      # An example objective (smoothness macro)\n",
    "      \"smoothness\":SmoothnessMacroObjective(name=\"MySmoothnessObjective\",weight=25,joints=True,origin=False,links=True),\n",
    "      \"collision\": CollisionAvoidanceObjective(name=\"MyCollisionAvoidanceObjective\", weight=0.5),\n",
    "      \"jointLimit\": JointLimitsObjective(name=\"MyJointLimitObjective\", weight=5),\n",
    "      \"torso Position\": PositionMatchObjective(name=\"MyPositionMatchObjective\", weight=10, link=\"torso\"),\n",
    "      \"positionMatch\": PositionMatchObjective(name=\"R Hand Position\", weight=10, link=\"r_gripper\"),\n",
    "      \"r hand orientation\": OrientationMatchObjective(name=\"R Hand Orientation\", weight=10, link=\"r_gripper\"),\n",
    "      \"headOrientation\": OrientationMatchObjective(name=\"Gaze\",link=\"Head\",weight=7),\n",
    "      \"idleGaze\": OrientationLivelinessObjective(name=\"Idle Gaze\", link= \"Head\", weight=20, frequency=10),\n",
    "      \"LShoulderPitch\": JointMatchObjective(name=\"LShoulderPitch\", joint=\"LShoulderPitch\", weight=10),\n",
    "      \"LShoulderRoll\": JointMatchObjective(name=\"LShoulderRoll\", joint=\"LShoulderRoll\", weight=10),\n",
    "      \"LElbowYaw\": JointMatchObjective(name=\"LElbowYaw\", joint=\"LElbowYaw\", weight=10),\n",
    "      \"LElbowRoll\": JointMatchObjective(name=\"LElbowRoll\", joint=\"LElbowRoll\", weight=10),\n",
    "      \"LWristYaw\": JointMatchObjective(name=\"LWristYaw\", joint=\"LWristYaw\", weight=10),\n",
    "      \"LHand\": JointMatchObjective(name=\"LHand\", joint=\"LHand\", weight=10),\n",
    "      \n",
    "  },\n",
    "  root_bounds=[\n",
    "      ScalarRange(value=0.0,delta=0.0),ScalarRange(value=0.0,delta=0.0),ScalarRange(value=0.0,delta=0.0), # Translational, (x, y, z)\n",
    "      ScalarRange(value=0.0,delta=0.0),ScalarRange(value=0.0,delta=0.0),ScalarRange(value=0.0,delta=0.0)  # Rotational, (r, p, y)\n",
    "  ],\n",
    "  shapes=[\n",
    "      box\n",
    "  ],\n",
    "  collision_settings = collision\n",
    "\n",
    ")\n",
    "\n",
    "# Run solve to get a solved state\n",
    "state = solver.solve(goals= {\"MyGoal1\": Translation(x=1.0, y =2.0, z=3.0)},weights = {},time = 0.0)\n",
    "# Log the initial state\n",
    "print(state.origin.as_dicts())\n",
    "print(state.joints)\n",
    "print(state.proximity)"
   ]
  }
 ],
 "metadata": {
  "kernelspec": {
   "display_name": "base",
   "language": "python",
   "name": "python3"
  },
  "language_info": {
   "codemirror_mode": {
    "name": "ipython",
    "version": 3
   },
   "file_extension": ".py",
   "mimetype": "text/x-python",
   "name": "python",
   "nbconvert_exporter": "python",
   "pygments_lexer": "ipython3",
   "version": "3.8.8"
  },
  "orig_nbformat": 4,
  "vscode": {
   "interpreter": {
    "hash": "d63fb22d2eb77a4d242eaa81b607b4036aaf35ce987638ccbb395621be85a420"
   }
  }
 },
 "nbformat": 4,
 "nbformat_minor": 2
}
