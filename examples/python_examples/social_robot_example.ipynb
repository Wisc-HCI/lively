{
 "cells": [
  {
   "cell_type": "code",
   "execution_count": 1,
   "metadata": {},
   "outputs": [
    {
     "name": "stdout",
     "output_type": "stream",
     "text": [
      "({'x': 0.0, 'y': 0.0, 'z': 0.0}, {'z': 0.0, 'y': 0.0, 'x': 0.0, 'w': 1.0})\n",
      "{'panda_joint1': 9.948786930518066e-13, 'panda_joint7': 4.581040777949828e-07, 'panda_joint2': 9.928497154444936e-13, 'panda_joint6': 1.8675023256031476, 'panda_finger_joint1': 0.020000478122966445, 'panda_finger_joint2': 0.020000478122966445, 'panda_joint5': 4.5810414785932124e-07, 'panda_joint3': 4.581041437981835e-07, 'panda_joint4': -1.5707995418958756}\n",
      "TransformInfo: world:{translation: {x:0.0, y:0.0, z:0.0}, rotation: {w:1.0, x:0.0, y:0.0, z:0.0}}, local: {translation: {x:0.0, y:0.0, z:0.0}, rotation: {w:1.0, x:0.0, y:0.0, z:0.0}}\n",
      "[ProximityInfo: {shape1: \"panda_link1\", shape2: \"panda_link2\", distance: -0.04999999999998844, points: Some(([-5.170949430553605e-9, -7.786133364021042e-14, 0.3929999999999937], [5.171018930033686e-9, -8.176966048711876e-14, 0.3430000000000063])), physical: true, loss: 1.0499999999999885, average_distance: Some(1.0)}, ProximityInfo: {shape1: \"panda_link3\", shape2: \"panda_link5\", distance: -0.02334839109266102, points: Some(([0.09682041264177928, 4.435383917995789e-8, 0.7013648137451165], [0.0896798526046172, 4.108293123531532e-8, 0.6791351090918485])), physical: true, loss: 1.023348391092661, average_distance: Some(1.0)}, ProximityInfo: {shape1: \"panda_hand\", shape2: \"panda_leftfinger\", distance: 0.0009000000000000639, points: Some(([0.6216391300584876, -0.02011322144981954, 0.5938416627898766], [0.621902261847932, -0.02011322093499903, 0.5929809876703434])), physical: true, loss: 0.9999746878203586, average_distance: Some(1.0)}, ProximityInfo: {shape1: \"panda_link6\", shape2: \"panda_link7\", distance: 0.004000000000000021, points: Some(([0.5651166829591909, -0.002352674069849028, 0.7135467107879592], [0.5662861575789437, -0.002352671781758017, 0.7097214880344782])), physical: true, loss: 0.9995001249791693, average_distance: Some(1.0)}, ProximityInfo: {shape1: \"panda_link5\", shape2: \"panda_link7\", distance: 0.020946947564196954, points: Some(([0.5045351429953625, -0.004999755226251313, 0.7074498922987094], [0.5222398426911057, -0.004999742086069218, 0.6962553301839771])), physical: true, loss: 0.9863818706267835, average_distance: Some(1.0)}, ProximityInfo: {shape1: \"panda_leftfinger\", shape2: \"panda_rightfinger\", distance: 0.039000956245932875, points: Some(([0.6218475301722767, -0.013788568479116246, 0.5715275983848395], [0.5954746837487601, 0.01378927640080794, 0.5634647185396712])), physical: true, loss: 0.9535784505933091, average_distance: Some(1.0)}, ProximityInfo: {shape1: \"panda_link5\", shape2: \"panda_hand\", distance: 0.052051043551815224, points: Some(([0.4810425772406819, 0.05656882092320778, 0.6889133434015225], [0.4978696957614225, 0.056568851515932286, 0.6396572857322269])), physical: true, loss: 0.9188191435845557, average_distance: Some(1.0)}, ProximityInfo: {shape1: \"panda_link7\", shape2: \"panda_rightfinger\", distance: 0.08790000000000006, points: Some(([0.556900304044147, 0.013240392824939357, 0.6650243572177906], [0.5825995088132145, 0.013240443105739482, 0.5809650872100455])), physical: true, loss: 0.7854878317460158, average_distance: Some(1.0)}]\n"
     ]
    }
   ],
   "source": [
    "from lively import Solver, Translation, Rotation,Transform, OrientationLivelinessObjective, OrientationMatchObjective, SmoothnessMacroObjective, PositionMatchObjective, JointMatchObjective, CollisionAvoidanceObjective, JointLimitsObjective, BoxShape, CollisionSettingInfo, ScalarRange\n",
    "from lxml import etree\n",
    "\n",
    "# Constructed CollisionAvoidance Objective ,BoxShape and configured Collision Setting\n",
    "box = BoxShape(name=\"Table\",frame=\"world\",physical=True,x=2,y=1,z=1.2,translation = Translation(x=1.0, y =2.0, z=3.0),\n",
    "rotation = Rotation(x=0.0,y=0.0,z=0.0,w=1.0))\n",
    "collision = CollisionSettingInfo(d_max = 0.1, r = 0.0, a_max = 2.0, time_budget = 100, timed = False)\n",
    "\n",
    "# Read the xml file into a string\n",
    "xml_file = '../../tests/panda.xml'\n",
    "tree = etree.parse(xml_file)\n",
    "xml_string = etree.tostring(tree).decode()\n",
    "#print(xml_string)\n",
    "# Instantiate a new solver\n",
    "solver = Solver(\n",
    "  urdf=xml_string, # Full urdf as a string\n",
    "  objectives={\n",
    "      # An example objective (smoothness macro)\n",
    "      \"smoothness\":SmoothnessMacroObjective(name=\"MySmoothnessObjective\",weight=25,joints=True,origin=False,links=True),\n",
    "      \"collision\": CollisionAvoidanceObjective(name=\"MyCollisionAvoidanceObjective\", weight=0.5),\n",
    "      \"jointLimit\": JointLimitsObjective(name=\"MyJointLimitObjective\", weight=5),\n",
    "      \"torso Position\": PositionMatchObjective(name=\"MyPositionMatchObjective\", weight=10, link=\"torso\"),\n",
    "      \"positionMatch\": PositionMatchObjective(name=\"R Hand Position\", weight=10, link=\"r_gripper\"),\n",
    "      \"r hand orientation\": OrientationMatchObjective(name=\"R Hand Orientation\", weight=10, link=\"r_gripper\"),\n",
    "      \"headOrientation\": OrientationMatchObjective(name=\"Gaze\",link=\"Head\",weight=7),\n",
    "      \"idleGaze\": OrientationLivelinessObjective(name=\"Idle Gaze\", link= \"Head\", weight=20, frequency=10),\n",
    "      \"LShoulderPitch\": JointMatchObjective(name=\"LShoulderPitch\", joint=\"LShoulderPitch\", weight=10),\n",
    "      \"LShoulderRoll\": JointMatchObjective(name=\"LShoulderRoll\", joint=\"LShoulderRoll\", weight=10),\n",
    "      \"LElbowYaw\": JointMatchObjective(name=\"LElbowYaw\", joint=\"LElbowYaw\", weight=10),\n",
    "      \"LElbowRoll\": JointMatchObjective(name=\"LElbowRoll\", joint=\"LElbowRoll\", weight=10),\n",
    "      \"LWristYaw\": JointMatchObjective(name=\"LWristYaw\", joint=\"LWristYaw\", weight=10),\n",
    "      \"LHand\": JointMatchObjective(name=\"LHand\", joint=\"LHand\", weight=10),\n",
    "      \n",
    "  },\n",
    "  root_bounds=[\n",
    "      ScalarRange(value=0.0,delta=0.0),ScalarRange(value=0.0,delta=0.0),ScalarRange(value=0.0,delta=0.0), # Translational, (x, y, z)\n",
    "      ScalarRange(value=0.0,delta=0.0),ScalarRange(value=0.0,delta=0.0),ScalarRange(value=0.0,delta=0.0)  # Rotational, (r, p, y)\n",
    "  ],\n",
    "  shapes=[\n",
    "      box\n",
    "  ],\n",
    "  collision_settings = collision\n",
    "\n",
    ")\n",
    "\n",
    "# Run solve to get a solved state\n",
    "state = solver.solve(goals= {\"MyGoal1\": Translation(x=1.0, y =2.0, z=3.0)},weights = {},time = 0.0)\n",
    "# Log the initial state\n",
    "print(state.origin.as_dicts())\n",
    "print(state.joints)\n",
    "print(state.frames[\"panda_link0\"])\n",
    "print(state.proximity)"
   ]
  }
 ],
 "metadata": {
  "kernelspec": {
   "display_name": "base",
   "language": "python",
   "name": "python3"
  },
  "language_info": {
   "codemirror_mode": {
    "name": "ipython",
    "version": 3
   },
   "file_extension": ".py",
   "mimetype": "text/x-python",
   "name": "python",
   "nbconvert_exporter": "python",
   "pygments_lexer": "ipython3",
   "version": "3.8.8"
  },
  "orig_nbformat": 4,
  "vscode": {
   "interpreter": {
    "hash": "d63fb22d2eb77a4d242eaa81b607b4036aaf35ce987638ccbb395621be85a420"
   }
  }
 },
 "nbformat": 4,
 "nbformat_minor": 2
}
