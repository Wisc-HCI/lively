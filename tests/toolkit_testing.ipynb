{
 "cells": [
  {
   "cell_type": "code",
   "execution_count": 1,
   "metadata": {},
   "outputs": [
    {
     "name": "stdout",
     "output_type": "stream",
     "text": [
      "env: RUST_BACKTRACE=1\n"
     ]
    }
   ],
   "source": [
    "%env RUST_BACKTRACE=1\n",
    "import logging\n",
    "FORMAT = '%(levelname)s %(name)s %(asctime)-15s %(filename)s:%(lineno)d %(message)s'\n",
    "logging.basicConfig(format=FORMAT)\n",
    "logging.getLogger().setLevel(logging.INFO)\n",
    "from lively_tk import Solver,BoxShape, PositionMatchObjective, OrientationMatchObjective, CollisionAvoidanceObjective, SmoothnessMacroObjective, Translation, Rotation, ScalarRange,Transform,State, CollisionSettingInfo"
   ]
  },
  {
   "cell_type": "code",
   "execution_count": 2,
   "metadata": {},
   "outputs": [],
   "source": [
    "with open('./ur3e.xml') as file:\n",
    "    data = file.read()"
   ]
  },
  {
   "cell_type": "code",
   "execution_count": 11,
   "metadata": {},
   "outputs": [],
   "source": [
    "solver = Solver(\n",
    "    urdf = data, \n",
    "    objectives = {\n",
    "        \"PositionMatchObjective\" :  PositionMatchObjective(name=\"EE Position\", weight=20, link=\"wrist_3_link\"),\n",
    "        \"CollisionAvoidanceObjective\" : CollisionAvoidanceObjective(name=\"Collision Avoidance\", weight=10),\n",
    "        \"SmoothnessMacroObjective\" : SmoothnessMacroObjective(name=\"Smoothness\", weight=10)\n",
    "    },\n",
    "    collision_settings = CollisionSettingInfo(d_max = 0.3, r = 0.0, a_max = 2.0, time_budget = 100, timed = True),\n",
    "    \n",
    "       \n",
    "        \n",
    "        \n",
    "    \n",
    ")"
   ]
  },
  {
   "cell_type": "code",
   "execution_count": 12,
   "metadata": {},
   "outputs": [
    {
     "data": {
      "text/plain": [
       "'EE Position'"
      ]
     },
     "execution_count": 12,
     "metadata": {},
     "output_type": "execute_result"
    }
   ],
   "source": [
    "solver.objectives[\"PositionMatchObjective\"].name"
   ]
  },
  {
   "cell_type": "code",
   "execution_count": 13,
   "metadata": {},
   "outputs": [],
   "source": [
    "for i in range(10): \n",
    "    solver.solve(\n",
    "        goals=\n",
    "        {\"PositionMatchObjective\" : Translation(0.47, 0.0, 0.73)}\n",
    "        ,weights = {}\n",
    "        ,time=0.12\n",
    "    )"
   ]
  },
  {
   "cell_type": "code",
   "execution_count": 14,
   "metadata": {},
   "outputs": [
    {
     "name": "stdout",
     "output_type": "stream",
     "text": [
      "[<Proximity (shape1: forearm_link, shape2: wrist_2_link, distance: 0.015366058015063034)>, <Proximity (shape1: base_link, shape2: forearm_link, distance: 0.1470222239358948)>, <Proximity (shape1: shoulder_link, shape2: forearm_link, distance: 0.1436499995523318)>, <Proximity (shape1: wrist_1_link, shape2: wrist_2_link, distance: 0.007849999999324377)>, <Proximity (shape1: forearm_link, shape2: wrist_1_link, distance: 0.0028500000000986486)>, <Proximity (shape1: base_link, shape2: shoulder_link, distance: 0.011899999999999904)>, <Proximity (shape1: shoulder_link, shape2: upper_arm_link, distance: -0.000000000010248961401782)>, <Proximity (shape1: upper_arm_link, shape2: wrist_3_link, distance: 0.15236442164927697)>]\n"
     ]
    }
   ],
   "source": [
    "state = solver.solve(\n",
    "    goals={\n",
    "        \"PositionMatchObjective\" : Translation(0.47, 0.0, 0.73)\n",
    "    }\n",
    "    ,weights = {}, time=0.0)\n",
    "print(state.proximity)"
   ]
  },
  {
   "cell_type": "code",
   "execution_count": 7,
   "metadata": {},
   "outputs": [
    {
     "name": "stdout",
     "output_type": "stream",
     "text": [
      "{'base': <builtins.TransformInfo object at 0x7f91a87e6540>, 'upper_arm_link': <builtins.TransformInfo object at 0x7f91b8806c90>, 'shoulder_link': <builtins.TransformInfo object at 0x7f91b8806780>, 'forearm_link': <builtins.TransformInfo object at 0x7f9198eeeb70>, 'tool0': <builtins.TransformInfo object at 0x7f9198eeec00>, 'flange': <builtins.TransformInfo object at 0x7f9198eeec90>, 'wrist_2_link': <builtins.TransformInfo object at 0x7f9198eeed20>, 'base_link': <builtins.TransformInfo object at 0x7f9198eeedb0>, 'wrist_1_link': <builtins.TransformInfo object at 0x7f9198eeee40>, 'wrist_3_link': <builtins.TransformInfo object at 0x7f9198eeeed0>}\n"
     ]
    },
    {
     "data": {
      "text/plain": [
       "<TransformInfo at 0x7f9198eeec00>"
      ]
     },
     "execution_count": 7,
     "metadata": {},
     "output_type": "execute_result"
    }
   ],
   "source": [
    "print(state.frames)\n",
    "state.frames['wrist_3_link']"
   ]
  },
  {
   "cell_type": "code",
   "execution_count": 8,
   "metadata": {},
   "outputs": [],
   "source": [
    "file.close();\n"
   ]
  },
  {
   "cell_type": "code",
   "execution_count": 9,
   "metadata": {},
   "outputs": [],
   "source": [
    "with open('./ur3e.xml') as staticEnvFile:\n",
    "    staticData = staticEnvFile.read()"
   ]
  },
  {
   "cell_type": "code",
   "execution_count": 10,
   "metadata": {},
   "outputs": [
    {
     "name": "stdout",
     "output_type": "stream",
     "text": [
      "[<Proximity (shape1: base_link, shape2: pedestalCollisionShapeTower, distance: -0.024999999999999967)>, <Proximity (shape1: wrist_3_link, shape2: conveyorRecieverCollisionShapeLeftSplit, distance: -0.006711773625071346)>, <Proximity (shape1: upper_arm_link, shape2: forearm_link, distance: -0.00199999999999996)>, <Proximity (shape1: shoulder_link, shape2: upper_arm_link, distance: 0.00000000001732596011105767)>, <Proximity (shape1: forearm_link, shape2: wrist_1_link, distance: 0.0028500000000986417)>, <Proximity (shape1: wrist_2_link, shape2: wrist_3_link, distance: 0.004899999994420371)>, <Proximity (shape1: wrist_1_link, shape2: wrist_2_link, distance: 0.007849999999324377)>, <Proximity (shape1: base_link, shape2: shoulder_link, distance: 0.011900000000000029)>, <Proximity (shape1: wrist_1_link, shape2: wrist_3_link, distance: 0.014255963649763094)>, <Proximity (shape1: forearm_link, shape2: wrist_2_link, distance: 0.015366057900047293)>, <Proximity (shape1: base_link, shape2: upper_arm_link, distance: 0.016899999986668295)>, <Proximity (shape1: wrist_2_link, shape2: conveyorRecieverCollisionShapeLeftSplit, distance: 0.03818822433648303)>, <Proximity (shape1: wrist_2_link, shape2: conveyorRecieverCollisionShapeRightSplit, distance: 0.046695213497940584)>, <Proximity (shape1: forearm_link, shape2: conveyorRecieverCollisionShapeRightSplit, distance: 0.05941642692348831)>, <Proximity (shape1: wrist_1_link, shape2: conveyorRecieverCollisionShapeLeftSplit, distance: 0.06880394624552005)>, <Proximity (shape1: shoulder_link, shape2: pedestalCollisionShapeTower, distance: 0.07690000000000019)>, <Proximity (shape1: upper_arm_link, shape2: pedestalCollisionShapeTower, distance: 0.08326230460170679)>, <Proximity (shape1: forearm_link, shape2: wrist_3_link, distance: 0.0861317492795676)>, <Proximity (shape1: wrist_1_link, shape2: conveyorRecieverCollisionShapeRightSplit, distance: 0.08691157396202087)>, <Proximity (shape1: forearm_link, shape2: conveyorRecieverCollisionShapeLeftSplit, distance: 0.1321400387356844)>, <Proximity (shape1: base_link, shape2: tableCollisionShapeTop, distance: 0.13250000000162154)>, <Proximity (shape1: upper_arm_link, shape2: wrist_1_link, distance: 0.1369000002758733)>, <Proximity (shape1: shoulder_link, shape2: forearm_link, distance: 0.14364999988664642)>, <Proximity (shape1: base_link, shape2: forearm_link, distance: 0.14702221817560235)>, <Proximity (shape1: wrist_3_link, shape2: conveyorRecieverCollisionShapeRightSplit, distance: 0.15159521350082267)>, <Proximity (shape1: upper_arm_link, shape2: wrist_3_link, distance: 0.15236443800241856)>, <Proximity (shape1: upper_arm_link, shape2: wrist_2_link, distance: 0.15236443833252541)>, <Proximity (shape1: shoulder_link, shape2: tableCollisionShapeTop, distance: 0.15576861283976676)>, <Proximity (shape1: upper_arm_link, shape2: conveyorRecieverCollisionShapeLeftSplit, distance: 0.1791378050292983)>, <Proximity (shape1: forearm_link, shape2: pedestalCollisionShapeTower, distance: 0.18334512403616984)>, <Proximity (shape1: upper_arm_link, shape2: conveyorRecieverCollisionShapeRightSplit, distance: 0.18787292168371422)>, <Proximity (shape1: base_link, shape2: conveyorDispatcherCollisionShapeBase, distance: 0.20007854412612297)>, <Proximity (shape1: shoulder_link, shape2: mk2CollisionShapeBase, distance: 0.21660255781788684)>, <Proximity (shape1: base_link, shape2: mk2CollisionShapeBase, distance: 0.21660255912093207)>, <Proximity (shape1: forearm_link, shape2: tableCollisionShapeFrontLeftLeg, distance: 0.2364475338080383)>, <Proximity (shape1: forearm_link, shape2: mk2CollisionShapeBase, distance: 0.24978361887138392)>, <Proximity (shape1: wrist_2_link, shape2: tableCollisionShapeFrontLeftLeg, distance: 0.2645600424854511)>, <Proximity (shape1: forearm_link, shape2: tableCollisionShapeTop, distance: 0.2672690561654363)>, <Proximity (shape1: shoulder_link, shape2: conveyorDispatcherCollisionShapeBase, distance: 0.2736369560072549)>, <Proximity (shape1: upper_arm_link, shape2: tableCollisionShapeTop, distance: 0.27651014652115813)>, <Proximity (shape1: forearm_link, shape2: conveyorCollisionShapeBase, distance: 0.3)>, <Proximity (shape1: wrist_1_link, shape2: conveyorCollisionShapeBelt, distance: 0.3)>, <Proximity (shape1: shoulder_link, shape2: conveyorCollisionShapeBelt, distance: 0.3)>, <Proximity (shape1: shoulder_link, shape2: conveyorRecieverCollisionShapeBase, distance: 0.3)>, <Proximity (shape1: shoulder_link, shape2: conveyorRecieverCollisionShapeLeftSplit, distance: 0.3)>, <Proximity (shape1: shoulder_link, shape2: conveyorRecieverCollisionShapeRightSplit, distance: 0.3)>, <Proximity (shape1: shoulder_link, shape2: conveyorDispatcherCollisionShapeLeftSplit, distance: 0.3)>, <Proximity (shape1: shoulder_link, shape2: conveyorDispatcherCollisionShapeRightSplit, distance: 0.3)>, <Proximity (shape1: shoulder_link, shape2: tableCollisionShapeFrontLeftLeg, distance: 0.3)>, <Proximity (shape1: shoulder_link, shape2: tableCollisionShapeRearLeftLeg, distance: 0.3)>, <Proximity (shape1: shoulder_link, shape2: tableCollisionShapeRearRightLeg, distance: 0.3)>, <Proximity (shape1: shoulder_link, shape2: pedestalCollisionShapeBase, distance: 0.3)>, <Proximity (shape1: shoulder_link, shape2: mk2CollisionShapeLeftVertical, distance: 0.3)>, <Proximity (shape1: shoulder_link, shape2: mk2CollisionShapeRightVertical, distance: 0.3)>, <Proximity (shape1: shoulder_link, shape2: mk2CollisionShapeSpool, distance: 0.3)>, <Proximity (shape1: upper_arm_link, shape2: conveyorCollisionShapeBase, distance: 0.3)>, <Proximity (shape1: upper_arm_link, shape2: conveyorCollisionShapeBelt, distance: 0.3)>, <Proximity (shape1: upper_arm_link, shape2: conveyorRecieverCollisionShapeBase, distance: 0.3)>, <Proximity (shape1: upper_arm_link, shape2: conveyorDispatcherCollisionShapeBase, distance: 0.3)>, <Proximity (shape1: upper_arm_link, shape2: conveyorDispatcherCollisionShapeLeftSplit, distance: 0.3)>, <Proximity (shape1: upper_arm_link, shape2: conveyorDispatcherCollisionShapeRightSplit, distance: 0.3)>, <Proximity (shape1: upper_arm_link, shape2: tableCollisionShapeFrontLeftLeg, distance: 0.3)>, <Proximity (shape1: upper_arm_link, shape2: tableCollisionShapeRearLeftLeg, distance: 0.3)>, <Proximity (shape1: upper_arm_link, shape2: tableCollisionShapeRearRightLeg, distance: 0.3)>, <Proximity (shape1: upper_arm_link, shape2: pedestalCollisionShapeBase, distance: 0.3)>, <Proximity (shape1: upper_arm_link, shape2: mk2CollisionShapeLeftVertical, distance: 0.3)>, <Proximity (shape1: upper_arm_link, shape2: mk2CollisionShapeRightVertical, distance: 0.3)>, <Proximity (shape1: upper_arm_link, shape2: mk2CollisionShapeBase, distance: 0.3)>, <Proximity (shape1: upper_arm_link, shape2: mk2CollisionShapeSpool, distance: 0.3)>, <Proximity (shape1: base_link, shape2: wrist_1_link, distance: 0.3)>, <Proximity (shape1: shoulder_link, shape2: wrist_3_link, distance: 0.3)>, <Proximity (shape1: shoulder_link, shape2: wrist_2_link, distance: 0.3)>, <Proximity (shape1: shoulder_link, shape2: wrist_1_link, distance: 0.3)>, <Proximity (shape1: forearm_link, shape2: conveyorCollisionShapeBelt, distance: 0.3)>, <Proximity (shape1: forearm_link, shape2: conveyorRecieverCollisionShapeBase, distance: 0.3)>, <Proximity (shape1: base_link, shape2: mk2CollisionShapeSpool, distance: 0.3)>, <Proximity (shape1: base_link, shape2: mk2CollisionShapeRightVertical, distance: 0.3)>, <Proximity (shape1: forearm_link, shape2: conveyorDispatcherCollisionShapeBase, distance: 0.3)>, <Proximity (shape1: forearm_link, shape2: conveyorDispatcherCollisionShapeLeftSplit, distance: 0.3)>, <Proximity (shape1: forearm_link, shape2: conveyorDispatcherCollisionShapeRightSplit, distance: 0.3)>, <Proximity (shape1: base_link, shape2: mk2CollisionShapeLeftVertical, distance: 0.3)>, <Proximity (shape1: base_link, shape2: pedestalCollisionShapeBase, distance: 0.3)>, <Proximity (shape1: forearm_link, shape2: tableCollisionShapeRearLeftLeg, distance: 0.3)>, <Proximity (shape1: forearm_link, shape2: tableCollisionShapeRearRightLeg, distance: 0.3)>, <Proximity (shape1: forearm_link, shape2: pedestalCollisionShapeBase, distance: 0.3)>, <Proximity (shape1: base_link, shape2: tableCollisionShapeRearRightLeg, distance: 0.3)>, <Proximity (shape1: forearm_link, shape2: mk2CollisionShapeLeftVertical, distance: 0.3)>, <Proximity (shape1: forearm_link, shape2: mk2CollisionShapeRightVertical, distance: 0.3)>, <Proximity (shape1: base_link, shape2: tableCollisionShapeRearLeftLeg, distance: 0.3)>, <Proximity (shape1: forearm_link, shape2: mk2CollisionShapeSpool, distance: 0.3)>, <Proximity (shape1: base_link, shape2: tableCollisionShapeFrontLeftLeg, distance: 0.3)>, <Proximity (shape1: base_link, shape2: conveyorDispatcherCollisionShapeRightSplit, distance: 0.3)>, <Proximity (shape1: wrist_1_link, shape2: conveyorCollisionShapeBase, distance: 0.3)>, <Proximity (shape1: shoulder_link, shape2: conveyorCollisionShapeBase, distance: 0.3)>, <Proximity (shape1: wrist_1_link, shape2: conveyorRecieverCollisionShapeBase, distance: 0.3)>, <Proximity (shape1: base_link, shape2: conveyorDispatcherCollisionShapeLeftSplit, distance: 0.3)>, <Proximity (shape1: base_link, shape2: conveyorRecieverCollisionShapeRightSplit, distance: 0.3)>, <Proximity (shape1: wrist_1_link, shape2: conveyorDispatcherCollisionShapeBase, distance: 0.3)>, <Proximity (shape1: wrist_1_link, shape2: conveyorDispatcherCollisionShapeLeftSplit, distance: 0.3)>, <Proximity (shape1: wrist_1_link, shape2: conveyorDispatcherCollisionShapeRightSplit, distance: 0.3)>, <Proximity (shape1: wrist_1_link, shape2: tableCollisionShapeTop, distance: 0.3)>, <Proximity (shape1: wrist_1_link, shape2: tableCollisionShapeFrontLeftLeg, distance: 0.3)>, <Proximity (shape1: wrist_1_link, shape2: tableCollisionShapeRearLeftLeg, distance: 0.3)>, <Proximity (shape1: wrist_1_link, shape2: tableCollisionShapeRearRightLeg, distance: 0.3)>, <Proximity (shape1: wrist_1_link, shape2: pedestalCollisionShapeBase, distance: 0.3)>, <Proximity (shape1: wrist_1_link, shape2: pedestalCollisionShapeTower, distance: 0.3)>, <Proximity (shape1: wrist_1_link, shape2: mk2CollisionShapeLeftVertical, distance: 0.3)>, <Proximity (shape1: wrist_1_link, shape2: mk2CollisionShapeRightVertical, distance: 0.3)>, <Proximity (shape1: wrist_1_link, shape2: mk2CollisionShapeBase, distance: 0.3)>, <Proximity (shape1: wrist_1_link, shape2: mk2CollisionShapeSpool, distance: 0.3)>, <Proximity (shape1: base_link, shape2: conveyorRecieverCollisionShapeLeftSplit, distance: 0.3)>, <Proximity (shape1: wrist_2_link, shape2: conveyorCollisionShapeBase, distance: 0.3)>, <Proximity (shape1: wrist_2_link, shape2: conveyorCollisionShapeBelt, distance: 0.3)>, <Proximity (shape1: wrist_2_link, shape2: conveyorRecieverCollisionShapeBase, distance: 0.3)>, <Proximity (shape1: base_link, shape2: conveyorRecieverCollisionShapeBase, distance: 0.3)>, <Proximity (shape1: base_link, shape2: conveyorCollisionShapeBelt, distance: 0.3)>, <Proximity (shape1: wrist_2_link, shape2: conveyorDispatcherCollisionShapeBase, distance: 0.3)>, <Proximity (shape1: wrist_2_link, shape2: conveyorDispatcherCollisionShapeLeftSplit, distance: 0.3)>, <Proximity (shape1: wrist_2_link, shape2: conveyorDispatcherCollisionShapeRightSplit, distance: 0.3)>, <Proximity (shape1: wrist_2_link, shape2: tableCollisionShapeTop, distance: 0.3)>, <Proximity (shape1: base_link, shape2: conveyorCollisionShapeBase, distance: 0.3)>, <Proximity (shape1: wrist_2_link, shape2: tableCollisionShapeRearLeftLeg, distance: 0.3)>, <Proximity (shape1: wrist_2_link, shape2: tableCollisionShapeRearRightLeg, distance: 0.3)>, <Proximity (shape1: wrist_2_link, shape2: pedestalCollisionShapeBase, distance: 0.3)>, <Proximity (shape1: wrist_2_link, shape2: pedestalCollisionShapeTower, distance: 0.3)>, <Proximity (shape1: wrist_2_link, shape2: mk2CollisionShapeLeftVertical, distance: 0.3)>, <Proximity (shape1: wrist_2_link, shape2: mk2CollisionShapeRightVertical, distance: 0.3)>, <Proximity (shape1: wrist_2_link, shape2: mk2CollisionShapeBase, distance: 0.3)>, <Proximity (shape1: wrist_2_link, shape2: mk2CollisionShapeSpool, distance: 0.3)>, <Proximity (shape1: wrist_3_link, shape2: conveyorCollisionShapeBase, distance: 0.3)>, <Proximity (shape1: wrist_3_link, shape2: conveyorCollisionShapeBelt, distance: 0.3)>, <Proximity (shape1: wrist_3_link, shape2: conveyorRecieverCollisionShapeBase, distance: 0.3)>, <Proximity (shape1: base_link, shape2: wrist_3_link, distance: 0.3)>, <Proximity (shape1: base_link, shape2: wrist_2_link, distance: 0.3)>, <Proximity (shape1: wrist_3_link, shape2: conveyorDispatcherCollisionShapeBase, distance: 0.3)>, <Proximity (shape1: wrist_3_link, shape2: conveyorDispatcherCollisionShapeLeftSplit, distance: 0.3)>, <Proximity (shape1: wrist_3_link, shape2: conveyorDispatcherCollisionShapeRightSplit, distance: 0.3)>, <Proximity (shape1: wrist_3_link, shape2: tableCollisionShapeTop, distance: 0.3)>, <Proximity (shape1: wrist_3_link, shape2: tableCollisionShapeFrontLeftLeg, distance: 0.3)>, <Proximity (shape1: wrist_3_link, shape2: tableCollisionShapeRearLeftLeg, distance: 0.3)>, <Proximity (shape1: wrist_3_link, shape2: tableCollisionShapeRearRightLeg, distance: 0.3)>, <Proximity (shape1: wrist_3_link, shape2: pedestalCollisionShapeBase, distance: 0.3)>, <Proximity (shape1: wrist_3_link, shape2: pedestalCollisionShapeTower, distance: 0.3)>, <Proximity (shape1: wrist_3_link, shape2: mk2CollisionShapeLeftVertical, distance: 0.3)>, <Proximity (shape1: wrist_3_link, shape2: mk2CollisionShapeRightVertical, distance: 0.3)>, <Proximity (shape1: wrist_3_link, shape2: mk2CollisionShapeBase, distance: 0.3)>, <Proximity (shape1: wrist_3_link, shape2: mk2CollisionShapeSpool, distance: 0.3)>]\n"
     ]
    }
   ],
   "source": [
    "solver = Solver(\n",
    "   urdf = staticData, \n",
    "  objectives = {\n",
    "        \"PositionMatchObjective\" :  PositionMatchObjective(name=\"EE Position\", weight=20, link=\"wrist_3_link\"),\n",
    "        \"CollisionAvoidanceObjective\" : CollisionAvoidanceObjective(name=\"Collision Avoidance\", weight=10),\n",
    "        \"SmoothnessMacroObjective\" : SmoothnessMacroObjective(name=\"Smoothness\", weight=10)\n",
    "    },\n",
    "   root_bounds = [ScalarRange(value = 0, delta = 0), \n",
    "     ScalarRange(value = -0.15, delta = 0), \n",
    "     ScalarRange(value = 0, delta = 0), \n",
    "     ScalarRange(value = 0, delta = 0), \n",
    "     ScalarRange(value = 0, delta = 0), \n",
    "     ScalarRange(value = 0, delta = 0),\n",
    "     ],\n",
    "   shapes =  [\n",
    "      BoxShape(name = \"conveyorCollisionShapeBase\", frame=\"world\", physical = True, x = 1.0, y = 1.1, z = 1.7, local_transform = Transform(translation = Translation( 1.7497281999999998,-0.24972819999999987,0.050000000000000044), rotation = Rotation(0,0,-0.7069999677447771,0.7072135784958345))),\n",
    "      BoxShape(name = \"conveyorCollisionShapeBelt\", frame=\"world\", physical = True, x = 0.75, y = 0.65, z = 0.25, local_transform = Transform(translation = Translation( 0.9499698,-0.2499698,0.050000000000000044), rotation = Rotation(0,0,-0.7069999677447772,0.7072135784958345))),\n",
    "      BoxShape(name = \"conveyorRecieverCollisionShapeBase\", frame=\"world\", physical = True, x = 0.75, y = 0.25, z = 0.7, local_transform = Transform(translation = Translation( -0.5500906000000001,-0.25009060000000005, -0.45), rotation = Rotation(0,0,0.7069999677447771,0.7072135784958345))),\n",
    "      BoxShape(name = \"conveyorRecieverCollisionShapeLeftSplit\", frame=\"world\", physical = True, x = 0.3, y = 0.155, z = 0.165, local_transform = Transform(translation = Translation(  -0.59013137,-0.42502567,-0.025000000000000022), rotation = Rotation(0,0,0.7069999677447772,0.7072135784958345))),\n",
    "      BoxShape(name = \"conveyorRecieverCollisionShapeRightSplit\", frame=\"world\", physical = True, x = 0.3, y = 0.155, z = 0.165, local_transform = Transform(translation = Translation(-0.59002567,-0.07513137000000006,-0.025000000000000022), rotation = Rotation(0,0,0.7069999677447772,0.7072135784958345))),\n",
    "      BoxShape(name =\"conveyorDispatcherCollisionShapeBase\", frame=\"world\", physical = True, x = 0.75, y = 0.35, z = 0.9, local_transform = Transform(translation = Translation(0.6000755,-0.2500755,-0.3), rotation = Rotation(0,0,-0.7069999677447771,0.7072135784958345))),\n",
    "      BoxShape(name =\"conveyorDispatcherCollisionShapeLeftSplit\", frame=\"world\", physical = True, x = 0.255, y = 0.275, z = 0.175, local_transform = Transform(translation = Translation(0.65000755,-0.07511325000000005,0.22499999999999998), rotation = Rotation(0,0,-0.7069999677447771,0.7072135784958345))),\n",
    "      BoxShape(name =\"conveyorDispatcherCollisionShapeRightSplit\", frame=\"world\", physical = True, x = 0.29, y = 0.275, z = 0.175, local_transform = Transform(translation = Translation(0.65011325,-0.42500755,0.22499999999999998), rotation = Rotation(0,0,-0.7069999677447771,0.7072135784958345))),\n",
    "      BoxShape(name =\"tableCollisionShapeTop\", frame=\"world\", physical = True, x = 0.1225, y = 0.625, z = 0.05, local_transform = Transform(translation = Translation(0,0.36,-0.010000000000000009), rotation = Rotation(0,0,0,1))),\n",
    "      BoxShape(name =\"tableCollisionShapeFrontLeftLeg\", frame=\"world\", physical = True, x = 0.05, y = 0.05, z = 0.75, local_transform = Transform(translation = Translation(-0.585,0.07,-0.395), rotation = Rotation(0,0,0,1))),\n",
    "      BoxShape(name =\"tableCollisionShapeRearLeftLeg\", frame=\"world\", physical = True, x = 0.05, y = 0.05, z = 0.75, local_transform = Transform(translation = Translation(-0.585,0.6499999999999999,-0.585), rotation = Rotation(0,0,0,1))),\n",
    "      BoxShape(name =\"tableCollisionShapeRearRightLeg\", frame=\"world\", physical = True, x = 0.05, y = 0.05, z = 0.75, local_transform = Transform(translation = Translation(0.585,0.7,-0.395), rotation = Rotation(0,0,0,1))), \n",
    "      BoxShape(name =\"pedestalCollisionShapeBase\", frame=\"world\", physical = True, x = 0.65, y = 0.65, z = 0.15, local_transform = Transform(translation = Translation(0,-0.15,-0.7150000000000001), rotation = Rotation(0,0,0,1))),\n",
    "      BoxShape(name =\"pedestalCollisionShapeTower\", frame=\"world\", physical = True, x = 0.1, y = 0.1, z = 0.7, local_transform = Transform(translation = Translation(0,-0.15,-0.33), rotation = Rotation(0,0,0,1))),\n",
    "      BoxShape(name =\"mk2CollisionShapeLeftVertical\", frame=\"world\", physical = True, x = 0.125, y = 0.185, z = 0.4, local_transform = Transform(translation = Translation(-0.46,0.42000000000000004,0.22500000000000003), rotation = Rotation(0,0,0,1))),\n",
    "      BoxShape(name =\"mk2CollisionShapeRightVertical\", frame=\"world\", physical = True, x = 0.125, y = 0.225, z = 0.4, local_transform = Transform(translation = Translation(-0.10000000000000003,0.445,0.22500000000000003), rotation = Rotation(0,0,0,1))),\n",
    "      BoxShape(name =\"mk2CollisionShapeBase\", frame=\"world\", physical = True, x = 0.4, y = 0.4, z = 0.1, local_transform = Transform(translation = Translation( -0.28,0.32,0.050000000000000044), rotation = Rotation(0,0,0,1))),\n",
    "      BoxShape(name =\"mk2CollisionShapeSpool\", frame=\"world\", physical = True, x = 0.4, y = 0.25, z = 0.25, local_transform = Transform(translation = Translation( -0.28, 0.445,0.48000000000000004), rotation = Rotation(0,0,0,1))),  \n",
    "     ],\n",
    "    #  State(origin = Transform(translation = Translation(0,-0,15,0), rotation = Rotation(0,0,0,1),joints = {\n",
    "    #     \"elbow_joint\": -1.57,\n",
    "    #     \"shoulder_lift_joint\": -0.55,\n",
    "    #     \"shoulder_pan_joint\": 1.57,\n",
    "    #     \"wrist_1_joint\": -2.13,\n",
    "    #     \"wrist_2_joint\": 1.6,\n",
    "    #     \"wrist_3_joint\": -0.2\n",
    "    # }))\n",
    "     \n",
    "    \n",
    ")\n",
    "state = solver.solve(goals ={\"PositionMatchObjective\":Translation(0.47,0.0,0.73)}, weights = {}, time = 0.0)\n",
    "print(state.proximity)"
   ]
  },
  {
   "cell_type": "code",
   "execution_count": null,
   "metadata": {},
   "outputs": [],
   "source": []
  },
  {
   "cell_type": "code",
   "execution_count": null,
   "metadata": {},
   "outputs": [],
   "source": []
  },
  {
   "cell_type": "code",
   "execution_count": null,
   "metadata": {},
   "outputs": [],
   "source": []
  },
  {
   "cell_type": "code",
   "execution_count": null,
   "metadata": {},
   "outputs": [],
   "source": []
  },
  {
   "cell_type": "code",
   "execution_count": null,
   "metadata": {},
   "outputs": [],
   "source": []
  },
  {
   "cell_type": "code",
   "execution_count": null,
   "metadata": {},
   "outputs": [],
   "source": []
  },
  {
   "cell_type": "code",
   "execution_count": null,
   "metadata": {},
   "outputs": [],
   "source": []
  },
  {
   "cell_type": "code",
   "execution_count": null,
   "metadata": {},
   "outputs": [],
   "source": []
  },
  {
   "cell_type": "code",
   "execution_count": null,
   "metadata": {},
   "outputs": [],
   "source": []
  },
  {
   "cell_type": "code",
   "execution_count": null,
   "metadata": {},
   "outputs": [],
   "source": []
  }
 ],
 "metadata": {
  "kernelspec": {
   "display_name": "Python 3.8.8 ('base')",
   "language": "python",
   "name": "python3"
  },
  "language_info": {
   "codemirror_mode": {
    "name": "ipython",
    "version": 3
   },
   "file_extension": ".py",
   "mimetype": "text/x-python",
   "name": "python",
   "nbconvert_exporter": "python",
   "pygments_lexer": "ipython3",
   "version": "3.8.8"
  },
  "vscode": {
   "interpreter": {
    "hash": "d63fb22d2eb77a4d242eaa81b607b4036aaf35ce987638ccbb395621be85a420"
   }
  }
 },
 "nbformat": 4,
 "nbformat_minor": 4
}
