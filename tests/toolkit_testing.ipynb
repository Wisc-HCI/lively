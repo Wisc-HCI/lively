{
 "cells": [
  {
   "cell_type": "code",
   "execution_count": 1,
   "metadata": {},
   "outputs": [
    {
     "name": "stdout",
     "output_type": "stream",
     "text": [
      "env: RUST_BACKTRACE=1\n"
     ]
    }
   ],
   "source": [
    "%env RUST_BACKTRACE=1\n",
    "import logging\n",
    "FORMAT = '%(levelname)s %(name)s %(asctime)-15s %(filename)s:%(lineno)d %(message)s'\n",
    "logging.basicConfig(format=FORMAT)\n",
    "logging.getLogger().setLevel(logging.INFO)\n",
    "from lively_tk import Solver,BoxShape, PositionMatchObjective, OrientationMatchObjective, CollisionAvoidanceObjective, SmoothnessMacroObjective, Translation, Rotation, ScalarRange,Transform,State"
   ]
  },
  {
   "cell_type": "code",
   "execution_count": 2,
   "metadata": {},
   "outputs": [],
   "source": [
    "with open('./ur3e.xml') as file:\n",
    "    data = file.read()"
   ]
  },
  {
   "cell_type": "code",
   "execution_count": 3,
   "metadata": {},
   "outputs": [
    {
     "name": "stderr",
     "output_type": "stream",
     "text": [
      "INFO k.urdf 2022-05-20 12:29:10,133 urdf.rs:286 link=base_link\n",
      "INFO k.urdf 2022-05-20 12:29:10,133 urdf.rs:290 set parent = world_mapping [⚓], child = base_link-base_fixed_joint [⚓]\n",
      "INFO k.urdf 2022-05-20 12:29:10,134 urdf.rs:286 link=shoulder_link\n",
      "INFO k.urdf 2022-05-20 12:29:10,134 urdf.rs:290 set parent = shoulder_pan_joint [⚙+Z], child = shoulder_lift_joint [⚙+Z]\n",
      "INFO k.urdf 2022-05-20 12:29:10,134 urdf.rs:286 link=upper_arm_link\n",
      "INFO k.urdf 2022-05-20 12:29:10,134 urdf.rs:290 set parent = shoulder_lift_joint [⚙+Z], child = elbow_joint [⚙+Z]\n",
      "INFO k.urdf 2022-05-20 12:29:10,135 urdf.rs:286 link=forearm_link\n",
      "INFO k.urdf 2022-05-20 12:29:10,135 urdf.rs:290 set parent = elbow_joint [⚙+Z], child = wrist_1_joint [⚙+Z]\n",
      "INFO k.urdf 2022-05-20 12:29:10,135 urdf.rs:286 link=wrist_1_link\n",
      "INFO k.urdf 2022-05-20 12:29:10,135 urdf.rs:290 set parent = wrist_1_joint [⚙+Z], child = wrist_2_joint [⚙+Z]\n",
      "INFO k.urdf 2022-05-20 12:29:10,135 urdf.rs:286 link=wrist_2_link\n",
      "INFO k.urdf 2022-05-20 12:29:10,135 urdf.rs:290 set parent = wrist_2_joint [⚙+Z], child = wrist_3_joint [⚙+Z]\n",
      "INFO k.urdf 2022-05-20 12:29:10,136 urdf.rs:286 link=wrist_3_link\n",
      "INFO k.urdf 2022-05-20 12:29:10,136 urdf.rs:290 set parent = wrist_3_joint [⚙+Z], child = wrist_3-flange [⚓]\n",
      "INFO k.urdf 2022-05-20 12:29:10,136 urdf.rs:286 link=base\n",
      "INFO k.urdf 2022-05-20 12:29:10,136 urdf.rs:286 link=flange\n",
      "INFO k.urdf 2022-05-20 12:29:10,136 urdf.rs:290 set parent = wrist_3-flange [⚓], child = flange-tool0 [⚓]\n",
      "INFO k.urdf 2022-05-20 12:29:10,137 urdf.rs:286 link=tool0\n",
      "INFO k.urdf 2022-05-20 12:29:10,137 urdf.rs:316 set parent = root [⚓], child = shoulder_pan_joint [⚙+Z] => /shoulder_link/\n",
      "INFO k.urdf 2022-05-20 12:29:10,137 urdf.rs:316 set parent = root [⚓], child = world_mapping [⚓] => /base_link/\n"
     ]
    }
   ],
   "source": [
    "solver = Solver(\n",
    "    data, \n",
    "    [\n",
    "        PositionMatchObjective(name=\"EE Position\", weight=20, link=\"wrist_3_link\"),\n",
    "        CollisionAvoidanceObjective(name=\"Collision Avoidance\", weight=10),\n",
    "        SmoothnessMacroObjective(name=\"Smoothness\", weight=10)\n",
    "    ]\n",
    ")"
   ]
  },
  {
   "cell_type": "code",
   "execution_count": 4,
   "metadata": {},
   "outputs": [
    {
     "data": {
      "text/plain": [
       "'EE Position'"
      ]
     },
     "execution_count": 4,
     "metadata": {},
     "output_type": "execute_result"
    }
   ],
   "source": [
    "solver.objectives[0].name"
   ]
  },
  {
   "cell_type": "code",
   "execution_count": 5,
   "metadata": {},
   "outputs": [],
   "source": [
    "for i in range(100): \n",
    "    solver.solve(goals=[Translation(0.47, 0.0, 0.73),None,None],time=0.12)"
   ]
  },
  {
   "cell_type": "code",
   "execution_count": 6,
   "metadata": {},
   "outputs": [
    {
     "name": "stdout",
     "output_type": "stream",
     "text": [
      "[<Proximity (shape1: upper_arm_link, shape2: forearm_link, distance: 0)>, <Proximity (shape1: upper_arm_link, shape2: wrist_1_link, distance: 0.1367238005298814)>, <Proximity (shape1: shoulder_link, shape2: upper_arm_link, distance: 0)>, <Proximity (shape1: upper_arm_link, shape2: wrist_3_link, distance: 0.15685242484235967)>, <Proximity (shape1: wrist_1_link, shape2: wrist_2_link, distance: 0.007849999999324455)>, <Proximity (shape1: base_link, shape2: wrist_2_link, distance: 0.35847151734693705)>, <Proximity (shape1: forearm_link, shape2: wrist_3_link, distance: 0.08607026911407777)>, <Proximity (shape1: base_link, shape2: shoulder_link, distance: 0.01189999999999994)>, <Proximity (shape1: wrist_2_link, shape2: wrist_3_link, distance: 0.004900000002050932)>, <Proximity (shape1: shoulder_link, shape2: wrist_2_link, distance: 0.35927630613594747)>, <Proximity (shape1: upper_arm_link, shape2: wrist_2_link, distance: 0.15495758608318158)>, <Proximity (shape1: forearm_link, shape2: wrist_1_link, distance: 0.002850000008019192)>, <Proximity (shape1: base_link, shape2: wrist_1_link, distance: 0.3738285830388635)>, <Proximity (shape1: base_link, shape2: forearm_link, distance: 0.150052580274845)>, <Proximity (shape1: shoulder_link, shape2: wrist_3_link, distance: 0.3872208443870303)>, <Proximity (shape1: shoulder_link, shape2: wrist_1_link, distance: 0.36802455498470166)>, <Proximity (shape1: shoulder_link, shape2: forearm_link, distance: 0.1430658396147233)>, <Proximity (shape1: base_link, shape2: wrist_3_link, distance: 0.38648045220080623)>, <Proximity (shape1: wrist_1_link, shape2: wrist_3_link, distance: 0.014255902207312831)>, <Proximity (shape1: forearm_link, shape2: wrist_2_link, distance: 0.015313146731338875)>, <Proximity (shape1: base_link, shape2: upper_arm_link, distance: 0.01689999998666829)>]\n"
     ]
    }
   ],
   "source": [
    "state = solver.solve(goals=[Translation(0.47, 0.0, 0.73), None, None], time=0.0)\n",
    "print(state.proximity)"
   ]
  },
  {
   "cell_type": "code",
   "execution_count": 7,
   "metadata": {},
   "outputs": [
    {
     "name": "stdout",
     "output_type": "stream",
     "text": [
      "{'flange': <builtins.Transform object at 0x108ae3300>, 'base': <builtins.Transform object at 0x108ae2a90>, 'wrist_2_link': <builtins.Transform object at 0x108ae3b10>, 'forearm_link': <builtins.Transform object at 0x108ae33f0>, 'upper_arm_link': <builtins.Transform object at 0x108ae3000>, 'shoulder_link': <builtins.Transform object at 0x108ae3ab0>, 'base_link': <builtins.Transform object at 0x108ae21c0>, 'tool0': <builtins.Transform object at 0x108ae2ee0>, 'wrist_1_link': <builtins.Transform object at 0x108ae30c0>, 'wrist_3_link': <builtins.Transform object at 0x108ae3ae0>}\n"
     ]
    },
    {
     "data": {
      "text/plain": [
       "[0.4699990059559122, -0.000011196482492578652, 0.7300906866778665]"
      ]
     },
     "execution_count": 7,
     "metadata": {},
     "output_type": "execute_result"
    }
   ],
   "source": [
    "print(state.frames)\n",
    "state.frames['wrist_3_link'].translation"
   ]
  },
  {
   "cell_type": "code",
   "execution_count": 8,
   "metadata": {},
   "outputs": [],
   "source": [
    "file.close();\n"
   ]
  },
  {
   "cell_type": "code",
   "execution_count": 9,
   "metadata": {},
   "outputs": [],
   "source": [
    "with open('./ur3e.xml') as staticEnvFile:\n",
    "    staticData = staticEnvFile.read()"
   ]
  },
  {
   "cell_type": "code",
   "execution_count": 10,
   "metadata": {},
   "outputs": [
    {
     "name": "stderr",
     "output_type": "stream",
     "text": [
      "INFO k.urdf 2022-05-20 12:29:10,752 urdf.rs:286 link=base_link\n",
      "INFO k.urdf 2022-05-20 12:29:10,752 urdf.rs:290 set parent = world_mapping [⚓], child = base_link-base_fixed_joint [⚓]\n",
      "INFO k.urdf 2022-05-20 12:29:10,753 urdf.rs:286 link=shoulder_link\n",
      "INFO k.urdf 2022-05-20 12:29:10,753 urdf.rs:290 set parent = shoulder_pan_joint [⚙+Z], child = shoulder_lift_joint [⚙+Z]\n",
      "INFO k.urdf 2022-05-20 12:29:10,753 urdf.rs:286 link=upper_arm_link\n",
      "INFO k.urdf 2022-05-20 12:29:10,753 urdf.rs:290 set parent = shoulder_lift_joint [⚙+Z], child = elbow_joint [⚙+Z]\n",
      "INFO k.urdf 2022-05-20 12:29:10,753 urdf.rs:286 link=forearm_link\n",
      "INFO k.urdf 2022-05-20 12:29:10,754 urdf.rs:290 set parent = elbow_joint [⚙+Z], child = wrist_1_joint [⚙+Z]\n",
      "INFO k.urdf 2022-05-20 12:29:10,754 urdf.rs:286 link=wrist_1_link\n",
      "INFO k.urdf 2022-05-20 12:29:10,754 urdf.rs:290 set parent = wrist_1_joint [⚙+Z], child = wrist_2_joint [⚙+Z]\n",
      "INFO k.urdf 2022-05-20 12:29:10,754 urdf.rs:286 link=wrist_2_link\n",
      "INFO k.urdf 2022-05-20 12:29:10,755 urdf.rs:290 set parent = wrist_2_joint [⚙+Z], child = wrist_3_joint [⚙+Z]\n",
      "INFO k.urdf 2022-05-20 12:29:10,759 urdf.rs:286 link=wrist_3_link\n",
      "INFO k.urdf 2022-05-20 12:29:10,762 urdf.rs:290 set parent = wrist_3_joint [⚙+Z], child = wrist_3-flange [⚓]\n",
      "INFO k.urdf 2022-05-20 12:29:10,763 urdf.rs:286 link=base\n",
      "INFO k.urdf 2022-05-20 12:29:10,763 urdf.rs:286 link=flange\n",
      "INFO k.urdf 2022-05-20 12:29:10,765 urdf.rs:290 set parent = wrist_3-flange [⚓], child = flange-tool0 [⚓]\n",
      "INFO k.urdf 2022-05-20 12:29:10,765 urdf.rs:286 link=tool0\n",
      "INFO k.urdf 2022-05-20 12:29:10,767 urdf.rs:316 set parent = root [⚓], child = shoulder_pan_joint [⚙+Z] => /shoulder_link/\n",
      "INFO k.urdf 2022-05-20 12:29:10,767 urdf.rs:316 set parent = root [⚓], child = world_mapping [⚓] => /base_link/\n"
     ]
    },
    {
     "name": "stdout",
     "output_type": "stream",
     "text": [
      "persistent shape(box) added to the world frame\n",
      "persistent shape(box) added to the world frame\n",
      "persistent shape(box) added to the world frame\n",
      "persistent shape(box) added to the world frame\n",
      "persistent shape(box) added to the world frame\n",
      "persistent shape(box) added to the world frame\n",
      "persistent shape(box) added to the world frame\n",
      "persistent shape(box) added to the world frame\n",
      "persistent shape(box) added to the world frame\n",
      "persistent shape(box) added to the world frame\n"
     ]
    }
   ],
   "source": [
    "solver = Solver(\n",
    "   staticData, \n",
    "    [],\n",
    "    [ScalarRange(value = 0, delta = 0), \n",
    "     ScalarRange(value = -0.15, delta = 0), \n",
    "     ScalarRange(value = 0, delta = 0), \n",
    "     ScalarRange(value = 0, delta = 0), \n",
    "     ScalarRange(value = 0, delta = 0), \n",
    "     ScalarRange(value = 0, delta = 0),\n",
    "     ],\n",
    "     [\n",
    "    #   BoxShape(name = \"conveyorCollisionShapeBase\", frame=\"world\", physical = True, x = 1.0, y = 1.1, z = 1.7, local_transform = Transform(translation = Translation( 1.7497281999999998,-0.24972819999999987,0.050000000000000044), rotation = Rotation(0,0,-0.7069999677447771,0.7072135784958345))),\n",
    "    #   BoxShape(name = \"conveyorCollisionShapeBelt\", frame=\"world\", physical = True, x = 0.75, y = 0.65, z = 0.25, local_transform = Transform(translation = Translation( 0.9499698,-0.2499698,0.050000000000000044), rotation = Rotation(0,0,-0.7069999677447772,0.7072135784958345))),\n",
    "    #   BoxShape(name = \"conveyorRecieverCollisionShapeBase\", frame=\"world\", physical = True, x = 0.75, y = 0.25, z = 0.7, local_transform = Transform(translation = Translation( -0.5500906000000001,-0.25009060000000005, -0.45), rotation = Rotation(0,0,0.7069999677447771,0.7072135784958345))),\n",
    "    #   BoxShape(name = \"conveyorRecieverCollisionShapeLeftSplit\", frame=\"world\", physical = True, x = 0.3, y = 0.155, z = 0.165, local_transform = Transform(translation = Translation(  -0.59013137,-0.42502567,-0.025000000000000022), rotation = Rotation(0,0,0.7069999677447772,0.7072135784958345))),\n",
    "    #   BoxShape(name = \"conveyorRecieverCollisionShapeRightSplit\", frame=\"world\", physical = True, x = 0.3, y = 0.155, z = 0.165, local_transform = Transform(translation = Translation(-0.59002567,-0.07513137000000006,-0.025000000000000022), rotation = Rotation(0,0,0.7069999677447772,0.7072135784958345))),\n",
    "    #   BoxShape(name =\"conveyorDispatcherCollisionShapeBase\", frame=\"world\", physical = True, x = 0.75, y = 0.35, z = 0.9, local_transform = Transform(translation = Translation(0.6000755,-0.2500755,-0.3), rotation = Rotation(0,0,-0.7069999677447771,0.7072135784958345))),\n",
    "    #   BoxShape(name =\"conveyorDispatcherCollisionShapeLeftSplit\", frame=\"world\", physical = True, x = 0.255, y = 0.275, z = 0.175, local_transform = Transform(translation = Translation(0.65000755,-0.07511325000000005,0.22499999999999998), rotation = Rotation(0,0,-0.7069999677447771,0.7072135784958345))),\n",
    "    #   BoxShape(name =\"conveyorDispatcherCollisionShapeRightSplit\", frame=\"world\", physical = True, x = 0.29, y = 0.275, z = 0.175, local_transform = Transform(translation = Translation(0.65011325,-0.42500755,0.22499999999999998), rotation = Rotation(0,0,-0.7069999677447771,0.7072135784958345))),\n",
    "    #   BoxShape(name =\"tableCollisionShapeTop\", frame=\"world\", physical = True, x = 0.1225, y = 0.625, z = 0.05, local_transform = Transform(translation = Translation(0,0.36,-0.010000000000000009), rotation = Rotation(0,0,0,1))),\n",
    "    #   BoxShape(name =\"tableCollisionShapeFrontLeftLeg\", frame=\"world\", physical = True, x = 0.05, y = 0.05, z = 0.75, local_transform = Transform(translation = Translation(-0.585,0.07,-0.395), rotation = Rotation(0,0,0,1))),\n",
    "    #   BoxShape(name =\"tableCollisionShapeRearLeftLeg\", frame=\"world\", physical = True, x = 0.05, y = 0.05, z = 0.75, local_transform = Transform(translation = Translation(-0.585,0.6499999999999999,-0.585), rotation = Rotation(0,0,0,1))),\n",
    "      BoxShape(name =\"tableCollisionShapeRearRightLeg\", frame=\"world\", physical = True, x = 0.05, y = 0.05, z = 0.75, local_transform = Transform(translation = Translation(0.585,0.7,-0.395), rotation = Rotation(0,0,0,1))), \n",
    "    #   BoxShape(name =\"pedestalCollisionShapeBase\", frame=\"world\", physical = True, x = 0.65, y = 0.65, z = 0.15, local_transform = Transform(translation = Translation(0,-0.15,-0.7150000000000001), rotation = Rotation(0,0,0,1))),\n",
    "    #   BoxShape(name =\"pedestalCollisionShapeTower\", frame=\"world\", physical = True, x = 0.1, y = 0.1, z = 0.7, local_transform = Transform(translation = Translation(0,-0.15,-0.33), rotation = Rotation(0,0,0,1))),\n",
    "    #   BoxShape(name =\"mk2CollisionShapeLeftVertical\", frame=\"world\", physical = True, x = 0.125, y = 0.185, z = 0.4, local_transform = Transform(translation = Translation(-0.46,0.42000000000000004,0.22500000000000003), rotation = Rotation(0,0,0,1))),\n",
    "    #   BoxShape(name =\"mk2CollisionShapeRightVertical\", frame=\"world\", physical = True, x = 0.125, y = 0.225, z = 0.4, local_transform = Transform(translation = Translation(-0.10000000000000003,0.445,0.22500000000000003), rotation = Rotation(0,0,0,1))),\n",
    "    #   BoxShape(name =\"mk2CollisionShapeBase\", frame=\"world\", physical = True, x = 0.4, y = 0.4, z = 0.1, local_transform = Transform(translation = Translation( -0.28,0.32,0.050000000000000044), rotation = Rotation(0,0,0,1))),\n",
    "    #   BoxShape(name =\"mk2CollisionShapeSpool\", frame=\"world\", physical = True, x = 0.4, y = 0.25, z = 0.25, local_transform = Transform(translation = Translation( -0.28, 0.445,0.48000000000000004), rotation = Rotation(0,0,0,1))),  \n",
    "     ],\n",
    "    #  State(origin = Transform(translation = Translation(0,-0,15,0), rotation = Rotation(0,0,0,1),joints = {\n",
    "    #     \"elbow_joint\": -1.57,\n",
    "    #     \"shoulder_lift_joint\": -0.55,\n",
    "    #     \"shoulder_pan_joint\": 1.57,\n",
    "    #     \"wrist_1_joint\": -2.13,\n",
    "    #     \"wrist_2_joint\": 1.6,\n",
    "    #     \"wrist_3_joint\": -0.2\n",
    "    # }))\n",
    "     \n",
    "    \n",
    ")"
   ]
  },
  {
   "cell_type": "code",
   "execution_count": null,
   "metadata": {},
   "outputs": [],
   "source": []
  },
  {
   "cell_type": "code",
   "execution_count": null,
   "metadata": {},
   "outputs": [],
   "source": []
  },
  {
   "cell_type": "code",
   "execution_count": null,
   "metadata": {},
   "outputs": [],
   "source": []
  },
  {
   "cell_type": "code",
   "execution_count": null,
   "metadata": {},
   "outputs": [],
   "source": []
  },
  {
   "cell_type": "code",
   "execution_count": null,
   "metadata": {},
   "outputs": [],
   "source": []
  },
  {
   "cell_type": "code",
   "execution_count": null,
   "metadata": {},
   "outputs": [],
   "source": []
  },
  {
   "cell_type": "code",
   "execution_count": null,
   "metadata": {},
   "outputs": [],
   "source": []
  },
  {
   "cell_type": "code",
   "execution_count": null,
   "metadata": {},
   "outputs": [],
   "source": []
  },
  {
   "cell_type": "code",
   "execution_count": null,
   "metadata": {},
   "outputs": [],
   "source": []
  },
  {
   "cell_type": "code",
   "execution_count": null,
   "metadata": {},
   "outputs": [],
   "source": []
  }
 ],
 "metadata": {
  "interpreter": {
   "hash": "aee8b7b246df8f9039afb4144a1f6fd8d2ca17a180786b69acc140d282b71a49"
  },
  "kernelspec": {
   "display_name": "Python 3.10.0 64-bit",
   "language": "python",
   "name": "python3"
  },
  "language_info": {
   "codemirror_mode": {
    "name": "ipython",
    "version": 3
   },
   "file_extension": ".py",
   "mimetype": "text/x-python",
   "name": "python",
   "nbconvert_exporter": "python",
   "pygments_lexer": "ipython3",
   "version": "3.10.0"
  }
 },
 "nbformat": 4,
 "nbformat_minor": 4
}
