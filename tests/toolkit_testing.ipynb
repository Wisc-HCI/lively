{
 "cells": [
  {
   "cell_type": "code",
   "execution_count": 1,
   "metadata": {},
   "outputs": [
    {
     "name": "stdout",
     "output_type": "stream",
     "text": [
      "env: RUST_BACKTRACE=1\n"
     ]
    }
   ],
   "source": [
    "%env RUST_BACKTRACE=1\n",
    "import logging\n",
    "FORMAT = '%(levelname)s %(name)s %(asctime)-15s %(filename)s:%(lineno)d %(message)s'\n",
    "logging.basicConfig(format=FORMAT)\n",
    "logging.getLogger().setLevel(logging.INFO)\n",
    "from lively_tk import Solver, PositionMatchObjective, OrientationMatchObjective, CollisionAvoidanceObjective, SmoothnessMacroObjective, Translation, Rotation"
   ]
  },
  {
   "cell_type": "code",
   "execution_count": 2,
   "metadata": {},
   "outputs": [],
   "source": [
    "with open('./ur3e.xml') as file:\n",
    "    data = file.read()"
   ]
  },
  {
   "cell_type": "code",
   "execution_count": 3,
   "metadata": {},
   "outputs": [
    {
     "name": "stderr",
     "output_type": "stream",
     "text": [
      "INFO k.urdf 2021-12-08 14:44:18,508 urdf.rs:286 link=base_link\n",
      "INFO k.urdf 2021-12-08 14:44:18,509 urdf.rs:290 set parent = world_mapping [⚓], child = base_link-base_fixed_joint [⚓]\n",
      "INFO k.urdf 2021-12-08 14:44:18,509 urdf.rs:286 link=shoulder_link\n",
      "INFO k.urdf 2021-12-08 14:44:18,510 urdf.rs:290 set parent = shoulder_pan_joint [⚙+Z], child = shoulder_lift_joint [⚙+Z]\n",
      "INFO k.urdf 2021-12-08 14:44:18,510 urdf.rs:286 link=upper_arm_link\n",
      "INFO k.urdf 2021-12-08 14:44:18,510 urdf.rs:290 set parent = shoulder_lift_joint [⚙+Z], child = elbow_joint [⚙+Z]\n",
      "INFO k.urdf 2021-12-08 14:44:18,511 urdf.rs:286 link=forearm_link\n",
      "INFO k.urdf 2021-12-08 14:44:18,511 urdf.rs:290 set parent = elbow_joint [⚙+Z], child = wrist_1_joint [⚙+Z]\n",
      "INFO k.urdf 2021-12-08 14:44:18,512 urdf.rs:286 link=wrist_1_link\n",
      "INFO k.urdf 2021-12-08 14:44:18,512 urdf.rs:290 set parent = wrist_1_joint [⚙+Z], child = wrist_2_joint [⚙+Z]\n",
      "INFO k.urdf 2021-12-08 14:44:18,513 urdf.rs:286 link=wrist_2_link\n",
      "INFO k.urdf 2021-12-08 14:44:18,513 urdf.rs:290 set parent = wrist_2_joint [⚙+Z], child = wrist_3_joint [⚙+Z]\n",
      "INFO k.urdf 2021-12-08 14:44:18,513 urdf.rs:286 link=wrist_3_link\n",
      "INFO k.urdf 2021-12-08 14:44:18,513 urdf.rs:290 set parent = wrist_3_joint [⚙+Z], child = wrist_3-flange [⚓]\n",
      "INFO k.urdf 2021-12-08 14:44:18,514 urdf.rs:286 link=base\n",
      "INFO k.urdf 2021-12-08 14:44:18,514 urdf.rs:286 link=flange\n",
      "INFO k.urdf 2021-12-08 14:44:18,514 urdf.rs:290 set parent = wrist_3-flange [⚓], child = flange-tool0 [⚓]\n",
      "INFO k.urdf 2021-12-08 14:44:18,514 urdf.rs:286 link=tool0\n",
      "INFO k.urdf 2021-12-08 14:44:18,515 urdf.rs:316 set parent = root [⚓], child = shoulder_pan_joint [⚙+Z] => /shoulder_link/\n",
      "INFO k.urdf 2021-12-08 14:44:18,515 urdf.rs:316 set parent = root [⚓], child = world_mapping [⚓] => /base_link/\n",
      "INFO lively_tk_lib.utils.collision_manager 2021-12-08 14:44:18,515 collision_manager.rs:40 Creating CollisionManager\n",
      "INFO lively_tk_lib.utils.collision_manager 2021-12-08 14:44:18,516 collision_manager.rs:50 length for link is [LinkInfo { name: \"base_link\", parent_joint: \"world_mapping\", visuals: [Mesh(MeshShape { frame: \"base_link\", name: \"base_link\", physical: true, filename: \"package://ur_description/meshes/ur3/visual/base.dae\", x: 1.0, y: 1.0, z: 1.0, local_transform: Isometry { rotation: Unit { value: Quaternion { coords: Matrix { data: [[0.0, 0.0, 1.0, 0.00000000000000006123233995736766]] } } }, translation: Translation { vector: Matrix { data: [[0.0, 0.0, 0.0]] } } } })], collisions: [Cylinder(CylinderShape { frame: \"base_link\", name: \"base_link\", physical: true, length: 0.09, radius: 0.065, local_transform: Isometry { rotation: Unit { value: Quaternion { coords: Matrix { data: [[0.0, 0.0, 1.0, 0.00000000000000006123233995736766]] } } }, translation: Translation { vector: Matrix { data: [[0.0, 0.0, 0.04]] } } } })] }, LinkInfo { name: \"shoulder_link\", parent_joint: \"shoulder_pan_joint\", visuals: [Mesh(MeshShape { frame: \"shoulder_link\", name: \"shoulder_link\", physical: true, filename: \"package://ur_description/meshes/ur3/visual/shoulder.dae\", x: 1.0, y: 1.0, z: 1.0, local_transform: Isometry { rotation: Unit { value: Quaternion { coords: Matrix { data: [[0.0, 0.0, 1.0, 0.00000000000000006123233995736766]] } } }, translation: Translation { vector: Matrix { data: [[0.0, 0.0, 0.0]] } } } })], collisions: [Cylinder(CylinderShape { frame: \"shoulder_link\", name: \"shoulder_link\", physical: true, length: 0.11, radius: 0.065, local_transform: Isometry { rotation: Unit { value: Quaternion { coords: Matrix { data: [[0.0, 0.0, 1.0, 0.00000000000000006123233995736766]] } } }, translation: Translation { vector: Matrix { data: [[0.0, 0.0, 0.0]] } } } })] }, LinkInfo { name: \"upper_arm_link\", parent_joint: \"shoulder_lift_joint\", visuals: [Mesh(MeshShape { frame: \"upper_arm_link\", name: \"upper_arm_link\", physical: true, filename: \"package://ur_description/meshes/ur3/visual/upperarm.dae\", x: 1.0, y: 1.0, z: 1.0, local_transform: Isometry { rotation: Unit { value: Quaternion { coords: Matrix { data: [[0.5, -0.4999999999999999, -0.5, 0.5000000000000001]] } } }, translation: Translation { vector: Matrix { data: [[0.0, 0.0, 0.12]] } } } })], collisions: [Cylinder(CylinderShape { frame: \"upper_arm_link\", name: \"upper_arm_link\", physical: true, length: 0.16, radius: 0.05, local_transform: Isometry { rotation: Unit { value: Quaternion { coords: Matrix { data: [[0.5, -0.4999999999999999, -0.5, 0.5000000000000001]] } } }, translation: Translation { vector: Matrix { data: [[-0.127, 0.0, 0.12]] } } } }), Cylinder(CylinderShape { frame: \"upper_arm_link\", name: \"upper_arm_link\", physical: true, length: 0.12, radius: 0.05, local_transform: Isometry { rotation: Unit { value: Quaternion { coords: Matrix { data: [[0.0, 0.0, -0.7071067811865475, 0.7071067811865476]] } } }, translation: Translation { vector: Matrix { data: [[0.0, 0.0, 0.125]] } } } }), Cylinder(CylinderShape { frame: \"upper_arm_link\", name: \"upper_arm_link\", physical: true, length: 0.12, radius: 0.04, local_transform: Isometry { rotation: Unit { value: Quaternion { coords: Matrix { data: [[0.0, 0.0, -0.7071067811865475, 0.7071067811865476]] } } }, translation: Translation { vector: Matrix { data: [[-0.245, 0.0, 0.125]] } } } })] }, LinkInfo { name: \"forearm_link\", parent_joint: \"elbow_joint\", visuals: [Mesh(MeshShape { frame: \"forearm_link\", name: \"forearm_link\", physical: true, filename: \"package://ur_description/meshes/ur3/visual/forearm.dae\", x: 1.0, y: 1.0, z: 1.0, local_transform: Isometry { rotation: Unit { value: Quaternion { coords: Matrix { data: [[0.5, -0.4999999999999999, -0.5, 0.5000000000000001]] } } }, translation: Translation { vector: Matrix { data: [[0.0, 0.0, 0.027]] } } } })], collisions: [Cylinder(CylinderShape { frame: \"forearm_link\", name: \"forearm_link\", physical: true, length: 0.21, radius: 0.04, local_transform: Isometry { rotation: Unit { value: Quaternion { coords: Matrix { data: [[0.5, -0.4999999999999999, -0.5, 0.5000000000000001]] } } }, translation: Translation { vector: Matrix { data: [[-0.07, 0.0, 0.027]] } } } }), Cylinder(CylinderShape { frame: \"forearm_link\", name: \"forearm_link\", physical: true, length: 0.095, radius: 0.04, local_transform: Isometry { rotation: Unit { value: Quaternion { coords: Matrix { data: [[0.0, 0.0, -0.7071067811865475, 0.7071067811865476]] } } }, translation: Translation { vector: Matrix { data: [[-0.215, 0.0, 0.027]] } } } })] }, LinkInfo { name: \"wrist_1_link\", parent_joint: \"wrist_1_joint\", visuals: [Mesh(MeshShape { frame: \"wrist_1_link\", name: \"wrist_1_link\", physical: true, filename: \"package://ur_description/meshes/ur3/visual/wrist1.dae\", x: 1.0, y: 1.0, z: 1.0, local_transform: Isometry { rotation: Unit { value: Quaternion { coords: Matrix { data: [[0.7071067811865475, 0.0, 0.0, 0.7071067811865476]] } } }, translation: Translation { vector: Matrix { data: [[0.0, 0.0, -0.104]] } } } })], collisions: [Cylinder(CylinderShape { frame: \"wrist_1_link\", name: \"wrist_1_link\", physical: true, length: 0.095, radius: 0.035, local_transform: Isometry { rotation: Unit { value: Quaternion { coords: Matrix { data: [[0.7071067811865475, 0.0, 0.0, 0.7071067811865476]] } } }, translation: Translation { vector: Matrix { data: [[0.0, 0.0, 0.0]] } } } })] }, LinkInfo { name: \"wrist_2_link\", parent_joint: \"wrist_2_joint\", visuals: [Mesh(MeshShape { frame: \"wrist_2_link\", name: \"wrist_2_link\", physical: true, filename: \"package://ur_description/meshes/ur3/visual/wrist2.dae\", x: 1.0, y: 1.0, z: 1.0, local_transform: Isometry { rotation: Unit { value: Quaternion { coords: Matrix { data: [[0.0, 0.0, 0.0, 1.0]] } } }, translation: Translation { vector: Matrix { data: [[0.0, 0.0, -0.08535]] } } } })], collisions: [Cylinder(CylinderShape { frame: \"wrist_2_link\", name: \"wrist_2_link\", physical: true, length: 0.1, radius: 0.04, local_transform: Isometry { rotation: Unit { value: Quaternion { coords: Matrix { data: [[0.7071067811865475, 0.0, 0.0, 0.7071067811865476]] } } }, translation: Translation { vector: Matrix { data: [[0.0, -0.008, 0.01]] } } } })] }, LinkInfo { name: \"wrist_3_link\", parent_joint: \"wrist_3_joint\", visuals: [Mesh(MeshShape { frame: \"wrist_3_link\", name: \"wrist_3_link\", physical: true, filename: \"package://ur_description/meshes/ur3/visual/wrist3.dae\", x: 1.0, y: 1.0, z: 1.0, local_transform: Isometry { rotation: Unit { value: Quaternion { coords: Matrix { data: [[0.7071067811865475, 0.0, 0.0, 0.7071067811865476]] } } }, translation: Translation { vector: Matrix { data: [[0.0, -0.01, -0.081]] } } } })], collisions: [Cylinder(CylinderShape { frame: \"wrist_3_link\", name: \"wrist_3_link\", physical: true, length: 0.04, radius: 0.04, local_transform: Isometry { rotation: Unit { value: Quaternion { coords: Matrix { data: [[0.0, 0.0, 0.0, 1.0]] } } }, translation: Translation { vector: Matrix { data: [[0.0, -0.01, -0.015]] } } } })] }, LinkInfo { name: \"base\", parent_joint: \"base_link-base_fixed_joint\", visuals: [], collisions: [] }, LinkInfo { name: \"flange\", parent_joint: \"wrist_3-flange\", visuals: [], collisions: [] }, LinkInfo { name: \"tool0\", parent_joint: \"flange-tool0\", visuals: [], collisions: [] }]\n",
      "INFO lively_tk_lib.utils.collision_manager 2021-12-08 14:44:18,516 collision_manager.rs:231  the collider vec is :1\n",
      "INFO lively_tk_lib.utils.collision_manager 2021-12-08 14:44:18,516 collision_manager.rs:231  the collider vec is :1\n",
      "INFO lively_tk_lib.utils.collision_manager 2021-12-08 14:44:18,517 collision_manager.rs:231  the collider vec is :3\n",
      "INFO lively_tk_lib.utils.collision_manager 2021-12-08 14:44:18,517 collision_manager.rs:231  the collider vec is :2\n",
      "INFO lively_tk_lib.utils.collision_manager 2021-12-08 14:44:18,517 collision_manager.rs:231  the collider vec is :1\n",
      "INFO lively_tk_lib.utils.collision_manager 2021-12-08 14:44:18,518 collision_manager.rs:231  the collider vec is :1\n",
      "INFO lively_tk_lib.utils.collision_manager 2021-12-08 14:44:18,518 collision_manager.rs:231  the collider vec is :1\n",
      "INFO lively_tk_lib.utils.collision_manager 2021-12-08 14:44:18,518 collision_manager.rs:231  the collider vec is :0\n",
      "INFO lively_tk_lib.utils.collision_manager 2021-12-08 14:44:18,519 collision_manager.rs:231  the collider vec is :0\n",
      "INFO lively_tk_lib.utils.collision_manager 2021-12-08 14:44:18,519 collision_manager.rs:231  the collider vec is :0\n"
     ]
    }
   ],
   "source": [
    "solver = Solver(\n",
    "    data, \n",
    "    [\n",
    "        PositionMatchObjective(name=\"EE Position\", weight=20, link=\"wrist_3_link\"),\n",
    "        CollisionAvoidanceObjective(name=\"Collision Avoidance\", weight=10),\n",
    "        SmoothnessMacroObjective(name=\"Smoothness\", weight=10)\n",
    "    ]\n",
    ")"
   ]
  },
  {
   "cell_type": "code",
   "execution_count": 4,
   "metadata": {},
   "outputs": [
    {
     "data": {
      "text/plain": [
       "'EE Position'"
      ]
     },
     "execution_count": 4,
     "metadata": {},
     "output_type": "execute_result"
    }
   ],
   "source": [
    "solver.objectives[0].name"
   ]
  },
  {
   "cell_type": "code",
   "execution_count": 5,
   "metadata": {},
   "outputs": [],
   "source": [
    "for i in range(100): \n",
    "    solver.solve(goals=[Translation(0.47, 0.0, 0.73),None,None],time=0.12)"
   ]
  },
  {
   "cell_type": "code",
   "execution_count": 6,
   "metadata": {},
   "outputs": [
    {
     "name": "stdout",
     "output_type": "stream",
     "text": [
      "[]\n"
     ]
    }
   ],
   "source": [
    "state = solver.solve(goals=[Translation(0.47, 0.0, 0.73), None, None], time=0.0)\n",
    "print(state.proximity)"
   ]
  },
  {
   "cell_type": "code",
   "execution_count": 7,
   "metadata": {},
   "outputs": [
    {
     "name": "stdout",
     "output_type": "stream",
     "text": [
      "{'wrist_3_link': <builtins.Transform object at 0x7f7d904e2ae0>, 'shoulder_link': <builtins.Transform object at 0x7f7d904e2a50>, 'upper_arm_link': <builtins.Transform object at 0x7f7d904e28a0>, 'wrist_2_link': <builtins.Transform object at 0x7f7d904e2990>, 'base_link': <builtins.Transform object at 0x7f7d904e2b40>, 'forearm_link': <builtins.Transform object at 0x7f7d904e2ba0>, 'wrist_1_link': <builtins.Transform object at 0x7f7d904e2c60>}\n"
     ]
    },
    {
     "data": {
      "text/plain": [
       "[0.46993965996037723, -0.00006592579125436898, 0.7300935147036609]"
      ]
     },
     "execution_count": 7,
     "metadata": {},
     "output_type": "execute_result"
    }
   ],
   "source": [
    "print(state.frames)\n",
    "state.frames['wrist_3_link'].translation"
   ]
  },
  {
   "cell_type": "code",
   "execution_count": null,
   "metadata": {},
   "outputs": [],
   "source": []
  },
  {
   "cell_type": "code",
   "execution_count": null,
   "metadata": {},
   "outputs": [],
   "source": []
  },
  {
   "cell_type": "code",
   "execution_count": null,
   "metadata": {},
   "outputs": [],
   "source": []
  },
  {
   "cell_type": "code",
   "execution_count": null,
   "metadata": {},
   "outputs": [],
   "source": []
  },
  {
   "cell_type": "code",
   "execution_count": null,
   "metadata": {},
   "outputs": [],
   "source": []
  },
  {
   "cell_type": "code",
   "execution_count": null,
   "metadata": {},
   "outputs": [],
   "source": []
  },
  {
   "cell_type": "code",
   "execution_count": null,
   "metadata": {},
   "outputs": [],
   "source": []
  },
  {
   "cell_type": "code",
   "execution_count": null,
   "metadata": {},
   "outputs": [],
   "source": []
  },
  {
   "cell_type": "code",
   "execution_count": null,
   "metadata": {},
   "outputs": [],
   "source": []
  },
  {
   "cell_type": "code",
   "execution_count": null,
   "metadata": {},
   "outputs": [],
   "source": []
  },
  {
   "cell_type": "code",
   "execution_count": null,
   "metadata": {},
   "outputs": [],
   "source": []
  },
  {
   "cell_type": "code",
   "execution_count": null,
   "metadata": {},
   "outputs": [],
   "source": []
  },
  {
   "cell_type": "code",
   "execution_count": null,
   "metadata": {},
   "outputs": [],
   "source": []
  }
 ],
 "metadata": {
  "interpreter": {
   "hash": "8b9a585b334263aa4c76378d53ceb18d9e927cee6287d087fdc011c2751f4567"
  },
  "kernelspec": {
   "display_name": "Python 3",
   "language": "python",
   "name": "python3"
  },
  "language_info": {
   "codemirror_mode": {
    "name": "ipython",
    "version": 3
   },
   "file_extension": ".py",
   "mimetype": "text/x-python",
   "name": "python",
   "nbconvert_exporter": "python",
   "pygments_lexer": "ipython3",
   "version": "3.8.8"
  }
 },
 "nbformat": 4,
 "nbformat_minor": 4
}
