{
 "cells": [
  {
   "cell_type": "code",
   "execution_count": 1,
   "metadata": {},
   "outputs": [
    {
     "name": "stdout",
     "output_type": "stream",
     "text": [
      "env: RUST_BACKTRACE=1\n"
     ]
    }
   ],
   "source": [
    "%env RUST_BACKTRACE=1\n",
    "import logging\n",
    "FORMAT = '%(levelname)s %(name)s %(asctime)-15s %(filename)s:%(lineno)d %(message)s'\n",
    "logging.basicConfig(format=FORMAT)\n",
    "logging.getLogger().setLevel(logging.INFO)\n",
    "from lively_tk import Solver,BoxShape, PositionMatchObjective, OrientationMatchObjective, CollisionAvoidanceObjective, SmoothnessMacroObjective, Translation, Rotation, ScalarRange,Transform,State"
   ]
  },
  {
   "cell_type": "code",
   "execution_count": 2,
   "metadata": {},
   "outputs": [],
   "source": [
    "with open('./ur3e.xml') as file:\n",
    "    data = file.read()"
   ]
  },
  {
   "cell_type": "code",
   "execution_count": 3,
   "metadata": {},
   "outputs": [],
   "source": [
    "solver = Solver(\n",
    "    data, \n",
    "    [\n",
    "        PositionMatchObjective(name=\"EE Position\", weight=20, link=\"wrist_3_link\"),\n",
    "        CollisionAvoidanceObjective(name=\"Collision Avoidance\", weight=10),\n",
    "        SmoothnessMacroObjective(name=\"Smoothness\", weight=10)\n",
    "    ]\n",
    ")"
   ]
  },
  {
   "cell_type": "code",
   "execution_count": 4,
   "metadata": {},
   "outputs": [
    {
     "data": {
      "text/plain": [
       "'EE Position'"
      ]
     },
     "execution_count": 4,
     "metadata": {},
     "output_type": "execute_result"
    }
   ],
   "source": [
    "solver.objectives[0].name"
   ]
  },
  {
   "cell_type": "code",
   "execution_count": 5,
   "metadata": {},
   "outputs": [],
   "source": [
    "for i in range(10): \n",
    "    solver.solve(goals=[Translation(0.47, 0.0, 0.73),None,None],time=0.12)"
   ]
  },
  {
   "cell_type": "code",
   "execution_count": 6,
   "metadata": {},
   "outputs": [
    {
     "name": "stdout",
     "output_type": "stream",
     "text": [
      "[<Proximity (shape1: base_link, shape2: shoulder_link, distance: 0.011900000000000091)>, <Proximity (shape1: base_link, shape2: upper_arm_link, distance: 0.01689999998666829)>, <Proximity (shape1: base_link, shape2: forearm_link, distance: 0.1470222237851224)>, <Proximity (shape1: base_link, shape2: wrist_1_link, distance: 0.3710180539065791)>, <Proximity (shape1: base_link, shape2: wrist_2_link, distance: 0.3554278072456394)>, <Proximity (shape1: base_link, shape2: wrist_3_link, distance: 0.38128038043098084)>, <Proximity (shape1: shoulder_link, shape2: upper_arm_link, distance: 0.00000000003937752207638919)>, <Proximity (shape1: shoulder_link, shape2: forearm_link, distance: 0.1436499993930734)>, <Proximity (shape1: shoulder_link, shape2: wrist_1_link, distance: 0.37051050200819086)>, <Proximity (shape1: shoulder_link, shape2: wrist_2_link, distance: 0.35747943200707116)>, <Proximity (shape1: shoulder_link, shape2: wrist_3_link, distance: 0.3831956273824337)>, <Proximity (shape1: upper_arm_link, shape2: forearm_link, distance: -0.001999999999999856)>, <Proximity (shape1: upper_arm_link, shape2: wrist_1_link, distance: 0.1369000002758736)>, <Proximity (shape1: upper_arm_link, shape2: wrist_2_link, distance: 0.15236443665340324)>, <Proximity (shape1: upper_arm_link, shape2: wrist_3_link, distance: 0.15236443540948508)>, <Proximity (shape1: forearm_link, shape2: wrist_1_link, distance: 0.0028500000000986)>, <Proximity (shape1: forearm_link, shape2: wrist_2_link, distance: 0.015366057916244093)>, <Proximity (shape1: forearm_link, shape2: wrist_3_link, distance: 0.08613174930238192)>, <Proximity (shape1: wrist_1_link, shape2: wrist_2_link, distance: 0.00784999999932446)>, <Proximity (shape1: wrist_1_link, shape2: wrist_3_link, distance: 0.014255963649763004)>, <Proximity (shape1: wrist_2_link, shape2: wrist_3_link, distance: 0.0048999999964929805)>]\n"
     ]
    }
   ],
   "source": [
    "state = solver.solve(goals=[Translation(0.47, 0.0, 0.73), None, None], time=0.0)\n",
    "print(state.proximity)"
   ]
  },
  {
   "cell_type": "code",
   "execution_count": 7,
   "metadata": {},
   "outputs": [
    {
     "name": "stdout",
     "output_type": "stream",
     "text": [
      "{'base': <builtins.Transform object at 0x000001C1149CD810>, 'forearm_link': <builtins.Transform object at 0x000001C1149CDFC0>, 'wrist_2_link': <builtins.Transform object at 0x000001C1149CD540>, 'base_link': <builtins.Transform object at 0x000001C1149CD9F0>, 'wrist_1_link': <builtins.Transform object at 0x000001C1149CDB10>, 'wrist_3_link': <builtins.Transform object at 0x000001C113ED2540>, 'shoulder_link': <builtins.Transform object at 0x000001C113ED2F60>, 'upper_arm_link': <builtins.Transform object at 0x000001C113E54F90>, 'tool0': <builtins.Transform object at 0x000001C114997F30>, 'flange': <builtins.Transform object at 0x000001C114997F90>}\n"
     ]
    },
    {
     "data": {
      "text/plain": [
       "[-0.4568995215669696, -0.1942500573363146, 0.06655095229017385]"
      ]
     },
     "execution_count": 7,
     "metadata": {},
     "output_type": "execute_result"
    }
   ],
   "source": [
    "print(state.frames)\n",
    "state.frames['wrist_3_link'].translation"
   ]
  },
  {
   "cell_type": "code",
   "execution_count": 8,
   "metadata": {},
   "outputs": [],
   "source": [
    "file.close();\n"
   ]
  },
  {
   "cell_type": "code",
   "execution_count": 9,
   "metadata": {},
   "outputs": [],
   "source": [
    "with open('./ur3e.xml') as staticEnvFile:\n",
    "    staticData = staticEnvFile.read()"
   ]
  },
  {
   "cell_type": "code",
   "execution_count": 10,
   "metadata": {},
   "outputs": [
    {
     "name": "stdout",
     "output_type": "stream",
     "text": [
      "[<Proximity (shape1: base_link, shape2: shoulder_link, distance: 0.011900000000000056)>, <Proximity (shape1: base_link, shape2: upper_arm_link, distance: 0.016899999986668326)>, <Proximity (shape1: base_link, shape2: forearm_link, distance: 0.14659885328200517)>, <Proximity (shape1: base_link, shape2: wrist_1_link, distance: 0.3705922888757792)>, <Proximity (shape1: base_link, shape2: wrist_2_link, distance: 0.35477812011347876)>, <Proximity (shape1: base_link, shape2: wrist_3_link, distance: 0.3806988680752662)>, <Proximity (shape1: shoulder_link, shape2: upper_arm_link, distance: 0.000000000037844193057078776)>, <Proximity (shape1: shoulder_link, shape2: forearm_link, distance: 0.14348130419508837)>, <Proximity (shape1: shoulder_link, shape2: wrist_1_link, distance: 0.3701955035538417)>, <Proximity (shape1: shoulder_link, shape2: wrist_2_link, distance: 0.3570929394147477)>, <Proximity (shape1: shoulder_link, shape2: wrist_3_link, distance: 0.3828593106055367)>, <Proximity (shape1: upper_arm_link, shape2: forearm_link, distance: -0.001999999999999745)>, <Proximity (shape1: upper_arm_link, shape2: wrist_1_link, distance: 0.1368998551093037)>, <Proximity (shape1: upper_arm_link, shape2: wrist_2_link, distance: 0.15225501639194527)>, <Proximity (shape1: upper_arm_link, shape2: wrist_3_link, distance: 0.15228146593854647)>, <Proximity (shape1: forearm_link, shape2: wrist_1_link, distance: 0.002850000000094631)>, <Proximity (shape1: forearm_link, shape2: wrist_2_link, distance: 0.015368230916053379)>, <Proximity (shape1: forearm_link, shape2: wrist_3_link, distance: 0.08613191692750369)>, <Proximity (shape1: wrist_1_link, shape2: wrist_2_link, distance: 0.007849999999324564)>, <Proximity (shape1: wrist_1_link, shape2: wrist_3_link, distance: 0.014255960119719236)>, <Proximity (shape1: wrist_2_link, shape2: wrist_3_link, distance: 0.004900000002051132)>]\n"
     ]
    }
   ],
   "source": [
    "solver = Solver(\n",
    "   staticData, \n",
    "    [\n",
    "        PositionMatchObjective(name=\"EE Position\", weight=20, link=\"wrist_3_link\"),\n",
    "        CollisionAvoidanceObjective(name=\"Collision Avoidance\", weight=10),\n",
    "        SmoothnessMacroObjective(name=\"Smoothness\", weight=10)\n",
    "    ],\n",
    "    [ScalarRange(value = 0, delta = 0), \n",
    "     ScalarRange(value = -0.15, delta = 0), \n",
    "     ScalarRange(value = 0, delta = 0), \n",
    "     ScalarRange(value = 0, delta = 0), \n",
    "     ScalarRange(value = 0, delta = 0), \n",
    "     ScalarRange(value = 0, delta = 0),\n",
    "     ],\n",
    "     [\n",
    "      BoxShape(name = \"conveyorCollisionShapeBase\", frame=\"world\", physical = True, x = 1.0, y = 1.1, z = 1.7, local_transform = Transform(translation = Translation( 1.7497281999999998,-0.24972819999999987,0.050000000000000044), rotation = Rotation(0,0,-0.7069999677447771,0.7072135784958345))),\n",
    "      BoxShape(name = \"conveyorCollisionShapeBelt\", frame=\"world\", physical = True, x = 0.75, y = 0.65, z = 0.25, local_transform = Transform(translation = Translation( 0.9499698,-0.2499698,0.050000000000000044), rotation = Rotation(0,0,-0.7069999677447772,0.7072135784958345))),\n",
    "      BoxShape(name = \"conveyorRecieverCollisionShapeBase\", frame=\"world\", physical = True, x = 0.75, y = 0.25, z = 0.7, local_transform = Transform(translation = Translation( -0.5500906000000001,-0.25009060000000005, -0.45), rotation = Rotation(0,0,0.7069999677447771,0.7072135784958345))),\n",
    "      BoxShape(name = \"conveyorRecieverCollisionShapeLeftSplit\", frame=\"world\", physical = True, x = 0.3, y = 0.155, z = 0.165, local_transform = Transform(translation = Translation(  -0.59013137,-0.42502567,-0.025000000000000022), rotation = Rotation(0,0,0.7069999677447772,0.7072135784958345))),\n",
    "      BoxShape(name = \"conveyorRecieverCollisionShapeRightSplit\", frame=\"world\", physical = True, x = 0.3, y = 0.155, z = 0.165, local_transform = Transform(translation = Translation(-0.59002567,-0.07513137000000006,-0.025000000000000022), rotation = Rotation(0,0,0.7069999677447772,0.7072135784958345))),\n",
    "      BoxShape(name =\"conveyorDispatcherCollisionShapeBase\", frame=\"world\", physical = True, x = 0.75, y = 0.35, z = 0.9, local_transform = Transform(translation = Translation(0.6000755,-0.2500755,-0.3), rotation = Rotation(0,0,-0.7069999677447771,0.7072135784958345))),\n",
    "      BoxShape(name =\"conveyorDispatcherCollisionShapeLeftSplit\", frame=\"world\", physical = True, x = 0.255, y = 0.275, z = 0.175, local_transform = Transform(translation = Translation(0.65000755,-0.07511325000000005,0.22499999999999998), rotation = Rotation(0,0,-0.7069999677447771,0.7072135784958345))),\n",
    "      BoxShape(name =\"conveyorDispatcherCollisionShapeRightSplit\", frame=\"world\", physical = True, x = 0.29, y = 0.275, z = 0.175, local_transform = Transform(translation = Translation(0.65011325,-0.42500755,0.22499999999999998), rotation = Rotation(0,0,-0.7069999677447771,0.7072135784958345))),\n",
    "      BoxShape(name =\"tableCollisionShapeTop\", frame=\"world\", physical = True, x = 0.1225, y = 0.625, z = 0.05, local_transform = Transform(translation = Translation(0,0.36,-0.010000000000000009), rotation = Rotation(0,0,0,1))),\n",
    "      BoxShape(name =\"tableCollisionShapeFrontLeftLeg\", frame=\"world\", physical = True, x = 0.05, y = 0.05, z = 0.75, local_transform = Transform(translation = Translation(-0.585,0.07,-0.395), rotation = Rotation(0,0,0,1))),\n",
    "      BoxShape(name =\"tableCollisionShapeRearLeftLeg\", frame=\"world\", physical = True, x = 0.05, y = 0.05, z = 0.75, local_transform = Transform(translation = Translation(-0.585,0.6499999999999999,-0.585), rotation = Rotation(0,0,0,1))),\n",
    "      BoxShape(name =\"tableCollisionShapeRearRightLeg\", frame=\"world\", physical = True, x = 0.05, y = 0.05, z = 0.75, local_transform = Transform(translation = Translation(0.585,0.7,-0.395), rotation = Rotation(0,0,0,1))), \n",
    "      BoxShape(name =\"pedestalCollisionShapeBase\", frame=\"world\", physical = True, x = 0.65, y = 0.65, z = 0.15, local_transform = Transform(translation = Translation(0,-0.15,-0.7150000000000001), rotation = Rotation(0,0,0,1))),\n",
    "      BoxShape(name =\"pedestalCollisionShapeTower\", frame=\"world\", physical = True, x = 0.1, y = 0.1, z = 0.7, local_transform = Transform(translation = Translation(0,-0.15,-0.33), rotation = Rotation(0,0,0,1))),\n",
    "      BoxShape(name =\"mk2CollisionShapeLeftVertical\", frame=\"world\", physical = True, x = 0.125, y = 0.185, z = 0.4, local_transform = Transform(translation = Translation(-0.46,0.42000000000000004,0.22500000000000003), rotation = Rotation(0,0,0,1))),\n",
    "      BoxShape(name =\"mk2CollisionShapeRightVertical\", frame=\"world\", physical = True, x = 0.125, y = 0.225, z = 0.4, local_transform = Transform(translation = Translation(-0.10000000000000003,0.445,0.22500000000000003), rotation = Rotation(0,0,0,1))),\n",
    "      BoxShape(name =\"mk2CollisionShapeBase\", frame=\"world\", physical = True, x = 0.4, y = 0.4, z = 0.1, local_transform = Transform(translation = Translation( -0.28,0.32,0.050000000000000044), rotation = Rotation(0,0,0,1))),\n",
    "      BoxShape(name =\"mk2CollisionShapeSpool\", frame=\"world\", physical = True, x = 0.4, y = 0.25, z = 0.25, local_transform = Transform(translation = Translation( -0.28, 0.445,0.48000000000000004), rotation = Rotation(0,0,0,1))),  \n",
    "     ],\n",
    "    #  State(origin = Transform(translation = Translation(0,-0,15,0), rotation = Rotation(0,0,0,1),joints = {\n",
    "    #     \"elbow_joint\": -1.57,\n",
    "    #     \"shoulder_lift_joint\": -0.55,\n",
    "    #     \"shoulder_pan_joint\": 1.57,\n",
    "    #     \"wrist_1_joint\": -2.13,\n",
    "    #     \"wrist_2_joint\": 1.6,\n",
    "    #     \"wrist_3_joint\": -0.2\n",
    "    # }))\n",
    "     \n",
    "    \n",
    ")\n",
    "state = solver.solve(goals=[Translation(0.47, 0.0, 0.73),None,None], time=0.0)\n",
    "print(state.proximity)"
   ]
  },
  {
   "cell_type": "code",
   "execution_count": 11,
   "metadata": {},
   "outputs": [
    {
     "data": {
      "text/plain": [
       "<State at 0x1c11386cc90>"
      ]
     },
     "execution_count": 11,
     "metadata": {},
     "output_type": "execute_result"
    }
   ],
   "source": [
    "solver.current_state"
   ]
  },
  {
   "cell_type": "code",
   "execution_count": null,
   "metadata": {},
   "outputs": [],
   "source": []
  },
  {
   "cell_type": "code",
   "execution_count": null,
   "metadata": {},
   "outputs": [],
   "source": []
  },
  {
   "cell_type": "code",
   "execution_count": null,
   "metadata": {},
   "outputs": [],
   "source": []
  },
  {
   "cell_type": "code",
   "execution_count": null,
   "metadata": {},
   "outputs": [],
   "source": []
  },
  {
   "cell_type": "code",
   "execution_count": null,
   "metadata": {},
   "outputs": [],
   "source": []
  },
  {
   "cell_type": "code",
   "execution_count": null,
   "metadata": {},
   "outputs": [],
   "source": []
  },
  {
   "cell_type": "code",
   "execution_count": null,
   "metadata": {},
   "outputs": [],
   "source": []
  },
  {
   "cell_type": "code",
   "execution_count": null,
   "metadata": {},
   "outputs": [],
   "source": []
  },
  {
   "cell_type": "code",
   "execution_count": null,
   "metadata": {},
   "outputs": [],
   "source": []
  },
  {
   "cell_type": "code",
   "execution_count": null,
   "metadata": {},
   "outputs": [],
   "source": []
  }
 ],
 "metadata": {
  "kernelspec": {
   "display_name": "Python 3.9.6 64-bit",
   "language": "python",
   "name": "python3"
  },
  "language_info": {
   "codemirror_mode": {
    "name": "ipython",
    "version": 3
   },
   "file_extension": ".py",
   "mimetype": "text/x-python",
   "name": "python",
   "nbconvert_exporter": "python",
   "pygments_lexer": "ipython3",
   "version": "3.9.6"
  },
  "vscode": {
   "interpreter": {
    "hash": "81794d4967e6c3204c66dcd87b604927b115b27c00565d3d43f05ba2f3a2cb0d"
   }
  }
 },
 "nbformat": 4,
 "nbformat_minor": 4
}
