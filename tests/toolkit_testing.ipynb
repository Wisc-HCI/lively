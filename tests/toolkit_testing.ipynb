{
 "cells": [
  {
   "cell_type": "code",
   "execution_count": 1,
   "metadata": {},
   "outputs": [
    {
     "name": "stdout",
     "output_type": "stream",
     "text": [
      "env: RUST_BACKTRACE=1\n"
     ]
    }
   ],
   "source": [
    "%env RUST_BACKTRACE=1\n",
    "import logging\n",
    "FORMAT = '%(levelname)s %(name)s %(asctime)-15s %(filename)s:%(lineno)d %(message)s'\n",
    "logging.basicConfig(format=FORMAT)\n",
    "logging.getLogger().setLevel(logging.INFO)\n",
    "from lively_tk import Solver,BoxShape, PositionMatchObjective, OrientationMatchObjective, CollisionAvoidanceObjective, SmoothnessMacroObjective, Translation, Rotation, ScalarRange,Transform,State"
   ]
  },
  {
   "cell_type": "code",
   "execution_count": 2,
   "metadata": {},
   "outputs": [],
   "source": [
    "with open('./ur3e.xml') as file:\n",
    "    data = file.read()"
   ]
  },
  {
   "cell_type": "code",
   "execution_count": 3,
   "metadata": {},
   "outputs": [],
   "source": [
    "solver = Solver(\n",
    "    data, \n",
    "    [\n",
    "        PositionMatchObjective(name=\"EE Position\", weight=20, link=\"wrist_3_link\"),\n",
    "        CollisionAvoidanceObjective(name=\"Collision Avoidance\", weight=10),\n",
    "        SmoothnessMacroObjective(name=\"Smoothness\", weight=10)\n",
    "    ]\n",
    ")"
   ]
  },
  {
   "cell_type": "code",
   "execution_count": 4,
   "metadata": {},
   "outputs": [
    {
     "data": {
      "text/plain": [
       "'EE Position'"
      ]
     },
     "execution_count": 4,
     "metadata": {},
     "output_type": "execute_result"
    }
   ],
   "source": [
    "solver.objectives[0].name"
   ]
  },
  {
   "cell_type": "code",
   "execution_count": 5,
   "metadata": {},
   "outputs": [],
   "source": [
    "for i in range(10): \n",
    "    solver.solve(goals=[Translation(0.47, 0.0, 0.73),None,None],weights = [],time=0.12)"
   ]
  },
  {
   "cell_type": "code",
   "execution_count": 6,
   "metadata": {},
   "outputs": [
    {
     "name": "stdout",
     "output_type": "stream",
     "text": [
      "[<Proximity (shape1: base_link, shape2: shoulder_link, distance: 0.011900000000000039)>, <Proximity (shape1: base_link, shape2: upper_arm_link, distance: 0.01689999998666832)>, <Proximity (shape1: base_link, shape2: forearm_link, distance: 0.14702293696977178)>, <Proximity (shape1: base_link, shape2: wrist_1_link, distance: 0.37101894958730613)>, <Proximity (shape1: base_link, shape2: wrist_2_link, distance: 0.3554291961360053)>, <Proximity (shape1: base_link, shape2: wrist_3_link, distance: 0.38128123503582934)>, <Proximity (shape1: shoulder_link, shape2: upper_arm_link, distance: 0)>, <Proximity (shape1: shoulder_link, shape2: forearm_link, distance: 0.14364951235960544)>, <Proximity (shape1: shoulder_link, shape2: wrist_1_link, distance: 0.37050992928768395)>, <Proximity (shape1: shoulder_link, shape2: wrist_2_link, distance: 0.3574801217191693)>, <Proximity (shape1: shoulder_link, shape2: wrist_3_link, distance: 0.3831958468299981)>, <Proximity (shape1: upper_arm_link, shape2: forearm_link, distance: 0)>, <Proximity (shape1: upper_arm_link, shape2: wrist_1_link, distance: 0.1369000024913736)>, <Proximity (shape1: upper_arm_link, shape2: wrist_2_link, distance: 0.15236390765570595)>, <Proximity (shape1: upper_arm_link, shape2: wrist_3_link, distance: 0.1523638640119345)>, <Proximity (shape1: forearm_link, shape2: wrist_1_link, distance: 0.0028500000034040384)>, <Proximity (shape1: forearm_link, shape2: wrist_2_link, distance: 0.015366061570368152)>, <Proximity (shape1: forearm_link, shape2: wrist_3_link, distance: 0.08613175429976958)>, <Proximity (shape1: wrist_1_link, shape2: wrist_2_link, distance: 0.007849999999324377)>, <Proximity (shape1: wrist_1_link, shape2: wrist_3_link, distance: 0.014255963649763151)>, <Proximity (shape1: wrist_2_link, shape2: wrist_3_link, distance: 0.004900000002051057)>]\n"
     ]
    }
   ],
   "source": [
    "state = solver.solve(goals=[Translation(0.47, 0.0, 0.73), None, None],weights = [], time=0.0)\n",
    "print(state.proximity)"
   ]
  },
  {
   "cell_type": "code",
   "execution_count": 7,
   "metadata": {},
   "outputs": [
    {
     "name": "stdout",
     "output_type": "stream",
     "text": [
      "{'tool0': <builtins.TransformInfo object at 0x7f90884ef660>, 'forearm_link': <builtins.TransformInfo object at 0x7f90b859dd20>, 'base': <builtins.TransformInfo object at 0x7f90b859d6f0>, 'wrist_3_link': <builtins.TransformInfo object at 0x7f9098850ae0>, 'wrist_2_link': <builtins.TransformInfo object at 0x7f9098850b70>, 'base_link': <builtins.TransformInfo object at 0x7f9098850c00>, 'upper_arm_link': <builtins.TransformInfo object at 0x7f9098850c90>, 'flange': <builtins.TransformInfo object at 0x7f9098850d20>, 'shoulder_link': <builtins.TransformInfo object at 0x7f9098850db0>, 'wrist_1_link': <builtins.TransformInfo object at 0x7f9098850e40>}\n"
     ]
    },
    {
     "ename": "AttributeError",
     "evalue": "'builtins.TransformInfo' object has no attribute 'translation'",
     "output_type": "error",
     "traceback": [
      "\u001b[0;31m---------------------------------------------------------------------------\u001b[0m",
      "\u001b[0;31mAttributeError\u001b[0m                            Traceback (most recent call last)",
      "\u001b[0;32m<ipython-input-7-49084bca14b6>\u001b[0m in \u001b[0;36m<module>\u001b[0;34m\u001b[0m\n\u001b[1;32m      1\u001b[0m \u001b[0mprint\u001b[0m\u001b[0;34m(\u001b[0m\u001b[0mstate\u001b[0m\u001b[0;34m.\u001b[0m\u001b[0mframes\u001b[0m\u001b[0;34m)\u001b[0m\u001b[0;34m\u001b[0m\u001b[0;34m\u001b[0m\u001b[0m\n\u001b[0;32m----> 2\u001b[0;31m \u001b[0mstate\u001b[0m\u001b[0;34m.\u001b[0m\u001b[0mframes\u001b[0m\u001b[0;34m[\u001b[0m\u001b[0;34m'wrist_3_link'\u001b[0m\u001b[0;34m]\u001b[0m\u001b[0;34m.\u001b[0m\u001b[0mtranslation\u001b[0m\u001b[0;34m\u001b[0m\u001b[0;34m\u001b[0m\u001b[0m\n\u001b[0m",
      "\u001b[0;31mAttributeError\u001b[0m: 'builtins.TransformInfo' object has no attribute 'translation'"
     ]
    }
   ],
   "source": [
    "print(state.frames)\n",
    "state.frames['wrist_3_link'].translation"
   ]
  },
  {
   "cell_type": "code",
   "execution_count": 8,
   "metadata": {},
   "outputs": [],
   "source": [
    "file.close();\n"
   ]
  },
  {
   "cell_type": "code",
   "execution_count": 11,
   "metadata": {},
   "outputs": [],
   "source": [
    "with open('./ur3e.xml') as staticEnvFile:\n",
    "    staticData = staticEnvFile.read()"
   ]
  },
  {
   "cell_type": "code",
   "execution_count": 15,
   "metadata": {},
   "outputs": [
    {
     "ename": "PanicException",
     "evalue": "index out of bounds: the len is 0 but the index is 0",
     "output_type": "error",
     "traceback": [
      "\u001b[0;31m---------------------------------------------------------------------------\u001b[0m",
      "\u001b[0;31mPanicException\u001b[0m                            Traceback (most recent call last)",
      "\u001b[0;32m<ipython-input-15-e9d795be4f75>\u001b[0m in \u001b[0;36m<module>\u001b[0;34m\u001b[0m\n\u001b[1;32m     40\u001b[0m \u001b[0;34m\u001b[0m\u001b[0m\n\u001b[1;32m     41\u001b[0m )\n\u001b[0;32m---> 42\u001b[0;31m \u001b[0mstate\u001b[0m \u001b[0;34m=\u001b[0m \u001b[0msolver\u001b[0m\u001b[0;34m.\u001b[0m\u001b[0msolve\u001b[0m\u001b[0;34m(\u001b[0m\u001b[0mgoals\u001b[0m \u001b[0;34m=\u001b[0m\u001b[0;34m[\u001b[0m\u001b[0mTranslation\u001b[0m\u001b[0;34m(\u001b[0m\u001b[0;36m0.47\u001b[0m\u001b[0;34m,\u001b[0m\u001b[0;36m0.0\u001b[0m\u001b[0;34m,\u001b[0m\u001b[0;36m0.73\u001b[0m\u001b[0;34m)\u001b[0m\u001b[0;34m,\u001b[0m\u001b[0;32mNone\u001b[0m\u001b[0;34m,\u001b[0m\u001b[0;32mNone\u001b[0m\u001b[0;34m]\u001b[0m\u001b[0;34m,\u001b[0m \u001b[0mweights\u001b[0m \u001b[0;34m=\u001b[0m \u001b[0;34m[\u001b[0m\u001b[0;34m]\u001b[0m\u001b[0;34m,\u001b[0m \u001b[0mtime\u001b[0m \u001b[0;34m=\u001b[0m \u001b[0;36m0.0\u001b[0m\u001b[0;34m)\u001b[0m\u001b[0;34m\u001b[0m\u001b[0;34m\u001b[0m\u001b[0m\n\u001b[0m\u001b[1;32m     43\u001b[0m \u001b[0mprint\u001b[0m\u001b[0;34m(\u001b[0m\u001b[0mstate\u001b[0m\u001b[0;34m.\u001b[0m\u001b[0mproximity\u001b[0m\u001b[0;34m)\u001b[0m\u001b[0;34m\u001b[0m\u001b[0;34m\u001b[0m\u001b[0m\n",
      "\u001b[0;31mPanicException\u001b[0m: index out of bounds: the len is 0 but the index is 0"
     ]
    }
   ],
   "source": [
    "solver = Solver(\n",
    "   staticData, \n",
    "    [],\n",
    "    [ScalarRange(value = 0, delta = 0), \n",
    "     ScalarRange(value = -0.15, delta = 0), \n",
    "     ScalarRange(value = 0, delta = 0), \n",
    "     ScalarRange(value = 0, delta = 0), \n",
    "     ScalarRange(value = 0, delta = 0), \n",
    "     ScalarRange(value = 0, delta = 0),\n",
    "     ],\n",
    "     [\n",
    "      BoxShape(name = \"conveyorCollisionShapeBase\", frame=\"world\", physical = True, x = 1.0, y = 1.1, z = 1.7, local_transform = Transform(translation = Translation( 1.7497281999999998,-0.24972819999999987,0.050000000000000044), rotation = Rotation(0,0,-0.7069999677447771,0.7072135784958345))),\n",
    "      BoxShape(name = \"conveyorCollisionShapeBelt\", frame=\"world\", physical = True, x = 0.75, y = 0.65, z = 0.25, local_transform = Transform(translation = Translation( 0.9499698,-0.2499698,0.050000000000000044), rotation = Rotation(0,0,-0.7069999677447772,0.7072135784958345))),\n",
    "      BoxShape(name = \"conveyorRecieverCollisionShapeBase\", frame=\"world\", physical = True, x = 0.75, y = 0.25, z = 0.7, local_transform = Transform(translation = Translation( -0.5500906000000001,-0.25009060000000005, -0.45), rotation = Rotation(0,0,0.7069999677447771,0.7072135784958345))),\n",
    "      BoxShape(name = \"conveyorRecieverCollisionShapeLeftSplit\", frame=\"world\", physical = True, x = 0.3, y = 0.155, z = 0.165, local_transform = Transform(translation = Translation(  -0.59013137,-0.42502567,-0.025000000000000022), rotation = Rotation(0,0,0.7069999677447772,0.7072135784958345))),\n",
    "      BoxShape(name = \"conveyorRecieverCollisionShapeRightSplit\", frame=\"world\", physical = True, x = 0.3, y = 0.155, z = 0.165, local_transform = Transform(translation = Translation(-0.59002567,-0.07513137000000006,-0.025000000000000022), rotation = Rotation(0,0,0.7069999677447772,0.7072135784958345))),\n",
    "      BoxShape(name =\"conveyorDispatcherCollisionShapeBase\", frame=\"world\", physical = True, x = 0.75, y = 0.35, z = 0.9, local_transform = Transform(translation = Translation(0.6000755,-0.2500755,-0.3), rotation = Rotation(0,0,-0.7069999677447771,0.7072135784958345))),\n",
    "      BoxShape(name =\"conveyorDispatcherCollisionShapeLeftSplit\", frame=\"world\", physical = True, x = 0.255, y = 0.275, z = 0.175, local_transform = Transform(translation = Translation(0.65000755,-0.07511325000000005,0.22499999999999998), rotation = Rotation(0,0,-0.7069999677447771,0.7072135784958345))),\n",
    "      BoxShape(name =\"conveyorDispatcherCollisionShapeRightSplit\", frame=\"world\", physical = True, x = 0.29, y = 0.275, z = 0.175, local_transform = Transform(translation = Translation(0.65011325,-0.42500755,0.22499999999999998), rotation = Rotation(0,0,-0.7069999677447771,0.7072135784958345))),\n",
    "      BoxShape(name =\"tableCollisionShapeTop\", frame=\"world\", physical = True, x = 0.1225, y = 0.625, z = 0.05, local_transform = Transform(translation = Translation(0,0.36,-0.010000000000000009), rotation = Rotation(0,0,0,1))),\n",
    "      BoxShape(name =\"tableCollisionShapeFrontLeftLeg\", frame=\"world\", physical = True, x = 0.05, y = 0.05, z = 0.75, local_transform = Transform(translation = Translation(-0.585,0.07,-0.395), rotation = Rotation(0,0,0,1))),\n",
    "      BoxShape(name =\"tableCollisionShapeRearLeftLeg\", frame=\"world\", physical = True, x = 0.05, y = 0.05, z = 0.75, local_transform = Transform(translation = Translation(-0.585,0.6499999999999999,-0.585), rotation = Rotation(0,0,0,1))),\n",
    "      BoxShape(name =\"tableCollisionShapeRearRightLeg\", frame=\"world\", physical = True, x = 0.05, y = 0.05, z = 0.75, local_transform = Transform(translation = Translation(0.585,0.7,-0.395), rotation = Rotation(0,0,0,1))), \n",
    "      BoxShape(name =\"pedestalCollisionShapeBase\", frame=\"world\", physical = True, x = 0.65, y = 0.65, z = 0.15, local_transform = Transform(translation = Translation(0,-0.15,-0.7150000000000001), rotation = Rotation(0,0,0,1))),\n",
    "      BoxShape(name =\"pedestalCollisionShapeTower\", frame=\"world\", physical = True, x = 0.1, y = 0.1, z = 0.7, local_transform = Transform(translation = Translation(0,-0.15,-0.33), rotation = Rotation(0,0,0,1))),\n",
    "      BoxShape(name =\"mk2CollisionShapeLeftVertical\", frame=\"world\", physical = True, x = 0.125, y = 0.185, z = 0.4, local_transform = Transform(translation = Translation(-0.46,0.42000000000000004,0.22500000000000003), rotation = Rotation(0,0,0,1))),\n",
    "      BoxShape(name =\"mk2CollisionShapeRightVertical\", frame=\"world\", physical = True, x = 0.125, y = 0.225, z = 0.4, local_transform = Transform(translation = Translation(-0.10000000000000003,0.445,0.22500000000000003), rotation = Rotation(0,0,0,1))),\n",
    "      BoxShape(name =\"mk2CollisionShapeBase\", frame=\"world\", physical = True, x = 0.4, y = 0.4, z = 0.1, local_transform = Transform(translation = Translation( -0.28,0.32,0.050000000000000044), rotation = Rotation(0,0,0,1))),\n",
    "      BoxShape(name =\"mk2CollisionShapeSpool\", frame=\"world\", physical = True, x = 0.4, y = 0.25, z = 0.25, local_transform = Transform(translation = Translation( -0.28, 0.445,0.48000000000000004), rotation = Rotation(0,0,0,1))),  \n",
    "     ],\n",
    "    #  State(origin = Transform(translation = Translation(0,-0,15,0), rotation = Rotation(0,0,0,1),joints = {\n",
    "    #     \"elbow_joint\": -1.57,\n",
    "    #     \"shoulder_lift_joint\": -0.55,\n",
    "    #     \"shoulder_pan_joint\": 1.57,\n",
    "    #     \"wrist_1_joint\": -2.13,\n",
    "    #     \"wrist_2_joint\": 1.6,\n",
    "    #     \"wrist_3_joint\": -0.2\n",
    "    # }))\n",
    "     \n",
    "    \n",
    ")\n",
    "state = solver.solve(goals =[Translation(0.47,0.0,0.73),None,None], weights = [], time = 0.0)\n",
    "print(state.proximity)"
   ]
  },
  {
   "cell_type": "code",
   "execution_count": null,
   "metadata": {},
   "outputs": [],
   "source": []
  },
  {
   "cell_type": "code",
   "execution_count": null,
   "metadata": {},
   "outputs": [],
   "source": []
  },
  {
   "cell_type": "code",
   "execution_count": null,
   "metadata": {},
   "outputs": [],
   "source": []
  },
  {
   "cell_type": "code",
   "execution_count": null,
   "metadata": {},
   "outputs": [],
   "source": []
  },
  {
   "cell_type": "code",
   "execution_count": null,
   "metadata": {},
   "outputs": [],
   "source": []
  },
  {
   "cell_type": "code",
   "execution_count": null,
   "metadata": {},
   "outputs": [],
   "source": []
  },
  {
   "cell_type": "code",
   "execution_count": null,
   "metadata": {},
   "outputs": [],
   "source": []
  },
  {
   "cell_type": "code",
   "execution_count": null,
   "metadata": {},
   "outputs": [],
   "source": []
  },
  {
   "cell_type": "code",
   "execution_count": null,
   "metadata": {},
   "outputs": [],
   "source": []
  },
  {
   "cell_type": "code",
   "execution_count": null,
   "metadata": {},
   "outputs": [],
   "source": []
  }
 ],
 "metadata": {
  "kernelspec": {
   "display_name": "Python 3.8.8 ('base')",
   "language": "python",
   "name": "python3"
  },
  "language_info": {
   "codemirror_mode": {
    "name": "ipython",
    "version": 3
   },
   "file_extension": ".py",
   "mimetype": "text/x-python",
   "name": "python",
   "nbconvert_exporter": "python",
   "pygments_lexer": "ipython3",
   "version": "3.8.8"
  },
  "vscode": {
   "interpreter": {
    "hash": "d63fb22d2eb77a4d242eaa81b607b4036aaf35ce987638ccbb395621be85a420"
   }
  }
 },
 "nbformat": 4,
 "nbformat_minor": 4
}
