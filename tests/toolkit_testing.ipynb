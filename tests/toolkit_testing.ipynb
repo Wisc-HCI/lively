{
 "cells": [
  {
   "cell_type": "code",
   "execution_count": 2,
   "source": [
    "%env RUST_BACKTRACE=1\n",
    "from lively_tk import Solver, PositionMatchObjective, OrientationMatchObjective, Translation, Rotation"
   ],
   "outputs": [
    {
     "output_type": "stream",
     "name": "stdout",
     "text": [
      "env: RUST_BACKTRACE=1\n"
     ]
    }
   ],
   "metadata": {}
  },
  {
   "cell_type": "code",
   "execution_count": 3,
   "source": [
    "with open('./panda.xml') as file:\n",
    "    data = file.read()"
   ],
   "outputs": [],
   "metadata": {}
  },
  {
   "cell_type": "code",
   "execution_count": 4,
   "source": [
    "solver = Solver(\n",
    "    data, \n",
    "    [\n",
    "        PositionMatchObjective(name=\"EE Position\", weight=20, link=\"panda_link5\"),\n",
    "        OrientationMatchObjective(name=\"EE Rotation\", weight=6, link=\"panda_link5\")\n",
    "    ]\n",
    ")"
   ],
   "outputs": [],
   "metadata": {}
  },
  {
   "cell_type": "code",
   "execution_count": 5,
   "source": [
    "solver.objectives[0].name"
   ],
   "outputs": [
    {
     "output_type": "execute_result",
     "data": {
      "text/plain": [
       "'EE Position'"
      ]
     },
     "metadata": {},
     "execution_count": 5
    }
   ],
   "metadata": {}
  },
  {
   "cell_type": "code",
   "execution_count": 6,
   "source": [
    "for i in range(100): \n",
    "    solver.solve(goals=[Translation(0.47, 0.0, 0.73), Rotation(0.707, 0, 0.707, 0)],time=0.12)"
   ],
   "outputs": [],
   "metadata": {}
  },
  {
   "cell_type": "code",
   "execution_count": 7,
   "source": [
    "state = solver.solve(goals=[Translation(0.47, 0.0, 0.73), Rotation(0.707, 0, 0.707, 0)], time=0.0)\n",
    "state.center_of_mass"
   ],
   "outputs": [
    {
     "output_type": "execute_result",
     "data": {
      "text/plain": [
       "[0.34267165675171807, 0.006605535784623914, 0.6278100623088242]"
      ]
     },
     "metadata": {},
     "execution_count": 7
    }
   ],
   "metadata": {}
  },
  {
   "cell_type": "code",
   "execution_count": 8,
   "source": [
    "print(state.frames)\n",
    "state.frames['panda_link5'].translation"
   ],
   "outputs": [
    {
     "output_type": "stream",
     "name": "stdout",
     "text": [
      "{'panda_link6': <Transform object at 0x10c7b0e10>, 'panda_leftfinger': <Transform object at 0x10c7b04e0>, 'panda_link3': <Transform object at 0x10c7b0de0>, 'panda_link4': <Transform object at 0x10c7b0e40>, 'panda_link2': <Transform object at 0x10c7b0ed0>, 'panda_rightfinger': <Transform object at 0x10c7b0360>, 'panda_link7': <Transform object at 0x10c7b0ea0>, 'panda_link5': <Transform object at 0x10c7b0f30>, 'panda_link1': <Transform object at 0x10c7b0f60>}\n"
     ]
    },
    {
     "output_type": "execute_result",
     "data": {
      "text/plain": [
       "[0.4700002916609887, -0.0000005551127434638981, 0.7300003860846268]"
      ]
     },
     "metadata": {},
     "execution_count": 8
    }
   ],
   "metadata": {}
  }
 ],
 "metadata": {
  "orig_nbformat": 4,
  "language_info": {
   "name": "python",
   "version": "3.8.10",
   "mimetype": "text/x-python",
   "codemirror_mode": {
    "name": "ipython",
    "version": 3
   },
   "pygments_lexer": "ipython3",
   "nbconvert_exporter": "python",
   "file_extension": ".py"
  },
  "kernelspec": {
   "name": "python3",
   "display_name": "Python 3.8.10 64-bit ('base': conda)"
  },
  "interpreter": {
   "hash": "8b9a585b334263aa4c76378d53ceb18d9e927cee6287d087fdc011c2751f4567"
  }
 },
 "nbformat": 4,
 "nbformat_minor": 2
}