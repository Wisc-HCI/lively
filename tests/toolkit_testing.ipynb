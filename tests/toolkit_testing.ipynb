{
 "cells": [
  {
   "cell_type": "code",
   "execution_count": 1,
   "metadata": {},
   "outputs": [
    {
     "name": "stdout",
     "output_type": "stream",
     "text": [
      "env: RUST_BACKTRACE=1\n"
     ]
    }
   ],
   "source": [
    "%env RUST_BACKTRACE=1\n",
    "import logging\n",
    "FORMAT = '%(levelname)s %(name)s %(asctime)-15s %(filename)s:%(lineno)d %(message)s'\n",
    "logging.basicConfig(format=FORMAT)\n",
    "logging.getLogger().setLevel(logging.INFO)\n",
    "from lively_tk import Solver,BoxShape, PositionMatchObjective, OrientationMatchObjective, CollisionAvoidanceObjective, SmoothnessMacroObjective, Translation, Rotation, ScalarRange,Transform,State"
   ]
  },
  {
   "cell_type": "code",
   "execution_count": 2,
   "metadata": {},
   "outputs": [],
   "source": [
    "with open('./ur3e.xml') as file:\n",
    "    data = file.read()"
   ]
  },
  {
   "cell_type": "code",
   "execution_count": 3,
   "metadata": {},
   "outputs": [],
   "source": [
    "solver = Solver(\n",
    "    data, \n",
    "    [\n",
    "        PositionMatchObjective(name=\"EE Position\", weight=20, link=\"wrist_3_link\"),\n",
    "        CollisionAvoidanceObjective(name=\"Collision Avoidance\", weight=10),\n",
    "        SmoothnessMacroObjective(name=\"Smoothness\", weight=10)\n",
    "    ]\n",
    ")"
   ]
  },
  {
   "cell_type": "code",
   "execution_count": 4,
   "metadata": {},
   "outputs": [
    {
     "data": {
      "text/plain": [
       "'EE Position'"
      ]
     },
     "execution_count": 4,
     "metadata": {},
     "output_type": "execute_result"
    }
   ],
   "source": [
    "solver.objectives[0].name"
   ]
  },
  {
   "cell_type": "code",
   "execution_count": 5,
   "metadata": {},
   "outputs": [],
   "source": [
    "for i in range(10): \n",
    "    solver.solve(goals=[Translation(0.47, 0.0, 0.73),None,None],weights=[None,],time=0.12)"
   ]
  },
  {
   "cell_type": "code",
   "execution_count": 6,
   "metadata": {},
   "outputs": [
    {
     "name": "stdout",
     "output_type": "stream",
     "text": [
      "[<Proximity (shape1: base_link, shape2: shoulder_link, distance: 0.011899999999999952)>, <Proximity (shape1: base_link, shape2: upper_arm_link, distance: 0.01689999998666819)>, <Proximity (shape1: base_link, shape2: forearm_link, distance: 0.16986613077557722)>, <Proximity (shape1: base_link, shape2: wrist_1_link, distance: 0.39236519520174096)>, <Proximity (shape1: base_link, shape2: wrist_2_link, distance: 0.3789195736688218)>, <Proximity (shape1: base_link, shape2: wrist_3_link, distance: 0.3994422612998553)>, <Proximity (shape1: shoulder_link, shape2: upper_arm_link, distance: 0.000000000005885966997681874)>, <Proximity (shape1: shoulder_link, shape2: forearm_link, distance: 0.12978632370734083)>, <Proximity (shape1: shoulder_link, shape2: wrist_1_link, distance: 0.35735048107292106)>, <Proximity (shape1: shoulder_link, shape2: wrist_2_link, distance: 0.3662775226324348)>, <Proximity (shape1: shoulder_link, shape2: wrist_3_link, distance: 0.38774332134083267)>, <Proximity (shape1: upper_arm_link, shape2: forearm_link, distance: 0)>, <Proximity (shape1: upper_arm_link, shape2: wrist_1_link, distance: 0.13675490961460957)>, <Proximity (shape1: upper_arm_link, shape2: wrist_2_link, distance: 0.14767754311445355)>, <Proximity (shape1: upper_arm_link, shape2: wrist_3_link, distance: 0.14651821290522068)>, <Proximity (shape1: forearm_link, shape2: wrist_1_link, distance: 0.0028500000080788554)>, <Proximity (shape1: forearm_link, shape2: wrist_2_link, distance: 0.015414938714023885)>, <Proximity (shape1: forearm_link, shape2: wrist_3_link, distance: 0.0860907288891113)>, <Proximity (shape1: wrist_1_link, shape2: wrist_2_link, distance: 0.007849999999324756)>, <Proximity (shape1: wrist_1_link, shape2: wrist_3_link, distance: 0.014255963452305025)>, <Proximity (shape1: wrist_2_link, shape2: wrist_3_link, distance: 0.0049000000020510154)>]\n"
     ]
    }
   ],
   "source": [
    "state = solver.solve(goals=[Translation(0.47, 0.0, 0.73), None, None],weights=[None,] ,time=0.0)\n",
    "print(state.proximity)"
   ]
  },
  {
   "cell_type": "code",
   "execution_count": 7,
   "metadata": {},
   "outputs": [
    {
     "name": "stdout",
     "output_type": "stream",
     "text": [
      "{'wrist_2_link': <builtins.TransformInfo object at 0x0000011C30A770C0>, 'tool0': <builtins.TransformInfo object at 0x0000011C30A775D0>, 'shoulder_link': <builtins.TransformInfo object at 0x0000011C30A77660>, 'forearm_link': <builtins.TransformInfo object at 0x0000011C30A776F0>, 'wrist_3_link': <builtins.TransformInfo object at 0x0000011C30A77780>, 'wrist_1_link': <builtins.TransformInfo object at 0x0000011C30A77810>, 'upper_arm_link': <builtins.TransformInfo object at 0x0000011C30A778A0>, 'base': <builtins.TransformInfo object at 0x0000011C30A77930>, 'flange': <builtins.TransformInfo object at 0x0000011C30A779C0>, 'base_link': <builtins.TransformInfo object at 0x0000011C30A77A50>}\n"
     ]
    },
    {
     "ename": "AttributeError",
     "evalue": "'builtins.TransformInfo' object has no attribute 'translation'",
     "output_type": "error",
     "traceback": [
      "\u001b[1;31m---------------------------------------------------------------------------\u001b[0m",
      "\u001b[1;31mAttributeError\u001b[0m                            Traceback (most recent call last)",
      "\u001b[1;32mc:\\Users\\Hunte\\Desktop\\lively_tk\\tests\\toolkit_testing.ipynb Cell 7\u001b[0m in \u001b[0;36m<cell line: 2>\u001b[1;34m()\u001b[0m\n\u001b[0;32m      <a href='vscode-notebook-cell:/c%3A/Users/Hunte/Desktop/lively_tk/tests/toolkit_testing.ipynb#ch0000006?line=0'>1</a>\u001b[0m \u001b[39mprint\u001b[39m(state\u001b[39m.\u001b[39mframes)\n\u001b[1;32m----> <a href='vscode-notebook-cell:/c%3A/Users/Hunte/Desktop/lively_tk/tests/toolkit_testing.ipynb#ch0000006?line=1'>2</a>\u001b[0m state\u001b[39m.\u001b[39;49mframes[\u001b[39m'\u001b[39;49m\u001b[39mwrist_3_link\u001b[39;49m\u001b[39m'\u001b[39;49m]\u001b[39m.\u001b[39;49mtranslation\n",
      "\u001b[1;31mAttributeError\u001b[0m: 'builtins.TransformInfo' object has no attribute 'translation'"
     ]
    }
   ],
   "source": [
    "print(state.frames)\n",
    "state.frames['wrist_3_link'].translation"
   ]
  },
  {
   "cell_type": "code",
   "execution_count": 8,
   "metadata": {},
   "outputs": [],
   "source": [
    "file.close();\n"
   ]
  },
  {
   "cell_type": "code",
   "execution_count": 9,
   "metadata": {},
   "outputs": [],
   "source": [
    "with open('./ur3e.xml') as staticEnvFile:\n",
    "    staticData = staticEnvFile.read()"
   ]
  },
  {
   "cell_type": "code",
   "execution_count": 12,
   "metadata": {},
   "outputs": [
    {
     "name": "stdout",
     "output_type": "stream",
     "text": [
      "[<Proximity (shape1: base_link, shape2: shoulder_link, distance: 0.011900000000000008)>, <Proximity (shape1: base_link, shape2: upper_arm_link, distance: 0.016899999986668288)>, <Proximity (shape1: base_link, shape2: forearm_link, distance: 0.14702234917501628)>, <Proximity (shape1: base_link, shape2: wrist_1_link, distance: 0.3710184812068406)>, <Proximity (shape1: base_link, shape2: wrist_2_link, distance: 0.3554284708481469)>, <Proximity (shape1: base_link, shape2: wrist_3_link, distance: 0.3812807902740204)>, <Proximity (shape1: shoulder_link, shape2: upper_arm_link, distance: 0.000000000002055799977036611)>, <Proximity (shape1: shoulder_link, shape2: forearm_link, distance: 0.14364976634097065)>, <Proximity (shape1: shoulder_link, shape2: wrist_1_link, distance: 0.37051022643806136)>, <Proximity (shape1: shoulder_link, shape2: wrist_2_link, distance: 0.35747975526090364)>, <Proximity (shape1: shoulder_link, shape2: wrist_3_link, distance: 0.3831957355366715)>, <Proximity (shape1: upper_arm_link, shape2: forearm_link, distance: 0)>, <Proximity (shape1: upper_arm_link, shape2: wrist_1_link, distance: 0.1369000024932745)>, <Proximity (shape1: upper_arm_link, shape2: wrist_2_link, distance: 0.1523642608834095)>, <Proximity (shape1: upper_arm_link, shape2: wrist_3_link, distance: 0.15236416540636172)>, <Proximity (shape1: forearm_link, shape2: wrist_1_link, distance: 0.002850000003403919)>, <Proximity (shape1: forearm_link, shape2: wrist_2_link, distance: 0.015366059641951473)>, <Proximity (shape1: forearm_link, shape2: wrist_3_link, distance: 0.0861317516640697)>, <Proximity (shape1: wrist_1_link, shape2: wrist_2_link, distance: 0.007849999999324177)>, <Proximity (shape1: wrist_1_link, shape2: wrist_3_link, distance: 0.014255963649762966)>, <Proximity (shape1: wrist_2_link, shape2: wrist_3_link, distance: 0.004900000002050801)>]\n"
     ]
    }
   ],
   "source": [
    "solver = Solver(\n",
    "   staticData, \n",
    "    [\n",
    "        PositionMatchObjective(name=\"EE Position\", weight=20, link=\"wrist_3_link\"),\n",
    "        CollisionAvoidanceObjective(name=\"Collision Avoidance\", weight=10),\n",
    "        SmoothnessMacroObjective(name=\"Smoothness\", weight=10)\n",
    "    ],\n",
    "    [ScalarRange(value = 0, delta = 0), \n",
    "     ScalarRange(value = -0.15, delta = 0), \n",
    "     ScalarRange(value = 0, delta = 0), \n",
    "     ScalarRange(value = 0, delta = 0), \n",
    "     ScalarRange(value = 0, delta = 0), \n",
    "     ScalarRange(value = 0, delta = 0),\n",
    "     ],\n",
    "     [\n",
    "      BoxShape(name = \"conveyorCollisionShapeBase\", frame=\"world\", physical = True, x = 1.0, y = 1.1, z = 1.7, local_transform = Transform(translation = Translation( 1.7497281999999998,-0.24972819999999987,0.050000000000000044), rotation = Rotation(0,0,-0.7069999677447771,0.7072135784958345))),\n",
    "      BoxShape(name = \"conveyorCollisionShapeBelt\", frame=\"world\", physical = True, x = 0.75, y = 0.65, z = 0.25, local_transform = Transform(translation = Translation( 0.9499698,-0.2499698,0.050000000000000044), rotation = Rotation(0,0,-0.7069999677447772,0.7072135784958345))),\n",
    "      BoxShape(name = \"conveyorRecieverCollisionShapeBase\", frame=\"world\", physical = True, x = 0.75, y = 0.25, z = 0.7, local_transform = Transform(translation = Translation( -0.5500906000000001,-0.25009060000000005, -0.45), rotation = Rotation(0,0,0.7069999677447771,0.7072135784958345))),\n",
    "      BoxShape(name = \"conveyorRecieverCollisionShapeLeftSplit\", frame=\"world\", physical = True, x = 0.3, y = 0.155, z = 0.165, local_transform = Transform(translation = Translation(  -0.59013137,-0.42502567,-0.025000000000000022), rotation = Rotation(0,0,0.7069999677447772,0.7072135784958345))),\n",
    "      BoxShape(name = \"conveyorRecieverCollisionShapeRightSplit\", frame=\"world\", physical = True, x = 0.3, y = 0.155, z = 0.165, local_transform = Transform(translation = Translation(-0.59002567,-0.07513137000000006,-0.025000000000000022), rotation = Rotation(0,0,0.7069999677447772,0.7072135784958345))),\n",
    "      BoxShape(name =\"conveyorDispatcherCollisionShapeBase\", frame=\"world\", physical = True, x = 0.75, y = 0.35, z = 0.9, local_transform = Transform(translation = Translation(0.6000755,-0.2500755,-0.3), rotation = Rotation(0,0,-0.7069999677447771,0.7072135784958345))),\n",
    "      BoxShape(name =\"conveyorDispatcherCollisionShapeLeftSplit\", frame=\"world\", physical = True, x = 0.255, y = 0.275, z = 0.175, local_transform = Transform(translation = Translation(0.65000755,-0.07511325000000005,0.22499999999999998), rotation = Rotation(0,0,-0.7069999677447771,0.7072135784958345))),\n",
    "      BoxShape(name =\"conveyorDispatcherCollisionShapeRightSplit\", frame=\"world\", physical = True, x = 0.29, y = 0.275, z = 0.175, local_transform = Transform(translation = Translation(0.65011325,-0.42500755,0.22499999999999998), rotation = Rotation(0,0,-0.7069999677447771,0.7072135784958345))),\n",
    "      BoxShape(name =\"tableCollisionShapeTop\", frame=\"world\", physical = True, x = 0.1225, y = 0.625, z = 0.05, local_transform = Transform(translation = Translation(0,0.36,-0.010000000000000009), rotation = Rotation(0,0,0,1))),\n",
    "      BoxShape(name =\"tableCollisionShapeFrontLeftLeg\", frame=\"world\", physical = True, x = 0.05, y = 0.05, z = 0.75, local_transform = Transform(translation = Translation(-0.585,0.07,-0.395), rotation = Rotation(0,0,0,1))),\n",
    "      BoxShape(name =\"tableCollisionShapeRearLeftLeg\", frame=\"world\", physical = True, x = 0.05, y = 0.05, z = 0.75, local_transform = Transform(translation = Translation(-0.585,0.6499999999999999,-0.585), rotation = Rotation(0,0,0,1))),\n",
    "      BoxShape(name =\"tableCollisionShapeRearRightLeg\", frame=\"world\", physical = True, x = 0.05, y = 0.05, z = 0.75, local_transform = Transform(translation = Translation(0.585,0.7,-0.395), rotation = Rotation(0,0,0,1))), \n",
    "      BoxShape(name =\"pedestalCollisionShapeBase\", frame=\"world\", physical = True, x = 0.65, y = 0.65, z = 0.15, local_transform = Transform(translation = Translation(0,-0.15,-0.7150000000000001), rotation = Rotation(0,0,0,1))),\n",
    "      BoxShape(name =\"pedestalCollisionShapeTower\", frame=\"world\", physical = True, x = 0.1, y = 0.1, z = 0.7, local_transform = Transform(translation = Translation(0,-0.15,-0.33), rotation = Rotation(0,0,0,1))),\n",
    "      BoxShape(name =\"mk2CollisionShapeLeftVertical\", frame=\"world\", physical = True, x = 0.125, y = 0.185, z = 0.4, local_transform = Transform(translation = Translation(-0.46,0.42000000000000004,0.22500000000000003), rotation = Rotation(0,0,0,1))),\n",
    "      BoxShape(name =\"mk2CollisionShapeRightVertical\", frame=\"world\", physical = True, x = 0.125, y = 0.225, z = 0.4, local_transform = Transform(translation = Translation(-0.10000000000000003,0.445,0.22500000000000003), rotation = Rotation(0,0,0,1))),\n",
    "      BoxShape(name =\"mk2CollisionShapeBase\", frame=\"world\", physical = True, x = 0.4, y = 0.4, z = 0.1, local_transform = Transform(translation = Translation( -0.28,0.32,0.050000000000000044), rotation = Rotation(0,0,0,1))),\n",
    "      BoxShape(name =\"mk2CollisionShapeSpool\", frame=\"world\", physical = True, x = 0.4, y = 0.25, z = 0.25, local_transform = Transform(translation = Translation( -0.28, 0.445,0.48000000000000004), rotation = Rotation(0,0,0,1))),  \n",
    "     ],\n",
    "    #  State(origin = Transform(translation = Translation(0,-0,15,0), rotation = Rotation(0,0,0,1),joints = {\n",
    "    #     \"elbow_joint\": -1.57,\n",
    "    #     \"shoulder_lift_joint\": -0.55,\n",
    "    #     \"shoulder_pan_joint\": 1.57,\n",
    "    #     \"wrist_1_joint\": -2.13,\n",
    "    #     \"wrist_2_joint\": 1.6,\n",
    "    #     \"wrist_3_joint\": -0.2\n",
    "    # }))\n",
    "     \n",
    "    \n",
    ")\n",
    "state = solver.solve(goals=[Translation(0.47, 0.0, 0.73),None,None], weights=[None,],time=0.0)\n",
    "print(state.proximity)"
   ]
  },
  {
   "cell_type": "code",
   "execution_count": null,
   "metadata": {},
   "outputs": [],
   "source": [
    "solver.current_state"
   ]
  },
  {
   "cell_type": "code",
   "execution_count": null,
   "metadata": {},
   "outputs": [],
   "source": []
  },
  {
   "cell_type": "code",
   "execution_count": null,
   "metadata": {},
   "outputs": [],
   "source": []
  },
  {
   "cell_type": "code",
   "execution_count": null,
   "metadata": {},
   "outputs": [],
   "source": []
  },
  {
   "cell_type": "code",
   "execution_count": null,
   "metadata": {},
   "outputs": [],
   "source": []
  },
  {
   "cell_type": "code",
   "execution_count": null,
   "metadata": {},
   "outputs": [],
   "source": []
  },
  {
   "cell_type": "code",
   "execution_count": null,
   "metadata": {},
   "outputs": [],
   "source": []
  },
  {
   "cell_type": "code",
   "execution_count": null,
   "metadata": {},
   "outputs": [],
   "source": []
  },
  {
   "cell_type": "code",
   "execution_count": null,
   "metadata": {},
   "outputs": [],
   "source": []
  },
  {
   "cell_type": "code",
   "execution_count": null,
   "metadata": {},
   "outputs": [],
   "source": []
  },
  {
   "cell_type": "code",
   "execution_count": null,
   "metadata": {},
   "outputs": [],
   "source": []
  }
 ],
 "metadata": {
  "kernelspec": {
   "display_name": "Python 3.9.6 64-bit",
   "language": "python",
   "name": "python3"
  },
  "language_info": {
   "codemirror_mode": {
    "name": "ipython",
    "version": 3
   },
   "file_extension": ".py",
   "mimetype": "text/x-python",
   "name": "python",
   "nbconvert_exporter": "python",
   "pygments_lexer": "ipython3",
   "version": "3.9.6"
  },
  "vscode": {
   "interpreter": {
    "hash": "81794d4967e6c3204c66dcd87b604927b115b27c00565d3d43f05ba2f3a2cb0d"
   }
  }
 },
 "nbformat": 4,
 "nbformat_minor": 4
}
