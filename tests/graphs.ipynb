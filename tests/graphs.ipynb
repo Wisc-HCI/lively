{
 "cells": [
  {
   "cell_type": "code",
   "execution_count": null,
   "metadata": {},
   "outputs": [],
   "source": [
    "import matplotlib.pyplot as plt\n",
    "from mpl_toolkits.mplot3d import Axes3D\n",
    "import matplotlib.font_manager as fm\n",
    "import matplotlib as mpl\n",
    "import numpy as np\n",
    "\n",
    "X = np.array([0,10,20,30,40,50,60,70,80,90,100])\n",
    "UR3 = np.array([3.791121,7.255723,11.417289,14.563093, 14.038595,14.517183,14.584296,12.351893,12.351893,10.455734,15.490992])\n",
    "PEPPER= np.array([6.235321,11.708887,17.932518,19.17999,18.676548,18.221565,18.441036,18.968757,18.881295,18.475929,19.41629])\n",
    "PANDA = np.array([5.68525,10.839986,13.993162,14.482113,14.524839,14.743568,14.821137,14.793453,15.855974,14.955604,15.173285])\n",
    "\n",
    "fig,ax = plt.subplots() \n",
    "\n",
    "\n",
    "ax.plot(X,UR3,label = \"ur3\");\n",
    "ax.plot(X,PEPPER, color = 'red',label = \"pepper\");\n",
    "ax.plot(X,PANDA, color = 'green',label = \"panda\");\n",
    "fig.set_figheight(2)\n",
    "fig.set_figwidth(5)\n",
    "\n",
    "#ax.set_xticklabels(X.astype(int))\n",
    "plt.title(\"Run Time for Robots\")\n",
    "plt.xlabel(\"Number of environmental shapes\")\n",
    "plt.ylabel(\"Time(ms)\")\n",
    "plt.legend(loc=\"lower right\")\n",
    "plt.savefig(\"./graph.pdf\",bbox_inches=\"tight\")\n",
    "plt.show()\n",
    "\n",
    "\n",
    "# fig.set_size_inches(18.5, 10.5)\n",
    "# fig.savefig('test2png.png', dpi=100)\n",
    "\n",
    "\n",
    "# ax.title.set_size(20)\n",
    "# ax.xaxis.label.set_size(16)\n",
    "# ax.yaxis.label.set_size(16)\n",
    "# ax.tick_params(axis='x', labelsize=12)\n",
    "# ax.tick_params(axis='y', labelsize=12)\n",
    "\n",
    "#ax.legend(('Experimental', 'Control'), ncol=2,prop=minionpro, fontsize=17, loc=9)\n",
    "\n",
    "\n",
    "\n",
    "\n"
   ]
  }
 ],
 "metadata": {
  "kernelspec": {
   "display_name": "Python 3.8.8 ('base')",
   "language": "python",
   "name": "python3"
  },
  "language_info": {
   "codemirror_mode": {
    "name": "ipython",
    "version": 3
   },
   "file_extension": ".py",
   "mimetype": "text/x-python",
   "name": "python",
   "nbconvert_exporter": "python",
   "pygments_lexer": "ipython3",
   "version": "3.8.8"
  },
  "orig_nbformat": 4,
  "vscode": {
   "interpreter": {
    "hash": "d63fb22d2eb77a4d242eaa81b607b4036aaf35ce987638ccbb395621be85a420"
   }
  }
 },
 "nbformat": 4,
 "nbformat_minor": 2
}
