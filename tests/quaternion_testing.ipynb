{
 "cells": [
  {
   "cell_type": "code",
   "execution_count": 2,
   "source": [
    "import pyquaternion\n",
    "import math"
   ],
   "outputs": [],
   "metadata": {}
  },
  {
   "cell_type": "code",
   "execution_count": 5,
   "source": [
    "def quaternionLog(quaternion):\n",
    "  '''\n",
    "  Returns the log map vec3 of quaternion\n",
    "  quaternion list is [w x y z]\n",
    "  :param quaternion:\n",
    "  :return:\n",
    "  '''\n",
    "  v = [quaternion[1], quaternion[2], quaternion[3]]\n",
    "  if (abs(quaternion[0]) < 1.0):\n",
    "    a = math.acos(quaternion[0])\n",
    "    if (math.isnan(a)):\n",
    "      a = 1.0\n",
    "    sina = math.sin(a)\n",
    "    if (abs(sina) >= 0.005):\n",
    "      c = a/sina\n",
    "      v[0] *= c\n",
    "      v[1] *= c\n",
    "      v[2] *= c\n",
    "  return v\n",
    "\n",
    "def quaternionExp(vec3):\n",
    "    '''\n",
    "    Returns the exponentiated quaternion from rotation vector vec3\n",
    "    :param vec3:\n",
    "    :return: quaternion in format [w x y z]\n",
    "    '''\n",
    "    q = [1.0, vec3[0], vec3[1], vec3[2]]\n",
    "    a = math.sqrt(math.pow(q[0],2)+math.pow(q[1],2)+math.pow(q[2],2)+math.pow(q[3],2))\n",
    "    sina = math.sin(a)\n",
    "    if (abs(sina) >= 0.005):\n",
    "      c = sina/a\n",
    "      q[1] *= c\n",
    "      q[2] *= c\n",
    "      q[3] *= c\n",
    "\n",
    "    q[0] = math.cos(a)\n",
    "\n",
    "    return q"
   ],
   "outputs": [],
   "metadata": {}
  },
  {
   "cell_type": "code",
   "execution_count": 13,
   "source": [
    "quaternionExp([-math.pi,0,0])"
   ],
   "outputs": [
    {
     "output_type": "execute_result",
     "data": {
      "text/plain": [
       "[-0.9879627505659927, 0.1474045043710227, -0.0, -0.0]"
      ]
     },
     "metadata": {},
     "execution_count": 13
    }
   ],
   "metadata": {}
  },
  {
   "cell_type": "code",
   "execution_count": 14,
   "source": [
    "quaternionLog([0,-1,0,0])"
   ],
   "outputs": [
    {
     "output_type": "execute_result",
     "data": {
      "text/plain": [
       "[-1.5707963267948966, 0.0, 0.0]"
      ]
     },
     "metadata": {},
     "execution_count": 14
    }
   ],
   "metadata": {}
  },
  {
   "cell_type": "code",
   "execution_count": 16,
   "source": [
    "math.pi/2"
   ],
   "outputs": [
    {
     "output_type": "execute_result",
     "data": {
      "text/plain": [
       "1.5707963267948966"
      ]
     },
     "metadata": {},
     "execution_count": 16
    }
   ],
   "metadata": {}
  },
  {
   "cell_type": "code",
   "execution_count": null,
   "source": [],
   "outputs": [],
   "metadata": {}
  }
 ],
 "metadata": {
  "orig_nbformat": 4,
  "language_info": {
   "name": "python",
   "version": "3.8.10",
   "mimetype": "text/x-python",
   "codemirror_mode": {
    "name": "ipython",
    "version": 3
   },
   "pygments_lexer": "ipython3",
   "nbconvert_exporter": "python",
   "file_extension": ".py"
  },
  "kernelspec": {
   "name": "python3",
   "display_name": "Python 3.8.10 64-bit"
  },
  "interpreter": {
   "hash": "aee8b7b246df8f9039afb4144a1f6fd8d2ca17a180786b69acc140d282b71a49"
  }
 },
 "nbformat": 4,
 "nbformat_minor": 2
}