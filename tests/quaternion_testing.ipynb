{
 "cells": [
  {
   "cell_type": "code",
   "execution_count": 2,
   "metadata": {},
   "outputs": [],
   "source": [
    "import pyquaternion\n",
    "import math"
   ]
  },
  {
   "cell_type": "code",
   "execution_count": 5,
   "metadata": {},
   "outputs": [],
   "source": [
    "def quaternionLog(quaternion):\n",
    "  '''\n",
    "  Returns the log map vec3 of quaternion\n",
    "  quaternion list is [w x y z]\n",
    "  :param quaternion:\n",
    "  :return:\n",
    "  '''\n",
    "  v = [quaternion[1], quaternion[2], quaternion[3]]\n",
    "  if (abs(quaternion[0]) < 1.0):\n",
    "    a = math.acos(quaternion[0])\n",
    "    if (math.isnan(a)):\n",
    "      a = 1.0\n",
    "    sina = math.sin(a)\n",
    "    if (abs(sina) >= 0.005):\n",
    "      c = a/sina\n",
    "      v[0] *= c\n",
    "      v[1] *= c\n",
    "      v[2] *= c\n",
    "  return v\n",
    "\n",
    "def quaternionExp(vec3):\n",
    "    '''\n",
    "    Returns the exponentiated quaternion from rotation vector vec3\n",
    "    :param vec3:\n",
    "    :return: quaternion in format [w x y z]\n",
    "    '''\n",
    "    q = [1.0, vec3[0], vec3[1], vec3[2]]\n",
    "    a = math.sqrt(math.pow(q[0],2)+math.pow(q[1],2)+math.pow(q[2],2)+math.pow(q[3],2))\n",
    "    sina = math.sin(a)\n",
    "    if (abs(sina) >= 0.005):\n",
    "      c = sina/a\n",
    "      q[1] *= c\n",
    "      q[2] *= c\n",
    "      q[3] *= c\n",
    "\n",
    "    q[0] = math.cos(a)\n",
    "\n",
    "    return q"
   ]
  },
  {
   "cell_type": "code",
   "execution_count": 13,
   "metadata": {},
   "outputs": [
    {
     "data": {
      "text/plain": [
       "[-0.9879627505659927, 0.1474045043710227, -0.0, -0.0]"
      ]
     },
     "execution_count": 13,
     "metadata": {},
     "output_type": "execute_result"
    }
   ],
   "source": [
    "quaternionExp([-math.pi,0,0])"
   ]
  },
  {
   "cell_type": "code",
   "execution_count": 14,
   "metadata": {},
   "outputs": [
    {
     "data": {
      "text/plain": [
       "[-1.5707963267948966, 0.0, 0.0]"
      ]
     },
     "execution_count": 14,
     "metadata": {},
     "output_type": "execute_result"
    }
   ],
   "source": [
    "quaternionLog([0,-1,0,0])"
   ]
  },
  {
   "cell_type": "code",
   "execution_count": 16,
   "metadata": {},
   "outputs": [
    {
     "data": {
      "text/plain": [
       "1.5707963267948966"
      ]
     },
     "execution_count": 16,
     "metadata": {},
     "output_type": "execute_result"
    }
   ],
   "source": [
    "math.pi/2"
   ]
  },
  {
   "cell_type": "code",
   "execution_count": null,
   "metadata": {},
   "outputs": [],
   "source": []
  }
 ],
 "metadata": {
  "interpreter": {
   "hash": "aee8b7b246df8f9039afb4144a1f6fd8d2ca17a180786b69acc140d282b71a49"
  },
  "kernelspec": {
   "display_name": "Python 3.8.10 64-bit",
   "name": "python3"
  },
  "language_info": {
   "codemirror_mode": {
    "name": "ipython",
    "version": 3
   },
   "file_extension": ".py",
   "mimetype": "text/x-python",
   "name": "python",
   "nbconvert_exporter": "python",
   "pygments_lexer": "ipython3",
   "version": "3.10.0"
  },
  "orig_nbformat": 4
 },
 "nbformat": 4,
 "nbformat_minor": 2
}
